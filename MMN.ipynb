{
  "cells": [
    {
      "cell_type": "markdown",
      "metadata": {
        "id": "view-in-github",
        "colab_type": "text"
      },
      "source": [
        "<a href=\"https://colab.research.google.com/github/Shenzzzz1980/Detection-of-ERP-via-Deep-learning/blob/main/MMN.ipynb\" target=\"_parent\"><img src=\"https://colab.research.google.com/assets/colab-badge.svg\" alt=\"Open In Colab\"/></a>"
      ]
    },
    {
      "cell_type": "markdown",
      "metadata": {
        "id": "WOh3X9NEUkX0"
      },
      "source": [
        "1. Import uploaded dataset from GitHub into Colab"
      ]
    },
    {
      "cell_type": "code",
      "execution_count": null,
      "metadata": {
        "colab": {
          "base_uri": "https://localhost:8080/"
        },
        "id": "poqdEGnVPtwo",
        "outputId": "9b170ef9-9aad-4f11-ec15-4eac103bb253"
      },
      "outputs": [
        {
          "output_type": "stream",
          "name": "stdout",
          "text": [
            "Looking in indexes: https://pypi.org/simple, https://us-python.pkg.dev/colab-wheels/public/simple/\n",
            "Collecting mne\n",
            "  Downloading mne-1.4.2-py3-none-any.whl (7.7 MB)\n",
            "\u001b[2K     \u001b[90m━━━━━━━━━━━━━━━━━━━━━━━━━━━━━━━━━━━━━━━━\u001b[0m \u001b[32m7.7/7.7 MB\u001b[0m \u001b[31m54.0 MB/s\u001b[0m eta \u001b[36m0:00:00\u001b[0m\n",
            "\u001b[?25hRequirement already satisfied: numpy>=1.15.4 in /usr/local/lib/python3.10/dist-packages (from mne) (1.22.4)\n",
            "Requirement already satisfied: scipy>=1.6.3 in /usr/local/lib/python3.10/dist-packages (from mne) (1.10.1)\n",
            "Requirement already satisfied: matplotlib>=3.4.0 in /usr/local/lib/python3.10/dist-packages (from mne) (3.7.1)\n",
            "Requirement already satisfied: tqdm in /usr/local/lib/python3.10/dist-packages (from mne) (4.65.0)\n",
            "Requirement already satisfied: pooch>=1.5 in /usr/local/lib/python3.10/dist-packages (from mne) (1.6.0)\n",
            "Requirement already satisfied: decorator in /usr/local/lib/python3.10/dist-packages (from mne) (4.4.2)\n",
            "Requirement already satisfied: packaging in /usr/local/lib/python3.10/dist-packages (from mne) (23.1)\n",
            "Requirement already satisfied: jinja2 in /usr/local/lib/python3.10/dist-packages (from mne) (3.1.2)\n",
            "Requirement already satisfied: contourpy>=1.0.1 in /usr/local/lib/python3.10/dist-packages (from matplotlib>=3.4.0->mne) (1.0.7)\n",
            "Requirement already satisfied: cycler>=0.10 in /usr/local/lib/python3.10/dist-packages (from matplotlib>=3.4.0->mne) (0.11.0)\n",
            "Requirement already satisfied: fonttools>=4.22.0 in /usr/local/lib/python3.10/dist-packages (from matplotlib>=3.4.0->mne) (4.39.3)\n",
            "Requirement already satisfied: kiwisolver>=1.0.1 in /usr/local/lib/python3.10/dist-packages (from matplotlib>=3.4.0->mne) (1.4.4)\n",
            "Requirement already satisfied: pillow>=6.2.0 in /usr/local/lib/python3.10/dist-packages (from matplotlib>=3.4.0->mne) (8.4.0)\n",
            "Requirement already satisfied: pyparsing>=2.3.1 in /usr/local/lib/python3.10/dist-packages (from matplotlib>=3.4.0->mne) (3.0.9)\n",
            "Requirement already satisfied: python-dateutil>=2.7 in /usr/local/lib/python3.10/dist-packages (from matplotlib>=3.4.0->mne) (2.8.2)\n",
            "Requirement already satisfied: appdirs>=1.3.0 in /usr/local/lib/python3.10/dist-packages (from pooch>=1.5->mne) (1.4.4)\n",
            "Requirement already satisfied: requests>=2.19.0 in /usr/local/lib/python3.10/dist-packages (from pooch>=1.5->mne) (2.27.1)\n",
            "Requirement already satisfied: MarkupSafe>=2.0 in /usr/local/lib/python3.10/dist-packages (from jinja2->mne) (2.1.2)\n",
            "Requirement already satisfied: six>=1.5 in /usr/local/lib/python3.10/dist-packages (from python-dateutil>=2.7->matplotlib>=3.4.0->mne) (1.16.0)\n",
            "Requirement already satisfied: urllib3<1.27,>=1.21.1 in /usr/local/lib/python3.10/dist-packages (from requests>=2.19.0->pooch>=1.5->mne) (1.26.15)\n",
            "Requirement already satisfied: certifi>=2017.4.17 in /usr/local/lib/python3.10/dist-packages (from requests>=2.19.0->pooch>=1.5->mne) (2022.12.7)\n",
            "Requirement already satisfied: charset-normalizer~=2.0.0 in /usr/local/lib/python3.10/dist-packages (from requests>=2.19.0->pooch>=1.5->mne) (2.0.12)\n",
            "Requirement already satisfied: idna<4,>=2.5 in /usr/local/lib/python3.10/dist-packages (from requests>=2.19.0->pooch>=1.5->mne) (3.4)\n",
            "Installing collected packages: mne\n",
            "Successfully installed mne-1.4.2\n",
            "Looking in indexes: https://pypi.org/simple, https://us-python.pkg.dev/colab-wheels/public/simple/\n",
            "Requirement already satisfied: h5py in /usr/local/lib/python3.10/dist-packages (3.8.0)\n",
            "Requirement already satisfied: numpy>=1.14.5 in /usr/local/lib/python3.10/dist-packages (from h5py) (1.22.4)\n",
            "--2023-06-23 08:49:42--  https://github.com/Shenzzzz1980/dataset/archive/refs/heads/main.zip\n",
            "Resolving github.com (github.com)... 140.82.114.4\n",
            "Connecting to github.com (github.com)|140.82.114.4|:443... connected.\n",
            "HTTP request sent, awaiting response... 302 Found\n",
            "Location: https://codeload.github.com/Shenzzzz1980/dataset/zip/refs/heads/main [following]\n",
            "--2023-06-23 08:49:42--  https://codeload.github.com/Shenzzzz1980/dataset/zip/refs/heads/main\n",
            "Resolving codeload.github.com (codeload.github.com)... 140.82.114.9\n",
            "Connecting to codeload.github.com (codeload.github.com)|140.82.114.9|:443... connected.\n",
            "HTTP request sent, awaiting response... 200 OK\n",
            "Length: unspecified [application/zip]\n",
            "Saving to: ‘/tmp/datasets.zip’\n",
            "\n",
            "/tmp/datasets.zip       [   <=>              ]   2.73M  5.80MB/s    in 0.5s    \n",
            "\n",
            "2023-06-23 08:49:43 (5.80 MB/s) - ‘/tmp/datasets.zip’ saved [2865491]\n",
            "\n"
          ]
        }
      ],
      "source": [
        "!pip install mne\n",
        "!pip install h5py\n",
        "import zipfile\n",
        "import os\n",
        "import numpy as np\n",
        "import matplotlib.pyplot as plt\n",
        "import pandas as pd\n",
        "\n",
        "\n",
        "!wget --no-check-certificate \\\n",
        "    \"https://github.com/Shenzzzz1980/dataset/archive/refs/heads/main.zip\" \\\n",
        "    -O \"/tmp/datasets.zip\"\n",
        "\n",
        "\n",
        "zip_ref = zipfile.ZipFile('/tmp/datasets.zip', 'r') #Opens the zip file in read mode\n",
        "zip_ref.extractall('/tmp') #Extracts the files into the /tmp folder\n",
        "zip_ref.close()\n"
      ]
    },
    {
      "cell_type": "markdown",
      "metadata": {
        "id": "NBIETfK0tE-d"
      },
      "source": [
        "2. Create training data and validation data"
      ]
    },
    {
      "cell_type": "code",
      "execution_count": null,
      "metadata": {
        "colab": {
          "base_uri": "https://localhost:8080/"
        },
        "id": "9rG7Ef0hlwdv",
        "outputId": "a30de1f0-27ba-4a59-f841-0ca6db891453"
      },
      "outputs": [
        {
          "output_type": "execute_result",
          "data": {
            "text/plain": [
              "(2870, 30)"
            ]
          },
          "metadata": {},
          "execution_count": 2
        }
      ],
      "source": [
        "import mne\n",
        "import csv\n",
        "import pandas as pd\n",
        "import glob\n",
        "\n",
        "path1 = \"/tmp/dataset-main/mmn_train_x/deviant\"\n",
        "deviant = glob.glob(path1 + '**/*.csv',recursive=True)\n",
        "\n",
        "path2 = \"/tmp/dataset-main/mmn_train_x/standard\"\n",
        "standard = glob.glob(path2 + '**/*.csv',recursive=True)\n",
        "\n",
        "#read the csv file of both standard and deviant training datasets\n",
        "list_deviant = [pd.read_csv (d1, index_col=None, header=0) for d1 in deviant]\n",
        "df_deviant = pd.concat(list_deviant, axis=0, ignore_index=True)\n",
        "\n",
        "list_standard = [pd.read_csv (s1, index_col=None, header=0) for s1 in standard]\n",
        "df_standard = pd.concat(list_standard, axis=0, ignore_index=True)\n",
        "\n",
        "#combine the deviant and standard datasets for training\n",
        "train = [df_deviant, df_standard]\n",
        "trainf = pd.concat(train)\n",
        "\n",
        "path3 = \"/tmp/dataset-main/mmn_test_x/deviant\"\n",
        "deviant_test = glob.glob(path3 + '**/*.csv',recursive=True)\n",
        "\n",
        "path4 = \"/tmp/dataset-main/mmn_test_x/standard\"\n",
        "standard_test = glob.glob(path4 + '**/*.csv',recursive=True)\n",
        "\n",
        "#read the csv file of both standard and deviant testing datasets\n",
        "list_deviant_test = [pd.read_csv (d2, index_col=None, header=0) for d2 in deviant_test]\n",
        "df_deviant_test = pd.concat(list_deviant_test, axis=0, ignore_index=True)\n",
        "\n",
        "list_standard_test = [pd.read_csv (s2, index_col=None, header=0) for s2 in standard_test]\n",
        "df_standard_test = pd.concat(list_standard_test, axis=0, ignore_index=True)\n",
        "\n",
        "#combine the deviant and standard datasets for testing\n",
        "test = [df_deviant_test, df_standard_test]\n",
        "testf = pd.concat(test)\n",
        "\n",
        "trainf.shape\n",
        "testf.shape"
      ]
    },
    {
      "cell_type": "markdown",
      "metadata": {
        "id": "RUZVye_6uR2A"
      },
      "source": [
        "3. Create the labels for both training and validation data"
      ]
    },
    {
      "cell_type": "code",
      "execution_count": null,
      "metadata": {
        "id": "VwEGjRinuP0Q"
      },
      "outputs": [],
      "source": [
        "import tensorflow as tf\n",
        "import cv2\n",
        "\n",
        "d = os.listdir(\"/tmp/dataset-main/mmn_train_x/deviant\")\n",
        "s = os.listdir(\"/tmp/dataset-main/mmn_train_x/standard\")\n",
        "filenames = d + s\n",
        "labels1 = []\n",
        "for filename in filenames:\n",
        "  label1 = filename.split('.')[0]\n",
        "  if label1 == \"Deviants\":\n",
        "    labels1.append(1)\n",
        "  else:\n",
        "    labels1.append(0)\n",
        "\n",
        "ytrain = pd.DataFrame({'filename': filenames,\n",
        "                   'label1': labels1})\n",
        "ytrain.to_csv('y_train.csv')\n",
        "y_train = pd.read_csv('y_train.csv')['label1'].values\n",
        "\n",
        "dtest = os.listdir(\"/tmp/dataset-main/mmn_test_x/deviant\")\n",
        "stest = os.listdir(\"/tmp/dataset-main/mmn_test_x/standard\")\n",
        "ytest = dtest + stest\n",
        "labels2 = []\n",
        "for filename in ytest:\n",
        "  label2 = filename.split('.')[0]\n",
        "  if label2 == \"Deviants\":\n",
        "    labels2.append(1)\n",
        "  else:\n",
        "    labels2.append(0)\n",
        "\n",
        "ytest = pd.DataFrame({'filename': ytest,\n",
        "                   'label2': labels2})\n",
        "ytest.to_csv('y_test.csv')\n",
        "y_val = pd.read_csv('y_test.csv')['label2'].values\n"
      ]
    },
    {
      "cell_type": "markdown",
      "metadata": {
        "id": "8BK6jxHDue-4"
      },
      "source": [
        "4. Reshaping the training and validation data"
      ]
    },
    {
      "cell_type": "code",
      "execution_count": null,
      "metadata": {
        "colab": {
          "base_uri": "https://localhost:8080/"
        },
        "id": "ZeejM5G0V4kS",
        "outputId": "dbc93de7-6411-4df6-c8f8-ecdb336f3315"
      },
      "outputs": [
        {
          "output_type": "stream",
          "name": "stdout",
          "text": [
            "(48, 30, 205, 1)\n",
            "(14, 30, 205, 1)\n",
            "(48,)\n",
            "(14,)\n"
          ]
        }
      ],
      "source": [
        "from tensorflow.keras import utils as np_utils\n",
        "from tensorflow.keras.preprocessing.image import ImageDataGenerator\n",
        "from tensorflow.keras.callbacks import EarlyStopping\n",
        "\n",
        "x_train = trainf\n",
        "x_test = testf\n",
        "\n",
        "\n",
        "x_train = x_train.values\n",
        "x_test = x_test.values\n",
        "\n",
        "x_train   = x_train.reshape(48, 30, 205, 1)\n",
        "x_val     = x_test.reshape(14, 30, 205, 1)\n",
        "\n",
        "print(x_train.shape)\n",
        "print(x_val.shape)\n",
        "print(y_train.shape)\n",
        "print(y_val.shape)\n",
        "\n"
      ]
    },
    {
      "cell_type": "markdown",
      "metadata": {
        "id": "SKslwuwDurSo"
      },
      "source": [
        "5. CNN model building"
      ]
    },
    {
      "cell_type": "code",
      "execution_count": null,
      "metadata": {
        "id": "cgHcvscy3ET4"
      },
      "outputs": [],
      "source": [
        "from tensorflow.keras.models import Model\n",
        "from tensorflow.keras.layers import Dense, Activation, Permute, Dropout\n",
        "from tensorflow.keras.layers import Conv2D, MaxPooling2D, AveragePooling2D\n",
        "from tensorflow.keras.layers import SeparableConv2D, DepthwiseConv2D\n",
        "from tensorflow.keras.layers import BatchNormalization\n",
        "from tensorflow.keras.layers import SpatialDropout2D\n",
        "from tensorflow.keras.regularizers import l1_l2\n",
        "from tensorflow.keras.layers import Input, Flatten\n",
        "from tensorflow.keras.constraints import max_norm\n",
        "from tensorflow.keras import backend as K\n",
        "from tensorflow.keras import utils as np_utils\n",
        "from tensorflow.keras.callbacks import ModelCheckpoint\n",
        "from tensorflow.keras.callbacks import EarlyStopping\n",
        "from tensorflow.keras.models import Sequential\n",
        "from tensorflow.keras.optimizers import Adam\n",
        "from keras.models import load_model\n",
        "from math import floor\n",
        "\n",
        "\n",
        "\n",
        "\n",
        "def EEGNett(nb_classes = 2, Chans = 30, Samples = 205,\n",
        "            dropoutRate = 0.25, kernLength = 32, F1 = 8,\n",
        "            D = 2, F2 = 16, norm_rate = 0.25, dropoutType = 'Dropout'):\n",
        "\n",
        "    input1   = Input(shape = (Chans, Samples, 1))\n",
        "\n",
        "    block1       = Conv2D(F1, (1, kernLength), padding = 'same',\n",
        "                                      input_shape = (Chans, Samples, 1),\n",
        "                                      use_bias = False)(input1)\n",
        "    block1       = BatchNormalization()(block1)\n",
        "    block1       = DepthwiseConv2D((Chans, 1), use_bias = False,\n",
        "                                  depth_multiplier = D,\n",
        "                                  depthwise_constraint = max_norm(1.))(block1)\n",
        "    block1       = BatchNormalization()(block1)\n",
        "    block1       = Activation('elu')(block1)\n",
        "    block1       = AveragePooling2D((1, 5))(block1)\n",
        "    block1       = Dropout(dropoutRate)(block1)\n",
        "\n",
        "    block2       = SeparableConv2D(F2, (1, 16),\n",
        "                              use_bias = False, padding = 'same')(block1)\n",
        "    block2       = BatchNormalization()(block2)\n",
        "    block2       = Activation('elu')(block2)\n",
        "    block2       = AveragePooling2D((1, 5))(block2)\n",
        "    block2       = Dropout(dropoutRate)(block2)\n",
        "\n",
        "    flatten      = Flatten(name = 'flatten')(block2)\n",
        "\n",
        "    dense        = Dense(nb_classes, name = 'dense',\n",
        "                    kernel_constraint = max_norm(norm_rate))(flatten)\n",
        "    softmax     = Activation('softmax', name = 'softmax')(dense)\n",
        "\n",
        "    return Model(inputs=input1, outputs=softmax)\n"
      ]
    },
    {
      "cell_type": "markdown",
      "metadata": {
        "id": "mp5IoZwqu1_3"
      },
      "source": [
        "6. Hyperparameter tuning via bayesian optimization method"
      ]
    },
    {
      "cell_type": "code",
      "execution_count": null,
      "metadata": {
        "colab": {
          "base_uri": "https://localhost:8080/"
        },
        "id": "-pD48gqXaduW",
        "outputId": "10e8ddde-0492-4424-d9b2-6196885f6444"
      },
      "outputs": [
        {
          "output_type": "stream",
          "name": "stdout",
          "text": [
            "Looking in indexes: https://pypi.org/simple, https://us-python.pkg.dev/colab-wheels/public/simple/\n",
            "Collecting bayesian-optimization==1.4.1\n",
            "  Downloading bayesian_optimization-1.4.1-py3-none-any.whl (18 kB)\n",
            "Requirement already satisfied: numpy>=1.9.0 in /usr/local/lib/python3.10/dist-packages (from bayesian-optimization==1.4.1) (1.22.4)\n",
            "Requirement already satisfied: scipy>=1.0.0 in /usr/local/lib/python3.10/dist-packages (from bayesian-optimization==1.4.1) (1.10.1)\n",
            "Requirement already satisfied: scikit-learn>=0.18.0 in /usr/local/lib/python3.10/dist-packages (from bayesian-optimization==1.4.1) (1.2.2)\n",
            "Collecting colorama (from bayesian-optimization==1.4.1)\n",
            "  Downloading colorama-0.4.6-py2.py3-none-any.whl (25 kB)\n",
            "Requirement already satisfied: joblib>=1.1.1 in /usr/local/lib/python3.10/dist-packages (from scikit-learn>=0.18.0->bayesian-optimization==1.4.1) (1.2.0)\n",
            "Requirement already satisfied: threadpoolctl>=2.0.0 in /usr/local/lib/python3.10/dist-packages (from scikit-learn>=0.18.0->bayesian-optimization==1.4.1) (3.1.0)\n",
            "\u001b[33mWARNING: The candidate selected for download or install is a yanked version: 'bayesian-optimization' candidate (version 1.4.1 at https://files.pythonhosted.org/packages/86/71/57ce5c1859e997b6a66fd368fcd940452032c7fb2208371117a693e5f70a/bayesian_optimization-1.4.1-py3-none-any.whl (from https://pypi.org/simple/bayesian-optimization/))\n",
            "Reason for being yanked: https://github.com/fmfn/BayesianOptimization/pull/388\u001b[0m\u001b[33m\n",
            "\u001b[0mInstalling collected packages: colorama, bayesian-optimization\n",
            "Successfully installed bayesian-optimization-1.4.1 colorama-0.4.6\n",
            "|   iter    |  target   | dropou... |    lr     | spatia... | tempor... |\n",
            "-------------------------------------------------------------------------\n",
            "1/1 [==============================] - 0s 36ms/step - loss: 0.4816 - accuracy: 0.8571\n",
            "Test loss: 0.4815727770328522\n",
            "Test accuracy: 0.8571428656578064\n",
            "\n",
            "\n",
            "| \u001b[0m1        \u001b[0m | \u001b[0m0.8571   \u001b[0m | \u001b[0m0.2668   \u001b[0m | \u001b[0m0.007204 \u001b[0m | \u001b[0m1.0      \u001b[0m | \u001b[0m5.814    \u001b[0m |\n",
            "1/1 [==============================] - 0s 39ms/step - loss: 0.3216 - accuracy: 0.8571\n",
            "Test loss: 0.32163456082344055\n",
            "Test accuracy: 0.8571428656578064\n",
            "\n",
            "\n",
            "| \u001b[0m2        \u001b[0m | \u001b[0m0.8571   \u001b[0m | \u001b[0m0.1587   \u001b[0m | \u001b[0m0.0009243\u001b[0m | \u001b[0m1.559    \u001b[0m | \u001b[0m6.073    \u001b[0m |\n",
            "1/1 [==============================] - 0s 35ms/step - loss: 0.1868 - accuracy: 1.0000\n",
            "Test loss: 0.18681354820728302\n",
            "Test accuracy: 1.0\n",
            "\n",
            "\n",
            "| \u001b[95m3        \u001b[0m | \u001b[95m1.0      \u001b[0m | \u001b[95m0.2587   \u001b[0m | \u001b[95m0.005389 \u001b[0m | \u001b[95m2.258    \u001b[0m | \u001b[95m8.111    \u001b[0m |\n",
            "1/1 [==============================] - 0s 52ms/step - loss: 0.3041 - accuracy: 0.8571\n",
            "Test loss: 0.3040597438812256\n",
            "Test accuracy: 0.8571428656578064\n",
            "\n",
            "\n",
            "| \u001b[0m4        \u001b[0m | \u001b[0m0.8571   \u001b[0m | \u001b[0m0.1818   \u001b[0m | \u001b[0m0.008781 \u001b[0m | \u001b[0m1.082    \u001b[0m | \u001b[0m8.023    \u001b[0m |\n",
            "1/1 [==============================] - 0s 37ms/step - loss: 0.2961 - accuracy: 0.8571\n",
            "Test loss: 0.2961256206035614\n",
            "Test accuracy: 0.8571428656578064\n",
            "\n",
            "\n",
            "| \u001b[0m5        \u001b[0m | \u001b[0m0.8571   \u001b[0m | \u001b[0m0.2669   \u001b[0m | \u001b[0m0.005587 \u001b[0m | \u001b[0m1.421    \u001b[0m | \u001b[0m5.189    \u001b[0m |\n",
            "1/1 [==============================] - 0s 58ms/step - loss: 0.1766 - accuracy: 0.9286\n",
            "Test loss: 0.17657552659511566\n",
            "Test accuracy: 0.9285714030265808\n",
            "\n",
            "\n",
            "| \u001b[0m6        \u001b[0m | \u001b[0m0.9286   \u001b[0m | \u001b[0m0.4203   \u001b[0m | \u001b[0m0.009683 \u001b[0m | \u001b[0m1.94     \u001b[0m | \u001b[0m8.154    \u001b[0m |\n",
            "1/1 [==============================] - 0s 35ms/step - loss: 0.5898 - accuracy: 0.7143\n",
            "Test loss: 0.5897864103317261\n",
            "Test accuracy: 0.7142857313156128\n",
            "\n",
            "\n",
            "| \u001b[0m7        \u001b[0m | \u001b[0m0.7143   \u001b[0m | \u001b[0m0.4506   \u001b[0m | \u001b[0m0.008946 \u001b[0m | \u001b[0m1.255    \u001b[0m | \u001b[0m4.234    \u001b[0m |\n",
            "1/1 [==============================] - 0s 33ms/step - loss: 0.1899 - accuracy: 0.9286\n",
            "Test loss: 0.1899104118347168\n",
            "Test accuracy: 0.9285714030265808\n",
            "\n",
            "\n",
            "| \u001b[0m8        \u001b[0m | \u001b[0m0.9286   \u001b[0m | \u001b[0m0.1679   \u001b[0m | \u001b[0m0.008782 \u001b[0m | \u001b[0m1.295    \u001b[0m | \u001b[0m6.527    \u001b[0m |\n",
            "1/1 [==============================] - 0s 39ms/step - loss: 0.1836 - accuracy: 0.9286\n",
            "Test loss: 0.18358919024467468\n",
            "Test accuracy: 0.9285714030265808\n",
            "\n",
            "\n",
            "| \u001b[0m9        \u001b[0m | \u001b[0m0.9286   \u001b[0m | \u001b[0m0.4832   \u001b[0m | \u001b[0m0.005332 \u001b[0m | \u001b[0m3.076    \u001b[0m | \u001b[0m5.893    \u001b[0m |\n",
            "1/1 [==============================] - 0s 37ms/step - loss: 0.2791 - accuracy: 0.9286\n",
            "Test loss: 0.2790648341178894\n",
            "Test accuracy: 0.9285714030265808\n",
            "\n",
            "\n",
            "| \u001b[0m10       \u001b[0m | \u001b[0m0.9286   \u001b[0m | \u001b[0m0.3746   \u001b[0m | \u001b[0m0.008346 \u001b[0m | \u001b[0m1.055    \u001b[0m | \u001b[0m8.501    \u001b[0m |\n",
            "1/1 [==============================] - 0s 36ms/step - loss: 0.3272 - accuracy: 0.8571\n",
            "Test loss: 0.3271721303462982\n",
            "Test accuracy: 0.8571428656578064\n",
            "\n",
            "\n",
            "| \u001b[0m11       \u001b[0m | \u001b[0m0.8571   \u001b[0m | \u001b[0m0.4955   \u001b[0m | \u001b[0m0.007482 \u001b[0m | \u001b[0m1.841    \u001b[0m | \u001b[0m8.736    \u001b[0m |\n",
            "1/1 [==============================] - 0s 42ms/step - loss: 0.2550 - accuracy: 1.0000\n",
            "Test loss: 0.2549663484096527\n",
            "Test accuracy: 1.0\n",
            "\n",
            "\n",
            "| \u001b[0m12       \u001b[0m | \u001b[0m1.0      \u001b[0m | \u001b[0m0.1413   \u001b[0m | \u001b[0m0.004479 \u001b[0m | \u001b[0m3.726    \u001b[0m | \u001b[0m5.762    \u001b[0m |\n",
            "1/1 [==============================] - 0s 64ms/step - loss: 0.3810 - accuracy: 0.8571\n",
            "Test loss: 0.38104742765426636\n",
            "Test accuracy: 0.8571428656578064\n",
            "\n",
            "\n",
            "| \u001b[0m13       \u001b[0m | \u001b[0m0.8571   \u001b[0m | \u001b[0m0.2151   \u001b[0m | \u001b[0m0.001301 \u001b[0m | \u001b[0m1.058    \u001b[0m | \u001b[0m8.073    \u001b[0m |\n",
            "1/1 [==============================] - 0s 37ms/step - loss: 0.3449 - accuracy: 0.8571\n",
            "Test loss: 0.34489870071411133\n",
            "Test accuracy: 0.8571428656578064\n",
            "\n",
            "\n",
            "| \u001b[0m14       \u001b[0m | \u001b[0m0.8571   \u001b[0m | \u001b[0m0.1847   \u001b[0m | \u001b[0m0.002656 \u001b[0m | \u001b[0m2.475    \u001b[0m | \u001b[0m4.32     \u001b[0m |\n",
            "1/1 [==============================] - 0s 46ms/step - loss: 0.3481 - accuracy: 0.9286\n",
            "Test loss: 0.34814921021461487\n",
            "Test accuracy: 0.9285714030265808\n",
            "\n",
            "\n",
            "| \u001b[0m15       \u001b[0m | \u001b[0m0.9286   \u001b[0m | \u001b[0m0.3296   \u001b[0m | \u001b[0m0.001468 \u001b[0m | \u001b[0m2.768    \u001b[0m | \u001b[0m8.199    \u001b[0m |\n",
            "1/1 [==============================] - 0s 40ms/step - loss: 0.3021 - accuracy: 0.7857\n",
            "Test loss: 0.30214694142341614\n",
            "Test accuracy: 0.7857142686843872\n",
            "\n",
            "\n",
            "| \u001b[0m16       \u001b[0m | \u001b[0m0.7857   \u001b[0m | \u001b[0m0.1409   \u001b[0m | \u001b[0m0.004141 \u001b[0m | \u001b[0m3.083    \u001b[0m | \u001b[0m6.485    \u001b[0m |\n",
            "1/1 [==============================] - 0s 39ms/step - loss: 0.3112 - accuracy: 0.9286\n",
            "Test loss: 0.31119033694267273\n",
            "Test accuracy: 0.9285714030265808\n",
            "\n",
            "\n",
            "| \u001b[0m17       \u001b[0m | \u001b[0m0.9286   \u001b[0m | \u001b[0m0.12     \u001b[0m | \u001b[0m0.005359 \u001b[0m | \u001b[0m2.991    \u001b[0m | \u001b[0m7.089    \u001b[0m |\n",
            "1/1 [==============================] - 0s 40ms/step - loss: 0.1263 - accuracy: 1.0000\n",
            "Test loss: 0.12632156908512115\n",
            "Test accuracy: 1.0\n",
            "\n",
            "\n",
            "| \u001b[0m18       \u001b[0m | \u001b[0m1.0      \u001b[0m | \u001b[0m0.4778   \u001b[0m | \u001b[0m0.005866 \u001b[0m | \u001b[0m3.71     \u001b[0m | \u001b[0m4.825    \u001b[0m |\n",
            "1/1 [==============================] - 0s 39ms/step - loss: 0.2106 - accuracy: 1.0000\n",
            "Test loss: 0.21063460409641266\n",
            "Test accuracy: 1.0\n",
            "\n",
            "\n",
            "| \u001b[0m19       \u001b[0m | \u001b[0m1.0      \u001b[0m | \u001b[0m0.1557   \u001b[0m | \u001b[0m0.008074 \u001b[0m | \u001b[0m2.193    \u001b[0m | \u001b[0m4.992    \u001b[0m |\n",
            "1/1 [==============================] - 0s 45ms/step - loss: 0.1740 - accuracy: 1.0000\n",
            "Test loss: 0.17398260533809662\n",
            "Test accuracy: 1.0\n",
            "\n",
            "\n",
            "| \u001b[0m20       \u001b[0m | \u001b[0m1.0      \u001b[0m | \u001b[0m0.471    \u001b[0m | \u001b[0m0.003478 \u001b[0m | \u001b[0m3.252    \u001b[0m | \u001b[0m8.356    \u001b[0m |\n",
            "1/1 [==============================] - 0s 43ms/step - loss: 0.2262 - accuracy: 0.9286\n",
            "Test loss: 0.22617433965206146\n",
            "Test accuracy: 0.9285714030265808\n",
            "\n",
            "\n",
            "| \u001b[0m21       \u001b[0m | \u001b[0m0.9286   \u001b[0m | \u001b[0m0.4533   \u001b[0m | \u001b[0m0.006237 \u001b[0m | \u001b[0m3.253    \u001b[0m | \u001b[0m6.093    \u001b[0m |\n",
            "1/1 [==============================] - 0s 41ms/step - loss: 0.3276 - accuracy: 0.9286\n",
            "Test loss: 0.32756656408309937\n",
            "Test accuracy: 0.9285714030265808\n",
            "\n",
            "\n",
            "| \u001b[0m22       \u001b[0m | \u001b[0m0.9286   \u001b[0m | \u001b[0m0.208    \u001b[0m | \u001b[0m0.008959 \u001b[0m | \u001b[0m2.284    \u001b[0m | \u001b[0m9.789    \u001b[0m |\n",
            "1/1 [==============================] - 0s 60ms/step - loss: 0.3205 - accuracy: 0.8571\n",
            "Test loss: 0.3205176889896393\n",
            "Test accuracy: 0.8571428656578064\n",
            "\n",
            "\n",
            "| \u001b[0m23       \u001b[0m | \u001b[0m0.8571   \u001b[0m | \u001b[0m0.3654   \u001b[0m | \u001b[0m0.006217 \u001b[0m | \u001b[0m1.344    \u001b[0m | \u001b[0m9.697    \u001b[0m |\n",
            "1/1 [==============================] - 0s 38ms/step - loss: 0.1654 - accuracy: 0.9286\n",
            "Test loss: 0.16540227830410004\n",
            "Test accuracy: 0.9285714030265808\n",
            "\n",
            "\n",
            "| \u001b[0m24       \u001b[0m | \u001b[0m0.9286   \u001b[0m | \u001b[0m0.28     \u001b[0m | \u001b[0m0.005784 \u001b[0m | \u001b[0m2.224    \u001b[0m | \u001b[0m5.422    \u001b[0m |\n",
            "1/1 [==============================] - 0s 34ms/step - loss: 0.2372 - accuracy: 0.9286\n",
            "Test loss: 0.23717141151428223\n",
            "Test accuracy: 0.9285714030265808\n",
            "\n",
            "\n",
            "| \u001b[0m25       \u001b[0m | \u001b[0m0.9286   \u001b[0m | \u001b[0m0.4614   \u001b[0m | \u001b[0m0.005737 \u001b[0m | \u001b[0m1.009    \u001b[0m | \u001b[0m7.703    \u001b[0m |\n",
            "1/1 [==============================] - 0s 37ms/step - loss: 0.2551 - accuracy: 0.9286\n",
            "Test loss: 0.25510019063949585\n",
            "Test accuracy: 0.9285714030265808\n",
            "\n",
            "\n",
            "| \u001b[0m26       \u001b[0m | \u001b[0m0.9286   \u001b[0m | \u001b[0m0.2307   \u001b[0m | \u001b[0m0.005271 \u001b[0m | \u001b[0m3.658    \u001b[0m | \u001b[0m6.144    \u001b[0m |\n",
            "1/1 [==============================] - 0s 36ms/step - loss: 0.2118 - accuracy: 1.0000\n",
            "Test loss: 0.2117830365896225\n",
            "Test accuracy: 1.0\n",
            "\n",
            "\n",
            "| \u001b[0m27       \u001b[0m | \u001b[0m1.0      \u001b[0m | \u001b[0m0.4634   \u001b[0m | \u001b[0m0.006234 \u001b[0m | \u001b[0m1.047    \u001b[0m | \u001b[0m9.577    \u001b[0m |\n",
            "1/1 [==============================] - 0s 40ms/step - loss: 0.2938 - accuracy: 0.9286\n",
            "Test loss: 0.29376301169395447\n",
            "Test accuracy: 0.9285714030265808\n",
            "\n",
            "\n",
            "| \u001b[0m28       \u001b[0m | \u001b[0m0.9286   \u001b[0m | \u001b[0m0.3764   \u001b[0m | \u001b[0m0.009973 \u001b[0m | \u001b[0m1.517    \u001b[0m | \u001b[0m4.823    \u001b[0m |\n",
            "1/1 [==============================] - 0s 43ms/step - loss: 0.2249 - accuracy: 0.9286\n",
            "Test loss: 0.22493214905261993\n",
            "Test accuracy: 0.9285714030265808\n",
            "\n",
            "\n",
            "| \u001b[0m29       \u001b[0m | \u001b[0m0.9286   \u001b[0m | \u001b[0m0.473    \u001b[0m | \u001b[0m0.006968 \u001b[0m | \u001b[0m1.198    \u001b[0m | \u001b[0m8.533    \u001b[0m |\n",
            "1/1 [==============================] - 0s 39ms/step - loss: 0.1657 - accuracy: 0.9286\n",
            "Test loss: 0.1657104343175888\n",
            "Test accuracy: 0.9285714030265808\n",
            "\n",
            "\n",
            "| \u001b[0m30       \u001b[0m | \u001b[0m0.9286   \u001b[0m | \u001b[0m0.4016   \u001b[0m | \u001b[0m0.00923  \u001b[0m | \u001b[0m3.135    \u001b[0m | \u001b[0m4.746    \u001b[0m |\n",
            "1/1 [==============================] - 0s 36ms/step - loss: 0.2728 - accuracy: 0.9286\n",
            "Test loss: 0.2727738320827484\n",
            "Test accuracy: 0.9285714030265808\n",
            "\n",
            "\n",
            "| \u001b[0m31       \u001b[0m | \u001b[0m0.9286   \u001b[0m | \u001b[0m0.5      \u001b[0m | \u001b[0m0.006667 \u001b[0m | \u001b[0m1.0      \u001b[0m | \u001b[0m9.32     \u001b[0m |\n",
            "1/1 [==============================] - 0s 36ms/step - loss: 0.1791 - accuracy: 0.9286\n",
            "Test loss: 0.17914311587810516\n",
            "Test accuracy: 0.9285714030265808\n",
            "\n",
            "\n",
            "| \u001b[0m32       \u001b[0m | \u001b[0m0.9286   \u001b[0m | \u001b[0m0.277    \u001b[0m | \u001b[0m0.004135 \u001b[0m | \u001b[0m2.643    \u001b[0m | \u001b[0m8.465    \u001b[0m |\n",
            "1/1 [==============================] - 0s 56ms/step - loss: 0.2709 - accuracy: 0.9286\n",
            "Test loss: 0.27092400193214417\n",
            "Test accuracy: 0.9285714030265808\n",
            "\n",
            "\n",
            "| \u001b[0m33       \u001b[0m | \u001b[0m0.9286   \u001b[0m | \u001b[0m0.3826   \u001b[0m | \u001b[0m0.005646 \u001b[0m | \u001b[0m3.685    \u001b[0m | \u001b[0m5.082    \u001b[0m |\n",
            "1/1 [==============================] - 0s 42ms/step - loss: 0.2368 - accuracy: 0.9286\n",
            "Test loss: 0.23682866990566254\n",
            "Test accuracy: 0.9285714030265808\n",
            "\n",
            "\n",
            "| \u001b[0m34       \u001b[0m | \u001b[0m0.9286   \u001b[0m | \u001b[0m0.1085   \u001b[0m | \u001b[0m0.008079 \u001b[0m | \u001b[0m3.895    \u001b[0m | \u001b[0m8.212    \u001b[0m |\n",
            "1/1 [==============================] - 0s 38ms/step - loss: 0.3954 - accuracy: 0.9286\n",
            "Test loss: 0.39544105529785156\n",
            "Test accuracy: 0.9285714030265808\n",
            "\n",
            "\n",
            "| \u001b[0m35       \u001b[0m | \u001b[0m0.9286   \u001b[0m | \u001b[0m0.5      \u001b[0m | \u001b[0m0.009168 \u001b[0m | \u001b[0m3.638    \u001b[0m | \u001b[0m4.593    \u001b[0m |\n",
            "=========================================================================\n",
            "Iteration 0: \n",
            "\t{'target': 0.8571428656578064, 'params': {'dropoutRate': 0.2668088018810296, 'lr': 0.0072035246099281395, 'spatialfilter_D': 1.0003431244520347, 'temporalfilter_F1': 5.813995435791039}}\n",
            "Iteration 1: \n",
            "\t{'target': 0.8571428656578064, 'params': {'dropoutRate': 0.15870235632684523, 'lr': 0.0009242936090932093, 'spatialfilter_D': 1.5587806341330128, 'temporalfilter_F1': 6.073364362258286}}\n",
            "Iteration 2: \n",
            "\t{'target': 1.0, 'params': {'dropoutRate': 0.258706989692268, 'lr': 0.005388628523299566, 'spatialfilter_D': 2.2575835432098845, 'temporalfilter_F1': 8.111317002380556}}\n",
            "Iteration 3: \n",
            "\t{'target': 0.8571428656578064, 'params': {'dropoutRate': 0.18178089989260698, 'lr': 0.008781296246473063, 'spatialfilter_D': 1.0821627795937785, 'temporalfilter_F1': 8.022805061070414}}\n",
            "Iteration 4: \n",
            "\t{'target': 0.8571428656578064, 'params': {'dropoutRate': 0.2669219209468508, 'lr': 0.005587339594629072, 'spatialfilter_D': 1.4211608157857012, 'temporalfilter_F1': 5.188608934509273}}\n",
            "Iteration 5: \n",
            "\t{'target': 0.9285714030265808, 'params': {'dropoutRate': 0.4202978274702147, 'lr': 0.009682647495618256, 'spatialfilter_D': 1.9402725344777285, 'temporalfilter_F1': 8.153935694015885}}\n",
            "Iteration 6: \n",
            "\t{'target': 0.7142857313156128, 'params': {'dropoutRate': 0.45055566091841537, 'lr': 0.00894617202837497, 'spatialfilter_D': 1.2551326341093336, 'temporalfilter_F1': 4.234328699397294}}\n",
            "Iteration 7: \n",
            "\t{'target': 0.9285714030265808, 'params': {'dropoutRate': 0.16793216782582757, 'lr': 0.008781546891790701, 'spatialfilter_D': 1.2950405014991504, 'temporalfilter_F1': 6.526645750030313}}\n",
            "Iteration 8: \n",
            "\t{'target': 0.9285714030265808, 'params': {'dropoutRate': 0.48315581206020075, 'lr': 0.005332119684445198, 'spatialfilter_D': 3.07563134185142, 'temporalfilter_F1': 5.893093786036378}}\n",
            "Iteration 9: \n",
            "\t{'target': 0.9285714030265808, 'params': {'dropoutRate': 0.37460037107263344, 'lr': 0.008346422093301832, 'spatialfilter_D': 1.0548648320325755, 'temporalfilter_F1': 8.500865889669804}}\n",
            "Iteration 10: \n",
            "\t{'target': 0.8571428656578064, 'params': {'dropoutRate': 0.49554443556259786, 'lr': 0.007481908378144015, 'spatialfilter_D': 1.8413319761932154, 'temporalfilter_F1': 8.73567597070893}}\n",
            "Iteration 11: \n",
            "\t{'target': 1.0, 'params': {'dropoutRate': 0.14129040263105683, 'lr': 0.004479487368232876, 'spatialfilter_D': 3.7257865092792866, 'temporalfilter_F1': 5.761684890242077}}\n",
            "Iteration 12: \n",
            "\t{'target': 0.8571428656578064, 'params': {'dropoutRate': 0.2151101354345395, 'lr': 0.0013011556926106585, 'spatialfilter_D': 1.0581008736108912, 'temporalfilter_F1': 8.073013197639346}}\n",
            "Iteration 13: \n",
            "\t{'target': 0.8571428656578064, 'params': {'dropoutRate': 0.18465124640002362, 'lr': 0.0026562010470628904, 'spatialfilter_D': 2.474719477841015, 'temporalfilter_F1': 4.3201752707024825}}\n",
            "Iteration 14: \n",
            "\t{'target': 0.9285714030265808, 'params': {'dropoutRate': 0.32964704219680524, 'lr': 0.0014681390204831957, 'spatialfilter_D': 2.767916610709853, 'temporalfilter_F1': 8.198550160125587}}\n",
            "Iteration 15: \n",
            "\t{'target': 0.7857142686843872, 'params': {'dropoutRate': 0.14093377153113035, 'lr': 0.004141145822207864, 'spatialfilter_D': 3.0832004731832354, 'temporalfilter_F1': 6.4850756171614155}}\n",
            "Iteration 16: \n",
            "\t{'target': 0.9285714030265808, 'params': {'dropoutRate': 0.11998138357843487, 'lr': 0.005359428162749201, 'spatialfilter_D': 2.9913839356593663, 'temporalfilter_F1': 7.089334672349851}}\n",
            "Iteration 17: \n",
            "\t{'target': 1.0, 'params': {'dropoutRate': 0.4778379023963254, 'lr': 0.005865963849979428, 'spatialfilter_D': 3.7102057458636506, 'temporalfilter_F1': 4.824848224877425}}\n",
            "Iteration 18: \n",
            "\t{'target': 1.0, 'params': {'dropoutRate': 0.15571053890030342, 'lr': 0.00807410549580653, 'spatialfilter_D': 2.193030510956601, 'temporalfilter_F1': 4.992125182701597}}\n",
            "Iteration 19: \n",
            "\t{'target': 1.0, 'params': {'dropoutRate': 0.47100343215841356, 'lr': 0.0034783108315953205, 'spatialfilter_D': 3.2524363094084667, 'temporalfilter_F1': 8.355987912102709}}\n",
            "Iteration 20: \n",
            "\t{'target': 0.9285714030265808, 'params': {'dropoutRate': 0.45332243648232395, 'lr': 0.006237098398349034, 'spatialfilter_D': 3.2528273020820118, 'temporalfilter_F1': 6.093390051867055}}\n",
            "Iteration 21: \n",
            "\t{'target': 0.9285714030265808, 'params': {'dropoutRate': 0.20797115670601043, 'lr': 0.008958966295742473, 'spatialfilter_D': 2.2842735696138847, 'temporalfilter_F1': 9.789040282890314}}\n",
            "Iteration 22: \n",
            "\t{'target': 0.8571428656578064, 'params': {'dropoutRate': 0.3653765991273793, 'lr': 0.006217335506371009, 'spatialfilter_D': 1.3442379188601254, 'temporalfilter_F1': 9.696935552242428}}\n",
            "Iteration 23: \n",
            "\t{'target': 0.9285714030265808, 'params': {'dropoutRate': 0.2799648533919762, 'lr': 0.005784317754256931, 'spatialfilter_D': 2.2244104082838434, 'temporalfilter_F1': 5.422161881458166}}\n",
            "Iteration 24: \n",
            "\t{'target': 0.9285714030265808, 'params': {'dropoutRate': 0.4613518082249015, 'lr': 0.005737221187236187, 'spatialfilter_D': 1.008610981093477, 'temporalfilter_F1': 7.702869481724344}}\n",
            "Iteration 25: \n",
            "\t{'target': 0.9285714030265808, 'params': {'dropoutRate': 0.23065796070883848, 'lr': 0.005271053964473836, 'spatialfilter_D': 3.6578262979323233, 'temporalfilter_F1': 6.143618560014999}}\n",
            "Iteration 26: \n",
            "\t{'target': 1.0, 'params': {'dropoutRate': 0.46341406036791966, 'lr': 0.0062339777978022365, 'spatialfilter_D': 1.0474637285396688, 'temporalfilter_F1': 9.576623402462568}}\n",
            "Iteration 27: \n",
            "\t{'target': 0.9285714030265808, 'params': {'dropoutRate': 0.3763587670067696, 'lr': 0.009973231181664355, 'spatialfilter_D': 1.5170215250359855, 'temporalfilter_F1': 4.822814497773266}}\n",
            "Iteration 28: \n",
            "\t{'target': 0.9285714030265808, 'params': {'dropoutRate': 0.4730381852148654, 'lr': 0.006968484796737512, 'spatialfilter_D': 1.1980005181661875, 'temporalfilter_F1': 8.532778315614799}}\n",
            "Iteration 29: \n",
            "\t{'target': 0.9285714030265808, 'params': {'dropoutRate': 0.4015504753844986, 'lr': 0.009230322330929287, 'spatialfilter_D': 3.134574275885415, 'temporalfilter_F1': 4.745625771832988}}\n",
            "Iteration 30: \n",
            "\t{'target': 0.9285714030265808, 'params': {'dropoutRate': 0.5, 'lr': 0.0066672535688014675, 'spatialfilter_D': 1.0, 'temporalfilter_F1': 9.320447179727832}}\n",
            "Iteration 31: \n",
            "\t{'target': 0.9285714030265808, 'params': {'dropoutRate': 0.27702292698218495, 'lr': 0.004135293608632735, 'spatialfilter_D': 2.643414837357012, 'temporalfilter_F1': 8.465209489451418}}\n",
            "Iteration 32: \n",
            "\t{'target': 0.9285714030265808, 'params': {'dropoutRate': 0.3826261140934693, 'lr': 0.005646268467622293, 'spatialfilter_D': 3.685206046724267, 'temporalfilter_F1': 5.08200920740085}}\n",
            "Iteration 33: \n",
            "\t{'target': 0.9285714030265808, 'params': {'dropoutRate': 0.10848250946105154, 'lr': 0.008079004515027586, 'spatialfilter_D': 3.8945666233095646, 'temporalfilter_F1': 8.212438163461574}}\n",
            "Iteration 34: \n",
            "\t{'target': 0.9285714030265808, 'params': {'dropoutRate': 0.5, 'lr': 0.00916768145484667, 'spatialfilter_D': 3.637720261033488, 'temporalfilter_F1': 4.592908095260058}}\n",
            "{'target': 1.0, 'params': {'dropoutRate': 0.258706989692268, 'lr': 0.005388628523299566, 'spatialfilter_D': 2.2575835432098845, 'temporalfilter_F1': 8.111317002380556}}\n"
          ]
        }
      ],
      "source": [
        "!pip install bayesian-optimization==1.4.1\n",
        "from functools import partial\n",
        "from bayes_opt import BayesianOptimization\n",
        "\n",
        "def fit_with(dropoutRate, lr, temporalfilter_F1, spatialfilter_D):\n",
        "\n",
        "    # Create the model using a specified hyperparameters.\n",
        "    model = EEGNett(nb_classes = 2, Chans = 30, Samples = 205,\n",
        "                    dropoutRate = dropoutRate, kernLength = 32, F1 = round(temporalfilter_F1),\n",
        "                    D = round(spatialfilter_D), F2 = 16, norm_rate = 0.25, dropoutType = 'Dropout')\n",
        "\n",
        "    # Train the model for a specified number of epochs.\n",
        "    optimizer= Adam(learning_rate = lr)\n",
        "    model.compile(optimizer=optimizer,\n",
        "                  loss    = 'sparse_categorical_crossentropy',\n",
        "                  metrics ='accuracy')\n",
        "    callback = tf.keras.callbacks.EarlyStopping (monitor='val_loss', mode='min', verbose = 0, patience=3)\n",
        "    mc = ModelCheckpoint('best_model.h5', monitor='val_loss', mode='min', verbose=0, save_best_only=True)\n",
        "\n",
        "    # Train the model with the train dataset.\n",
        "    model.fit(x_train, y_train, validation_data = (x_val,y_val),callbacks = [callback, mc], epochs = 100, verbose = 0)\n",
        "\n",
        "    # Evaluate the model with the eval dataset.\n",
        "    score = model.evaluate(x_val,y_val, verbose=1)\n",
        "\n",
        "    print('Test loss:', score[0])\n",
        "    print('Test accuracy:', score[1])\n",
        "    print('\\n')\n",
        "\n",
        "    # Return the accuracy.\n",
        "\n",
        "    return score[1]\n",
        "\n",
        "fit_with_partial = partial(fit_with)\n",
        "\n",
        "bounds = {'dropoutRate': (0.1, 0.5),\n",
        "          'temporalfilter_F1': (4, 10),\n",
        "          'lr' : (1e-6, 0.01),\n",
        "          'spatialfilter_D' : (1, 4)}\n",
        "\n",
        "\n",
        "\n",
        "hytune = BayesianOptimization(\n",
        "    f            = fit_with_partial,\n",
        "    pbounds      = bounds,\n",
        "    random_state = 1\n",
        ")\n",
        "\n",
        "\n",
        "hytune.maximize(init_points = 30, n_iter = 5)\n",
        "\n",
        "\n",
        "for i, res in enumerate(hytune.res):\n",
        "    print(\"Iteration {}: \\n\\t{}\".format(i, res))\n",
        "\n",
        "print(hytune.max)"
      ]
    },
    {
      "cell_type": "markdown",
      "metadata": {
        "id": "5flQ9k-vvaw_"
      },
      "source": [
        "7. Compiling and training of CNN model"
      ]
    },
    {
      "cell_type": "code",
      "execution_count": null,
      "metadata": {
        "colab": {
          "base_uri": "https://localhost:8080/"
        },
        "id": "x9HSioIxqfG7",
        "outputId": "a025e3fb-6584-42ee-e4a0-fca5d1879210"
      },
      "outputs": [
        {
          "output_type": "stream",
          "name": "stdout",
          "text": [
            "Model: \"model_35\"\n",
            "_________________________________________________________________\n",
            " Layer (type)                Output Shape              Param #   \n",
            "=================================================================\n",
            " input_36 (InputLayer)       [(None, 30, 205, 1)]      0         \n",
            "                                                                 \n",
            " conv2d_35 (Conv2D)          (None, 30, 205, 8)        256       \n",
            "                                                                 \n",
            " batch_normalization_105 (Ba  (None, 30, 205, 8)       32        \n",
            " tchNormalization)                                               \n",
            "                                                                 \n",
            " depthwise_conv2d_35 (Depthw  (None, 1, 205, 16)       480       \n",
            " iseConv2D)                                                      \n",
            "                                                                 \n",
            " batch_normalization_106 (Ba  (None, 1, 205, 16)       64        \n",
            " tchNormalization)                                               \n",
            "                                                                 \n",
            " activation_70 (Activation)  (None, 1, 205, 16)        0         \n",
            "                                                                 \n",
            " average_pooling2d_70 (Avera  (None, 1, 41, 16)        0         \n",
            " gePooling2D)                                                    \n",
            "                                                                 \n",
            " dropout_70 (Dropout)        (None, 1, 41, 16)         0         \n",
            "                                                                 \n",
            " separable_conv2d_35 (Separa  (None, 1, 41, 16)        512       \n",
            " bleConv2D)                                                      \n",
            "                                                                 \n",
            " batch_normalization_107 (Ba  (None, 1, 41, 16)        64        \n",
            " tchNormalization)                                               \n",
            "                                                                 \n",
            " activation_71 (Activation)  (None, 1, 41, 16)         0         \n",
            "                                                                 \n",
            " average_pooling2d_71 (Avera  (None, 1, 8, 16)         0         \n",
            " gePooling2D)                                                    \n",
            "                                                                 \n",
            " dropout_71 (Dropout)        (None, 1, 8, 16)          0         \n",
            "                                                                 \n",
            " flatten (Flatten)           (None, 128)               0         \n",
            "                                                                 \n",
            " dense (Dense)               (None, 2)                 258       \n",
            "                                                                 \n",
            " softmax (Activation)        (None, 2)                 0         \n",
            "                                                                 \n",
            "=================================================================\n",
            "Total params: 1,666\n",
            "Trainable params: 1,586\n",
            "Non-trainable params: 80\n",
            "_________________________________________________________________\n",
            "Epoch 1/100\n",
            "2/2 [==============================] - ETA: 0s - loss: 0.9828 - accuracy: 0.4167\n",
            "Epoch 1: val_loss improved from inf to 0.68282, saving model to best_model.h5\n",
            "2/2 [==============================] - 2s 348ms/step - loss: 0.9828 - accuracy: 0.4167 - val_loss: 0.6828 - val_accuracy: 0.5714\n",
            "Epoch 2/100\n",
            "2/2 [==============================] - ETA: 0s - loss: 0.6122 - accuracy: 0.6875\n",
            "Epoch 2: val_loss improved from 0.68282 to 0.66373, saving model to best_model.h5\n",
            "2/2 [==============================] - 0s 184ms/step - loss: 0.6122 - accuracy: 0.6875 - val_loss: 0.6637 - val_accuracy: 0.8571\n",
            "Epoch 3/100\n",
            "2/2 [==============================] - ETA: 0s - loss: 0.4865 - accuracy: 0.8125\n",
            "Epoch 3: val_loss improved from 0.66373 to 0.62025, saving model to best_model.h5\n",
            "2/2 [==============================] - 0s 197ms/step - loss: 0.4865 - accuracy: 0.8125 - val_loss: 0.6203 - val_accuracy: 0.9286\n",
            "Epoch 4/100\n",
            "2/2 [==============================] - ETA: 0s - loss: 0.3727 - accuracy: 0.8750\n",
            "Epoch 4: val_loss improved from 0.62025 to 0.55646, saving model to best_model.h5\n",
            "2/2 [==============================] - 0s 167ms/step - loss: 0.3727 - accuracy: 0.8750 - val_loss: 0.5565 - val_accuracy: 0.9286\n",
            "Epoch 5/100\n",
            "2/2 [==============================] - ETA: 0s - loss: 0.2883 - accuracy: 0.8958\n",
            "Epoch 5: val_loss improved from 0.55646 to 0.48792, saving model to best_model.h5\n",
            "2/2 [==============================] - 0s 168ms/step - loss: 0.2883 - accuracy: 0.8958 - val_loss: 0.4879 - val_accuracy: 0.9286\n",
            "Epoch 6/100\n",
            "2/2 [==============================] - ETA: 0s - loss: 0.2447 - accuracy: 0.9375\n",
            "Epoch 6: val_loss improved from 0.48792 to 0.43094, saving model to best_model.h5\n",
            "2/2 [==============================] - 0s 168ms/step - loss: 0.2447 - accuracy: 0.9375 - val_loss: 0.4309 - val_accuracy: 0.9286\n",
            "Epoch 7/100\n",
            "2/2 [==============================] - ETA: 0s - loss: 0.1759 - accuracy: 0.9375\n",
            "Epoch 7: val_loss improved from 0.43094 to 0.39748, saving model to best_model.h5\n",
            "2/2 [==============================] - 0s 152ms/step - loss: 0.1759 - accuracy: 0.9375 - val_loss: 0.3975 - val_accuracy: 0.7857\n",
            "Epoch 8/100\n",
            "2/2 [==============================] - ETA: 0s - loss: 0.1647 - accuracy: 0.9792\n",
            "Epoch 8: val_loss improved from 0.39748 to 0.36731, saving model to best_model.h5\n",
            "2/2 [==============================] - 0s 284ms/step - loss: 0.1647 - accuracy: 0.9792 - val_loss: 0.3673 - val_accuracy: 0.7857\n",
            "Epoch 9/100\n",
            "2/2 [==============================] - ETA: 0s - loss: 0.2567 - accuracy: 0.8958\n",
            "Epoch 9: val_loss improved from 0.36731 to 0.32199, saving model to best_model.h5\n",
            "2/2 [==============================] - 0s 235ms/step - loss: 0.2567 - accuracy: 0.8958 - val_loss: 0.3220 - val_accuracy: 1.0000\n",
            "Epoch 10/100\n",
            "2/2 [==============================] - ETA: 0s - loss: 0.1125 - accuracy: 1.0000\n",
            "Epoch 10: val_loss improved from 0.32199 to 0.28996, saving model to best_model.h5\n",
            "2/2 [==============================] - 1s 372ms/step - loss: 0.1125 - accuracy: 1.0000 - val_loss: 0.2900 - val_accuracy: 1.0000\n",
            "Epoch 11/100\n",
            "2/2 [==============================] - ETA: 0s - loss: 0.1114 - accuracy: 0.9792\n",
            "Epoch 11: val_loss improved from 0.28996 to 0.27898, saving model to best_model.h5\n",
            "2/2 [==============================] - 1s 513ms/step - loss: 0.1114 - accuracy: 0.9792 - val_loss: 0.2790 - val_accuracy: 1.0000\n",
            "Epoch 12/100\n",
            "2/2 [==============================] - ETA: 0s - loss: 0.1257 - accuracy: 0.9583\n",
            "Epoch 12: val_loss improved from 0.27898 to 0.27075, saving model to best_model.h5\n",
            "2/2 [==============================] - 1s 498ms/step - loss: 0.1257 - accuracy: 0.9583 - val_loss: 0.2708 - val_accuracy: 0.9286\n",
            "Epoch 13/100\n",
            "2/2 [==============================] - ETA: 0s - loss: 0.1605 - accuracy: 0.9375\n",
            "Epoch 13: val_loss improved from 0.27075 to 0.25879, saving model to best_model.h5\n",
            "2/2 [==============================] - 1s 444ms/step - loss: 0.1605 - accuracy: 0.9375 - val_loss: 0.2588 - val_accuracy: 1.0000\n",
            "Epoch 14/100\n",
            "2/2 [==============================] - ETA: 0s - loss: 0.0865 - accuracy: 0.9792\n",
            "Epoch 14: val_loss improved from 0.25879 to 0.25019, saving model to best_model.h5\n",
            "2/2 [==============================] - 1s 279ms/step - loss: 0.0865 - accuracy: 0.9792 - val_loss: 0.2502 - val_accuracy: 1.0000\n",
            "Epoch 15/100\n",
            "2/2 [==============================] - ETA: 0s - loss: 0.0800 - accuracy: 0.9792\n",
            "Epoch 15: val_loss did not improve from 0.25019\n",
            "2/2 [==============================] - 0s 208ms/step - loss: 0.0800 - accuracy: 0.9792 - val_loss: 0.2515 - val_accuracy: 1.0000\n",
            "Epoch 16/100\n",
            "2/2 [==============================] - ETA: 0s - loss: 0.0867 - accuracy: 0.9792\n",
            "Epoch 16: val_loss did not improve from 0.25019\n",
            "2/2 [==============================] - 1s 276ms/step - loss: 0.0867 - accuracy: 0.9792 - val_loss: 0.2562 - val_accuracy: 1.0000\n",
            "Epoch 17/100\n",
            "2/2 [==============================] - ETA: 0s - loss: 0.0828 - accuracy: 1.0000\n",
            "Epoch 17: val_loss did not improve from 0.25019\n",
            "2/2 [==============================] - 0s 224ms/step - loss: 0.0828 - accuracy: 1.0000 - val_loss: 0.2543 - val_accuracy: 1.0000\n",
            "Epoch 17: early stopping\n"
          ]
        }
      ],
      "source": [
        "newparam = hytune.max['params']\n",
        "lr = newparam['lr']\n",
        "dropoutRate = newparam['dropoutRate']\n",
        "F1 = newparam['temporalfilter_F1']\n",
        "D = newparam['spatialfilter_D']\n",
        "\n",
        "newparam\n",
        "\n",
        "model_tuned = EEGNett(nb_classes = 2, Chans = 30, Samples = 205,\n",
        "                       dropoutRate = newparam['dropoutRate'], kernLength = 32, F1 = round(newparam['temporalfilter_F1']),\n",
        "                      D = round(newparam['spatialfilter_D']), F2 = 16, norm_rate = 0.25, dropoutType = 'Dropout')\n",
        "\n",
        "model_tuned.compile(optimizer = Adam (learning_rate = newparam['lr']),\n",
        "                  loss = 'sparse_categorical_crossentropy',\n",
        "                  metrics = 'accuracy')\n",
        "\n",
        "model_tuned.summary()\n",
        "\n",
        "callback = tf.keras.callbacks.EarlyStopping (monitor='val_loss', mode='min', verbose = 1, patience=3)\n",
        "mc = ModelCheckpoint('best_model.h5', monitor='val_loss', mode='min', verbose=1, save_best_only=True)\n",
        "\n",
        "fitted    = model_tuned.fit(x_train, y_train, validation_data = (x_val,y_val),callbacks = [callback, mc], epochs = 100, shuffle = True, verbose = 1)\n",
        "saved_model = load_model('best_model.h5')"
      ]
    },
    {
      "cell_type": "markdown",
      "metadata": {
        "id": "wfXpyqZBvqli"
      },
      "source": [
        "8. Evaluate the model training process"
      ]
    },
    {
      "cell_type": "code",
      "execution_count": null,
      "metadata": {
        "colab": {
          "base_uri": "https://localhost:8080/",
          "height": 541
        },
        "id": "W_KaJbmI9Cbv",
        "outputId": "6ee1a177-3dfc-422c-9d01-27a7f752c956"
      },
      "outputs": [
        {
          "output_type": "stream",
          "name": "stdout",
          "text": [
            "1/1 [==============================] - 0s 306ms/step - loss: 0.2502 - accuracy: 1.0000\n",
            "Validation score:  0.25019457936286926\n",
            "Validation accuracy:  1.0\n"
          ]
        },
        {
          "output_type": "execute_result",
          "data": {
            "text/plain": [
              "Text(0, 0.5, 'Accuracy')"
            ]
          },
          "metadata": {},
          "execution_count": 8
        },
        {
          "output_type": "display_data",
          "data": {
            "text/plain": [
              "<Figure size 640x480 with 1 Axes>"
            ],
            "image/png": "[encoded data removed]"
          },
          "metadata": {}
        }
      ],
      "source": [
        "score = saved_model.evaluate(x_val, y_val)\n",
        "print(\"Validation score: \", score[0])\n",
        "print(\"Validation accuracy: \", score[1])\n",
        "\n",
        "plt.plot(fitted.history['accuracy'])\n",
        "plt.plot(fitted.history['val_accuracy'])\n",
        "plt.legend([\"accuracy\",\"val_accuracy\"])\n",
        "plt.title('Accuracy Vs Val_Accuracy')\n",
        "plt.xlabel('Epoch')\n",
        "plt.ylabel('Accuracy')\n"
      ]
    },
    {
      "cell_type": "code",
      "execution_count": null,
      "metadata": {
        "colab": {
          "base_uri": "https://localhost:8080/",
          "height": 489
        },
        "id": "dDJkL1PULXva",
        "outputId": "019a703a-36b5-4260-ecc2-b9375d63b90d"
      },
      "outputs": [
        {
          "output_type": "execute_result",
          "data": {
            "text/plain": [
              "Text(0, 0.5, 'loss')"
            ]
          },
          "metadata": {},
          "execution_count": 9
        },
        {
          "output_type": "display_data",
          "data": {
            "text/plain": [
              "<Figure size 640x480 with 1 Axes>"
            ],
            "image/png": "[encoded data removed]"
          },
          "metadata": {}
        }
      ],
      "source": [
        "plt.plot(fitted.history['loss'])\n",
        "plt.plot(fitted.history['val_loss'])\n",
        "plt.legend([\"loss\",\"val_loss\"])\n",
        "plt.title('loss Vs val_loss')\n",
        "plt.xlabel('Epoch')\n",
        "plt.ylabel('loss')"
      ]
    },
    {
      "cell_type": "markdown",
      "metadata": {
        "id": "CMVlLyOKwDeG"
      },
      "source": [
        "9. Plotting Confusion matrix."
      ]
    },
    {
      "cell_type": "code",
      "execution_count": null,
      "metadata": {
        "colab": {
          "base_uri": "https://localhost:8080/",
          "height": 523
        },
        "id": "nCYQ45fDotCV",
        "outputId": "08c742ab-8611-4654-b915-75763143a743"
      },
      "outputs": [
        {
          "output_type": "stream",
          "name": "stdout",
          "text": [
            "Confusion matrix, without normalization\n"
          ]
        },
        {
          "output_type": "display_data",
          "data": {
            "text/plain": [
              "<Figure size 640x480 with 2 Axes>"
            ],
            "image/png": "[encoded data removed]"
          },
          "metadata": {}
        }
      ],
      "source": [
        "%matplotlib inline\n",
        "from sklearn.metrics import confusion_matrix\n",
        "import itertools\n",
        "import matplotlib.pyplot as plt\n",
        "\n",
        "predictions = saved_model.predict(x_val, batch_size=10, verbose=0)\n",
        "rounded_predictions = np.argmax(predictions, axis=-1)\n",
        "\n",
        "def plot_confusion_matrix(cm, classes,\n",
        "                        normalize=False,\n",
        "                        title='Confusion matrix',\n",
        "                        cmap=plt.cm.Blues):\n",
        "    \"\"\"\n",
        "    This function prints and plots the confusion matrix.\n",
        "    Normalization can be applied by setting `normalize=True`.\n",
        "    \"\"\"\n",
        "    plt.imshow(cm, interpolation='nearest', cmap=cmap)\n",
        "    plt.title(title)\n",
        "    plt.colorbar()\n",
        "    tick_marks = np.arange(len(classes))\n",
        "    plt.xticks(tick_marks, classes, rotation=45)\n",
        "    plt.yticks(tick_marks, classes)\n",
        "\n",
        "    if normalize:\n",
        "        cm = cm.astype('float') / cm.sum(axis=1)[:, np.newaxis]\n",
        "        print(\"Normalized confusion matrix\")\n",
        "    else:\n",
        "        print('Confusion matrix, without normalization')\n",
        "\n",
        "    thresh = cm.max() / 2.\n",
        "    for i, j in itertools.product(range(cm.shape[0]), range(cm.shape[1])):\n",
        "        plt.text(j, i, cm[i, j],\n",
        "            horizontalalignment=\"center\",\n",
        "            color=\"white\" if cm[i, j] > thresh else \"black\")\n",
        "\n",
        "    plt.tight_layout()\n",
        "    plt.ylabel('True label')\n",
        "    plt.xlabel('Predicted label')\n",
        "\n",
        "cm = confusion_matrix(y_true=y_val, y_pred=rounded_predictions)\n",
        "cm_plot_labels = ['deviant','standard']\n",
        "plot_confusion_matrix(cm=cm, classes=cm_plot_labels, title='Confusion Matrix')"
      ]
    },
    {
      "cell_type": "markdown",
      "metadata": {
        "id": "jbjoA65rwMv6"
      },
      "source": [
        "10. Evaluate the model performance."
      ]
    },
    {
      "cell_type": "code",
      "execution_count": null,
      "metadata": {
        "colab": {
          "base_uri": "https://localhost:8080/"
        },
        "id": "Kb6bJa9b4ydO",
        "outputId": "83b751ab-88cd-4d86-db08-3b7167e2f21e"
      },
      "outputs": [
        {
          "output_type": "stream",
          "name": "stdout",
          "text": [
            "Model Validation MMN\n",
            "********************\n",
            "Accuracy: 1.0\n",
            "Precision:  1.0\n",
            "Recall:  1.0\n",
            "F1 =  1.0\n",
            "Kappa Coefficient:  1.0\n"
          ]
        }
      ],
      "source": [
        "import numpy\n",
        "import sklearn.metrics\n",
        "\n",
        "print(\"Model Validation MMN\")\n",
        "print(\"********************\")\n",
        "acc = (cm[0][0] + cm[-1][-1]) / numpy.sum(cm)\n",
        "print(\"Accuracy:\", acc)\n",
        "\n",
        "precision = sklearn.metrics.precision_score(y_true=y_val, y_pred=rounded_predictions)\n",
        "print(\"Precision: \", precision)\n",
        "\n",
        "recall = sklearn.metrics.recall_score(y_true=y_val, y_pred=rounded_predictions)\n",
        "print(\"Recall: \", recall)\n",
        "\n",
        "f1 = 2*((precision * recall)/(precision + recall))\n",
        "print(\"F1 = \", f1)\n",
        "\n",
        "kappa = sklearn.metrics.cohen_kappa_score(y1=y_val, y2=rounded_predictions)\n",
        "print (\"Kappa Coefficient: \", kappa)"
      ]
    },
    {
      "cell_type": "code",
      "execution_count": null,
      "metadata": {
        "colab": {
          "base_uri": "https://localhost:8080/",
          "height": 507
        },
        "id": "lA4UVLD7jIeN",
        "outputId": "fc863ede-5f6e-4e0e-c168-3975b473687e"
      },
      "outputs": [
        {
          "output_type": "stream",
          "name": "stdout",
          "text": [
            "1/1 [==============================] - 0s 33ms/step\n",
            "AUC score:  1.0\n"
          ]
        },
        {
          "output_type": "display_data",
          "data": {
            "text/plain": [
              "<Figure size 640x480 with 1 Axes>"
            ],
            "image/png": "[encoded data removed]"
          },
          "metadata": {}
        }
      ],
      "source": [
        "from sklearn.metrics import roc_curve\n",
        "from sklearn.metrics import roc_auc_score\n",
        "\n",
        "\n",
        "pred_prob1 = saved_model.predict(x_val)\n",
        "\n",
        "# roc curve for models\n",
        "fpr1, tpr1, thresh1 = roc_curve(y_val, pred_prob1[:,1], pos_label=1)\n",
        "\n",
        "# roc curve for tpr = fpr\n",
        "random_probs = [0 for i in range(len(y_val))]\n",
        "p_fpr, p_tpr, _ = roc_curve(y_val, random_probs, pos_label=1)\n",
        "\n",
        "# auc scores\n",
        "auc_score1 = roc_auc_score(y_val, pred_prob1[:,1])\n",
        "\n",
        "print('AUC score: ', auc_score1)\n",
        "\n",
        "# plot roc curves\n",
        "plt.plot(fpr1, tpr1, linestyle='--',color='orange', label='MMN')\n",
        "plt.plot(p_fpr, p_tpr, linestyle='--', color='blue')\n",
        "# title\n",
        "plt.title('ROC curve')\n",
        "# x label\n",
        "plt.xlabel('False Positive Rate')\n",
        "# y label\n",
        "plt.ylabel('True Positive rate')\n",
        "\n",
        "plt.legend(loc='best')\n",
        "plt.savefig('ROC',dpi=300)\n",
        "plt.show();"
      ]
    },
    {
      "cell_type": "markdown",
      "metadata": {
        "id": "5fADscpgxAjk"
      },
      "source": [
        "11. Final validation and evaluation of the model."
      ]
    },
    {
      "cell_type": "code",
      "execution_count": null,
      "metadata": {
        "colab": {
          "base_uri": "https://localhost:8080/"
        },
        "id": "d_NEnk4FKQ3q",
        "outputId": "9affbbbd-ee12-480e-8f7a-ac92a9a0e6d3"
      },
      "outputs": [
        {
          "output_type": "execute_result",
          "data": {
            "text/plain": [
              "(1230, 30)"
            ]
          },
          "metadata": {},
          "execution_count": 13
        }
      ],
      "source": [
        "path5 = \"/tmp/dataset-main/mmn_valid_x/deviant\"\n",
        "deviant_valid = glob.glob(path5 + '**/*.csv',recursive=True)\n",
        "\n",
        "path6 = \"/tmp/dataset-main/mmn_valid_x/standard\"\n",
        "standard_valid = glob.glob(path6 + '**/*.csv',recursive=True)\n",
        "\n",
        "list_deviant_valid = [pd.read_csv (d3, index_col=None, header=0) for d3 in deviant_valid]\n",
        "df_deviant_valid = pd.concat(list_deviant_valid, axis=0, ignore_index=True)\n",
        "\n",
        "list_standard_valid = [pd.read_csv (s3, index_col=None, header=0) for s3 in standard_valid]\n",
        "df_standard_valid = pd.concat(list_standard_valid, axis=0, ignore_index=True)\n",
        "\n",
        "valid = [df_deviant_valid, df_standard_valid]\n",
        "validf = pd.concat(valid)\n",
        "\n",
        "validf.shape"
      ]
    },
    {
      "cell_type": "code",
      "execution_count": null,
      "metadata": {
        "colab": {
          "base_uri": "https://localhost:8080/"
        },
        "id": "Y7mIj1UuJfeT",
        "outputId": "02767da6-3619-4ea7-ff7d-cf1c84007cf6"
      },
      "outputs": [
        {
          "output_type": "stream",
          "name": "stdout",
          "text": [
            "(6, 30, 205, 1)\n",
            "(6,)\n"
          ]
        }
      ],
      "source": [
        "dvalid = os.listdir(\"/tmp/dataset-main/mmn_valid_x/deviant\")\n",
        "svalid = os.listdir(\"/tmp/dataset-main/mmn_valid_x/standard\")\n",
        "yvalid = dvalid + svalid\n",
        "labels3 = []\n",
        "for filename in yvalid:\n",
        "  label3 = filename.split('.')[0]\n",
        "  if label3 == \"Deviants\":\n",
        "    labels3.append(1)\n",
        "  else:\n",
        "    labels3.append(0)\n",
        "\n",
        "yvalid = pd.DataFrame({'filename': yvalid,\n",
        "                   'label3': labels3})\n",
        "yvalid.to_csv('y_valid.csv')\n",
        "y_valid = pd.read_csv('y_valid.csv')['label3'].values\n",
        "\n",
        "x_valid = validf\n",
        "x_valid = x_valid.values\n",
        "\n",
        "x_valid   = x_valid.reshape(6, 30, 205, 1)\n",
        "\n",
        "\n",
        "print(x_valid.shape)\n",
        "print(y_valid.shape)\n"
      ]
    },
    {
      "cell_type": "code",
      "execution_count": null,
      "metadata": {
        "colab": {
          "base_uri": "https://localhost:8080/",
          "height": 523
        },
        "id": "nKgizCBZNt5Y",
        "outputId": "91861de7-398a-4f29-ad88-6c60141b1e86"
      },
      "outputs": [
        {
          "output_type": "stream",
          "name": "stdout",
          "text": [
            "Confusion matrix, without normalization\n"
          ]
        },
        {
          "output_type": "display_data",
          "data": {
            "text/plain": [
              "<Figure size 640x480 with 2 Axes>"
            ],
            "image/png": "[encoded data removed]"
          },
          "metadata": {}
        }
      ],
      "source": [
        "predictions_valid = saved_model(x_valid, training=False)\n",
        "rounded_predictions_valid = np.argmax(predictions_valid, axis=-1)\n",
        "\n",
        "cm_valid= confusion_matrix(y_true=y_valid, y_pred=rounded_predictions_valid)\n",
        "cm_valid_plot_labels = ['deviant','standard']\n",
        "plot_confusion_matrix(cm=cm_valid, classes=cm_plot_labels, title='Confusion Matrix Validation')"
      ]
    },
    {
      "cell_type": "code",
      "execution_count": null,
      "metadata": {
        "colab": {
          "base_uri": "https://localhost:8080/"
        },
        "id": "-NBeJkMjOrPK",
        "outputId": "ac6463db-b27a-4888-bdec-3bee84bbcb7c"
      },
      "outputs": [
        {
          "output_type": "stream",
          "name": "stdout",
          "text": [
            "Final Validation MMN\n",
            "********************\n",
            "Accuracy: 1.0\n",
            "Precision:  1.0\n",
            "Recall:  1.0\n",
            "F1 =  1.0\n",
            "Kappa Coefficient:  1.0\n"
          ]
        }
      ],
      "source": [
        "print(\"Final Validation MMN\")\n",
        "print(\"********************\")\n",
        "acc_valid = (cm_valid[0][0] + cm_valid[-1][-1]) / numpy.sum(cm_valid)\n",
        "print(\"Accuracy:\", acc_valid)\n",
        "\n",
        "precision_valid = sklearn.metrics.precision_score(y_true=y_valid, y_pred=rounded_predictions_valid)\n",
        "print(\"Precision: \", precision_valid)\n",
        "\n",
        "recall_valid = sklearn.metrics.recall_score(y_true=y_valid, y_pred=rounded_predictions_valid)\n",
        "print(\"Recall: \", recall_valid)\n",
        "\n",
        "f1_valid = 2*((precision_valid * recall_valid)/(precision_valid + recall_valid))\n",
        "print(\"F1 = \", f1_valid)\n",
        "\n",
        "kappa_valid = sklearn.metrics.cohen_kappa_score(y1=y_valid, y2=rounded_predictions_valid)\n",
        "print (\"Kappa Coefficient: \", kappa_valid)"
      ]
    },
    {
      "cell_type": "code",
      "execution_count": null,
      "metadata": {
        "colab": {
          "base_uri": "https://localhost:8080/",
          "height": 507
        },
        "id": "QzL9_u0YFrB3",
        "outputId": "7986c396-5982-4436-aa01-f936bf07bfc9"
      },
      "outputs": [
        {
          "output_type": "stream",
          "name": "stdout",
          "text": [
            "1/1 [==============================] - 0s 44ms/step\n",
            "AUC score:  1.0\n"
          ]
        },
        {
          "output_type": "display_data",
          "data": {
            "text/plain": [
              "<Figure size 640x480 with 1 Axes>"
            ],
            "image/png": "[encoded data removed]"
          },
          "metadata": {}
        }
      ],
      "source": [
        "\n",
        "pred_prob2 = saved_model.predict(x_valid)\n",
        "\n",
        "# roc curve for models\n",
        "fpr2, tpr2, thresh2 = roc_curve(y_valid, pred_prob2[:,1], pos_label=1)\n",
        "\n",
        "# roc curve for tpr = fpr\n",
        "random_probs = [0 for i in range(len(y_valid))]\n",
        "p_fpr, p_tpr, _ = roc_curve(y_valid, random_probs, pos_label=1)\n",
        "\n",
        "# auc scores\n",
        "auc_score2 = roc_auc_score(y_valid, pred_prob2[:,1])\n",
        "\n",
        "print('AUC score: ', auc_score2)\n",
        "\n",
        "# plot roc curves\n",
        "plt.plot(fpr2, tpr2, linestyle='--',color='orange', label='MMN')\n",
        "plt.plot(p_fpr, p_tpr, linestyle='--', color='blue')\n",
        "# title\n",
        "plt.title('ROC curve')\n",
        "# x label\n",
        "plt.xlabel('False Positive Rate')\n",
        "# y label\n",
        "plt.ylabel('True Positive rate')\n",
        "\n",
        "plt.legend(loc='best')\n",
        "plt.savefig('ROC',dpi=300)\n",
        "plt.show();"
      ]
    }
  ],
  "metadata": {
    "colab": {
      "provenance": [],
      "authorship_tag": "ABX9TyMP1ZbllPGszAX3+0SKxueO",
      "include_colab_link": true
    },
    "kernelspec": {
      "display_name": "Python 3",
      "name": "python3"
    },
    "language_info": {
      "name": "python"
    }
  },
  "nbformat": 4,
  "nbformat_minor": 0
}