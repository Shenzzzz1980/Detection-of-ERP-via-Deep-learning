{
  "cells": [
    {
      "cell_type": "markdown",
      "metadata": {
        "id": "view-in-github",
        "colab_type": "text"
      },
      "source": [
        "<a href=\"https://colab.research.google.com/github/Shenzzzz1980/dataset/blob/main/MMN.ipynb\" target=\"_parent\"><img src=\"https://colab.research.google.com/assets/colab-badge.svg\" alt=\"Open In Colab\"/></a>"
      ]
    },
    {
      "cell_type": "markdown",
      "source": [
        "1. Import uploaded dataset from github into Colab."
      ],
      "metadata": {
        "id": "WOh3X9NEUkX0"
      }
    },
    {
      "cell_type": "code",
      "execution_count": 1,
      "metadata": {
        "colab": {
          "base_uri": "https://localhost:8080/"
        },
        "id": "poqdEGnVPtwo",
        "outputId": "eb90770f-34a6-4473-dd77-6695d64c455a"
      },
      "outputs": [
        {
          "output_type": "stream",
          "name": "stdout",
          "text": [
            "Looking in indexes: https://pypi.org/simple, https://us-python.pkg.dev/colab-wheels/public/simple/\n",
            "Collecting mne\n",
            "  Downloading mne-1.4.2-py3-none-any.whl (7.7 MB)\n",
            "\u001b[2K     \u001b[90m━━━━━━━━━━━━━━━━━━━━━━━━━━━━━━━━━━━━━━━━\u001b[0m \u001b[32m7.7/7.7 MB\u001b[0m \u001b[31m47.1 MB/s\u001b[0m eta \u001b[36m0:00:00\u001b[0m\n",
            "\u001b[?25hRequirement already satisfied: numpy>=1.15.4 in /usr/local/lib/python3.10/dist-packages (from mne) (1.22.4)\n",
            "Requirement already satisfied: scipy>=1.6.3 in /usr/local/lib/python3.10/dist-packages (from mne) (1.10.1)\n",
            "Requirement already satisfied: matplotlib>=3.4.0 in /usr/local/lib/python3.10/dist-packages (from mne) (3.7.1)\n",
            "Requirement already satisfied: tqdm in /usr/local/lib/python3.10/dist-packages (from mne) (4.65.0)\n",
            "Requirement already satisfied: pooch>=1.5 in /usr/local/lib/python3.10/dist-packages (from mne) (1.6.0)\n",
            "Requirement already satisfied: decorator in /usr/local/lib/python3.10/dist-packages (from mne) (4.4.2)\n",
            "Requirement already satisfied: packaging in /usr/local/lib/python3.10/dist-packages (from mne) (23.1)\n",
            "Requirement already satisfied: jinja2 in /usr/local/lib/python3.10/dist-packages (from mne) (3.1.2)\n",
            "Requirement already satisfied: contourpy>=1.0.1 in /usr/local/lib/python3.10/dist-packages (from matplotlib>=3.4.0->mne) (1.0.7)\n",
            "Requirement already satisfied: cycler>=0.10 in /usr/local/lib/python3.10/dist-packages (from matplotlib>=3.4.0->mne) (0.11.0)\n",
            "Requirement already satisfied: fonttools>=4.22.0 in /usr/local/lib/python3.10/dist-packages (from matplotlib>=3.4.0->mne) (4.39.3)\n",
            "Requirement already satisfied: kiwisolver>=1.0.1 in /usr/local/lib/python3.10/dist-packages (from matplotlib>=3.4.0->mne) (1.4.4)\n",
            "Requirement already satisfied: pillow>=6.2.0 in /usr/local/lib/python3.10/dist-packages (from matplotlib>=3.4.0->mne) (8.4.0)\n",
            "Requirement already satisfied: pyparsing>=2.3.1 in /usr/local/lib/python3.10/dist-packages (from matplotlib>=3.4.0->mne) (3.0.9)\n",
            "Requirement already satisfied: python-dateutil>=2.7 in /usr/local/lib/python3.10/dist-packages (from matplotlib>=3.4.0->mne) (2.8.2)\n",
            "Requirement already satisfied: appdirs>=1.3.0 in /usr/local/lib/python3.10/dist-packages (from pooch>=1.5->mne) (1.4.4)\n",
            "Requirement already satisfied: requests>=2.19.0 in /usr/local/lib/python3.10/dist-packages (from pooch>=1.5->mne) (2.27.1)\n",
            "Requirement already satisfied: MarkupSafe>=2.0 in /usr/local/lib/python3.10/dist-packages (from jinja2->mne) (2.1.2)\n",
            "Requirement already satisfied: six>=1.5 in /usr/local/lib/python3.10/dist-packages (from python-dateutil>=2.7->matplotlib>=3.4.0->mne) (1.16.0)\n",
            "Requirement already satisfied: urllib3<1.27,>=1.21.1 in /usr/local/lib/python3.10/dist-packages (from requests>=2.19.0->pooch>=1.5->mne) (1.26.15)\n",
            "Requirement already satisfied: certifi>=2017.4.17 in /usr/local/lib/python3.10/dist-packages (from requests>=2.19.0->pooch>=1.5->mne) (2022.12.7)\n",
            "Requirement already satisfied: charset-normalizer~=2.0.0 in /usr/local/lib/python3.10/dist-packages (from requests>=2.19.0->pooch>=1.5->mne) (2.0.12)\n",
            "Requirement already satisfied: idna<4,>=2.5 in /usr/local/lib/python3.10/dist-packages (from requests>=2.19.0->pooch>=1.5->mne) (3.4)\n",
            "Installing collected packages: mne\n",
            "Successfully installed mne-1.4.2\n",
            "Looking in indexes: https://pypi.org/simple, https://us-python.pkg.dev/colab-wheels/public/simple/\n",
            "Requirement already satisfied: h5py in /usr/local/lib/python3.10/dist-packages (3.8.0)\n",
            "Requirement already satisfied: numpy>=1.14.5 in /usr/local/lib/python3.10/dist-packages (from h5py) (1.22.4)\n",
            "--2023-06-21 16:42:27--  https://github.com/Shenzzzz1980/dataset/archive/refs/heads/main.zip\n",
            "Resolving github.com (github.com)... 140.82.114.4\n",
            "Connecting to github.com (github.com)|140.82.114.4|:443... connected.\n",
            "HTTP request sent, awaiting response... 302 Found\n",
            "Location: https://codeload.github.com/Shenzzzz1980/dataset/zip/refs/heads/main [following]\n",
            "--2023-06-21 16:42:27--  https://codeload.github.com/Shenzzzz1980/dataset/zip/refs/heads/main\n",
            "Resolving codeload.github.com (codeload.github.com)... 140.82.113.9\n",
            "Connecting to codeload.github.com (codeload.github.com)|140.82.113.9|:443... connected.\n",
            "HTTP request sent, awaiting response... 200 OK\n",
            "Length: unspecified [application/zip]\n",
            "Saving to: ‘/tmp/datasets.zip’\n",
            "\n",
            "/tmp/datasets.zip       [   <=>              ]   2.41M  4.33MB/s    in 0.6s    \n",
            "\n",
            "2023-06-21 16:42:28 (4.33 MB/s) - ‘/tmp/datasets.zip’ saved [2525221]\n",
            "\n"
          ]
        }
      ],
      "source": [
        "!pip install mne\n",
        "!pip install h5py\n",
        "import zipfile\n",
        "import os\n",
        "import numpy as np\n",
        "import matplotlib.pyplot as plt\n",
        "import pandas as pd\n",
        "\n",
        "\n",
        "!wget --no-check-certificate \\\n",
        "    \"https://github.com/Shenzzzz1980/dataset/archive/refs/heads/main.zip\" \\\n",
        "    -O \"/tmp/datasets.zip\"\n",
        "\n",
        "\n",
        "zip_ref = zipfile.ZipFile('/tmp/datasets.zip', 'r') #Opens the zip file in read mode\n",
        "zip_ref.extractall('/tmp') #Extracts the files into the /tmp folder\n",
        "zip_ref.close()\n"
      ]
    },
    {
      "cell_type": "markdown",
      "source": [
        "2. Create training data and testing data."
      ],
      "metadata": {
        "id": "NBIETfK0tE-d"
      }
    },
    {
      "cell_type": "code",
      "execution_count": 2,
      "metadata": {
        "colab": {
          "base_uri": "https://localhost:8080/"
        },
        "id": "9rG7Ef0hlwdv",
        "outputId": "e5672ee2-1a88-4f52-c429-f35c77af4efc"
      },
      "outputs": [
        {
          "output_type": "execute_result",
          "data": {
            "text/plain": [
              "(2050, 30)"
            ]
          },
          "metadata": {},
          "execution_count": 2
        }
      ],
      "source": [
        "import mne\n",
        "import csv\n",
        "import pandas as pd\n",
        "import glob\n",
        "\n",
        "path1 = \"/tmp/dataset-main/mmn_train_x/deviant\"\n",
        "deviant = glob.glob(path1 + '**/*.csv',recursive=True)\n",
        "\n",
        "path2 = \"/tmp/dataset-main/mmn_train_x/standard\"\n",
        "standard = glob.glob(path2 + '**/*.csv',recursive=True)\n",
        "\n",
        "#read the csv file of both standard and deviant training datasets\n",
        "list_deviant = [pd.read_csv (d1, index_col=None, header=0) for d1 in deviant]\n",
        "df_deviant = pd.concat(list_deviant, axis=0, ignore_index=True)\n",
        "\n",
        "list_standard = [pd.read_csv (s1, index_col=None, header=0) for s1 in standard]\n",
        "df_standard = pd.concat(list_standard, axis=0, ignore_index=True)\n",
        "\n",
        "#combine the deviant and standard datasets for training\n",
        "train = [df_deviant, df_standard]\n",
        "trainf = pd.concat(train)\n",
        "\n",
        "path3 = \"/tmp/dataset-main/mmn_test_x/deviant\"\n",
        "deviant_test = glob.glob(path3 + '**/*.csv',recursive=True)\n",
        "\n",
        "path4 = \"/tmp/dataset-main/mmn_test_x/standard\"\n",
        "standard_test = glob.glob(path4 + '**/*.csv',recursive=True)\n",
        "\n",
        "#read the csv file of both standard and deviant testing datasets\n",
        "list_deviant_test = [pd.read_csv (d2, index_col=None, header=0) for d2 in deviant_test]\n",
        "df_deviant_test = pd.concat(list_deviant_test, axis=0, ignore_index=True)\n",
        "\n",
        "list_standard_test = [pd.read_csv (s2, index_col=None, header=0) for s2 in standard_test]\n",
        "df_standard_test = pd.concat(list_standard_test, axis=0, ignore_index=True)\n",
        "\n",
        "#combine the deviant and standard datasets for testing\n",
        "test = [df_deviant_test, df_standard_test]\n",
        "testf = pd.concat(test)\n",
        "\n",
        "trainf.shape\n",
        "testf.shape"
      ]
    },
    {
      "cell_type": "markdown",
      "source": [
        "3. Create the labels for both training and testing data."
      ],
      "metadata": {
        "id": "RUZVye_6uR2A"
      }
    },
    {
      "cell_type": "code",
      "execution_count": 3,
      "metadata": {
        "id": "VwEGjRinuP0Q"
      },
      "outputs": [],
      "source": [
        "import tensorflow as tf\n",
        "import cv2\n",
        "\n",
        "d = os.listdir(\"/tmp/dataset-main/mmn_train_x/deviant\")\n",
        "s = os.listdir(\"/tmp/dataset-main/mmn_train_x/standard\")\n",
        "filenames = d + s\n",
        "labels1 = []\n",
        "for filename in filenames:\n",
        "  label1 = filename.split('.')[0]\n",
        "  if label1 == \"Deviants\":\n",
        "    labels1.append(1)\n",
        "  else:\n",
        "    labels1.append(0)\n",
        "\n",
        "ytrain = pd.DataFrame({'filename': filenames,\n",
        "                   'label1': labels1})\n",
        "ytrain.to_csv('y_train.csv')\n",
        "y_train = pd.read_csv('y_train.csv')['label1'].values\n",
        "\n",
        "dtest = os.listdir(\"/tmp/dataset-main/mmn_test_x/deviant\")\n",
        "stest = os.listdir(\"/tmp/dataset-main/mmn_test_x/standard\")\n",
        "ytest = dtest + stest\n",
        "labels2 = []\n",
        "for filename in ytest:\n",
        "  label2 = filename.split('.')[0]\n",
        "  if label2 == \"Deviants\":\n",
        "    labels2.append(1)\n",
        "  else:\n",
        "    labels2.append(0)\n",
        "\n",
        "ytest = pd.DataFrame({'filename': ytest,\n",
        "                   'label2': labels2})\n",
        "ytest.to_csv('y_test.csv')\n",
        "y_val = pd.read_csv('y_test.csv')['label2'].values\n"
      ]
    },
    {
      "cell_type": "markdown",
      "source": [
        "4. Reshaping the training and testing data to sastified the input dimension of the deep learning model."
      ],
      "metadata": {
        "id": "8BK6jxHDue-4"
      }
    },
    {
      "cell_type": "code",
      "execution_count": 4,
      "metadata": {
        "colab": {
          "base_uri": "https://localhost:8080/"
        },
        "id": "ZeejM5G0V4kS",
        "outputId": "f2773876-cb6e-48f6-a6a8-fd76b3b160fe"
      },
      "outputs": [
        {
          "output_type": "stream",
          "name": "stdout",
          "text": [
            "(54, 30, 205, 1)\n",
            "(10, 30, 205, 1)\n",
            "(54,)\n",
            "(10,)\n"
          ]
        }
      ],
      "source": [
        "from tensorflow.keras import utils as np_utils\n",
        "from tensorflow.keras.preprocessing.image import ImageDataGenerator\n",
        "from tensorflow.keras.callbacks import EarlyStopping\n",
        "\n",
        "x_train = trainf\n",
        "x_test = testf\n",
        "\n",
        "\n",
        "x_train = x_train.values\n",
        "x_test = x_test.values\n",
        "\n",
        "x_train   = x_train.reshape(54, 30, 205, 1)\n",
        "x_val     = x_test.reshape(10, 30, 205, 1)\n",
        "\n",
        "print(x_train.shape)\n",
        "print(x_val.shape)\n",
        "print(y_train.shape)\n",
        "print(y_val.shape)\n",
        "\n"
      ]
    },
    {
      "cell_type": "markdown",
      "source": [
        "5. Building CNN model based on EEGNet."
      ],
      "metadata": {
        "id": "SKslwuwDurSo"
      }
    },
    {
      "cell_type": "code",
      "execution_count": 5,
      "metadata": {
        "id": "cgHcvscy3ET4"
      },
      "outputs": [],
      "source": [
        "from tensorflow.keras.models import Model\n",
        "from tensorflow.keras.layers import Dense, Activation, Permute, Dropout\n",
        "from tensorflow.keras.layers import Conv2D, MaxPooling2D, AveragePooling2D\n",
        "from tensorflow.keras.layers import SeparableConv2D, DepthwiseConv2D\n",
        "from tensorflow.keras.layers import BatchNormalization\n",
        "from tensorflow.keras.layers import SpatialDropout2D\n",
        "from tensorflow.keras.regularizers import l1_l2\n",
        "from tensorflow.keras.layers import Input, Flatten\n",
        "from tensorflow.keras.constraints import max_norm\n",
        "from tensorflow.keras import backend as K\n",
        "from tensorflow.keras import utils as np_utils\n",
        "from tensorflow.keras.callbacks import ModelCheckpoint\n",
        "from tensorflow.keras.callbacks import EarlyStopping\n",
        "from tensorflow.keras.models import Sequential\n",
        "from tensorflow.keras.optimizers import Adam\n",
        "from keras.models import load_model\n",
        "from math import floor\n",
        "\n",
        "\n",
        "\n",
        "\n",
        "def EEGNett(nb_classes = 2, Chans = 30, Samples = 205,\n",
        "            dropoutRate = 0.25, kernLength = 32, F1 = 8,\n",
        "            D = 2, F2 = 16, norm_rate = 0.25, dropoutType = 'Dropout'):\n",
        "\n",
        "    input1   = Input(shape = (Chans, Samples, 1))\n",
        "\n",
        "    block1       = Conv2D(F1, (1, kernLength), padding = 'same',\n",
        "                                      input_shape = (Chans, Samples, 1),\n",
        "                                      use_bias = False)(input1)\n",
        "    block1       = BatchNormalization()(block1)\n",
        "    block1       = DepthwiseConv2D((Chans, 1), use_bias = False,\n",
        "                                  depth_multiplier = D,\n",
        "                                  depthwise_constraint = max_norm(1.))(block1)\n",
        "    block1       = BatchNormalization()(block1)\n",
        "    block1       = Activation('elu')(block1)\n",
        "    block1       = AveragePooling2D((1, 5))(block1)\n",
        "    block1       = Dropout(dropoutRate)(block1)\n",
        "\n",
        "    block2       = SeparableConv2D(F2, (1, 16),\n",
        "                              use_bias = False, padding = 'same')(block1)\n",
        "    block2       = BatchNormalization()(block2)\n",
        "    block2       = Activation('elu')(block2)\n",
        "    block2       = AveragePooling2D((1, 5))(block2)\n",
        "    block2       = Dropout(dropoutRate)(block2)\n",
        "\n",
        "    flatten      = Flatten(name = 'flatten')(block2)\n",
        "\n",
        "    dense        = Dense(nb_classes, name = 'dense',\n",
        "                    kernel_constraint = max_norm(norm_rate))(flatten)\n",
        "    softmax     = Activation('softmax', name = 'softmax')(dense)\n",
        "\n",
        "    return Model(inputs=input1, outputs=softmax)\n"
      ]
    },
    {
      "cell_type": "markdown",
      "source": [
        "6. Hyperparameter tuning via bayesian optimization method."
      ],
      "metadata": {
        "id": "mp5IoZwqu1_3"
      }
    },
    {
      "cell_type": "code",
      "execution_count": 6,
      "metadata": {
        "id": "-pD48gqXaduW",
        "colab": {
          "base_uri": "https://localhost:8080/"
        },
        "outputId": "9c1edbda-6dc3-40a1-c03c-c4ca0ec9a505"
      },
      "outputs": [
        {
          "output_type": "stream",
          "name": "stdout",
          "text": [
            "Looking in indexes: https://pypi.org/simple, https://us-python.pkg.dev/colab-wheels/public/simple/\n",
            "Collecting bayesian-optimization==1.4.1\n",
            "  Downloading bayesian_optimization-1.4.1-py3-none-any.whl (18 kB)\n",
            "Requirement already satisfied: numpy>=1.9.0 in /usr/local/lib/python3.10/dist-packages (from bayesian-optimization==1.4.1) (1.22.4)\n",
            "Requirement already satisfied: scipy>=1.0.0 in /usr/local/lib/python3.10/dist-packages (from bayesian-optimization==1.4.1) (1.10.1)\n",
            "Requirement already satisfied: scikit-learn>=0.18.0 in /usr/local/lib/python3.10/dist-packages (from bayesian-optimization==1.4.1) (1.2.2)\n",
            "Collecting colorama (from bayesian-optimization==1.4.1)\n",
            "  Downloading colorama-0.4.6-py2.py3-none-any.whl (25 kB)\n",
            "Requirement already satisfied: joblib>=1.1.1 in /usr/local/lib/python3.10/dist-packages (from scikit-learn>=0.18.0->bayesian-optimization==1.4.1) (1.2.0)\n",
            "Requirement already satisfied: threadpoolctl>=2.0.0 in /usr/local/lib/python3.10/dist-packages (from scikit-learn>=0.18.0->bayesian-optimization==1.4.1) (3.1.0)\n",
            "\u001b[33mWARNING: The candidate selected for download or install is a yanked version: 'bayesian-optimization' candidate (version 1.4.1 at https://files.pythonhosted.org/packages/86/71/57ce5c1859e997b6a66fd368fcd940452032c7fb2208371117a693e5f70a/bayesian_optimization-1.4.1-py3-none-any.whl (from https://pypi.org/simple/bayesian-optimization/))\n",
            "Reason for being yanked: https://github.com/fmfn/BayesianOptimization/pull/388\u001b[0m\u001b[33m\n",
            "\u001b[0mInstalling collected packages: colorama, bayesian-optimization\n",
            "Successfully installed bayesian-optimization-1.4.1 colorama-0.4.6\n",
            "|   iter    |  target   | dropou... |    lr     | norm_rate |\n",
            "-------------------------------------------------------------\n",
            "1/1 [==============================] - 0s 42ms/step - loss: 0.2290 - accuracy: 0.9000\n",
            "Test loss: 0.22898399829864502\n",
            "Test accuracy: 0.8999999761581421\n",
            "\n",
            "\n",
            "| \u001b[0m1        \u001b[0m | \u001b[0m0.9      \u001b[0m | \u001b[0m0.2668   \u001b[0m | \u001b[0m0.007204 \u001b[0m | \u001b[0m0.1      \u001b[0m |\n",
            "1/1 [==============================] - 0s 62ms/step - loss: 0.2675 - accuracy: 1.0000\n",
            "Test loss: 0.26747027039527893\n",
            "Test accuracy: 1.0\n",
            "\n",
            "\n",
            "| \u001b[95m2        \u001b[0m | \u001b[95m1.0      \u001b[0m | \u001b[95m0.2209   \u001b[0m | \u001b[95m0.001468 \u001b[0m | \u001b[95m0.1369   \u001b[0m |\n",
            "1/1 [==============================] - 0s 38ms/step - loss: 0.3235 - accuracy: 1.0000\n",
            "Test loss: 0.32347625494003296\n",
            "Test accuracy: 1.0\n",
            "\n",
            "\n",
            "| \u001b[0m3        \u001b[0m | \u001b[0m1.0      \u001b[0m | \u001b[0m0.1745   \u001b[0m | \u001b[0m0.003456 \u001b[0m | \u001b[0m0.2587   \u001b[0m |\n",
            "1/1 [==============================] - 0s 49ms/step - loss: 0.2007 - accuracy: 1.0000\n",
            "Test loss: 0.20071449875831604\n",
            "Test accuracy: 1.0\n",
            "\n",
            "\n",
            "| \u001b[0m4        \u001b[0m | \u001b[0m1.0      \u001b[0m | \u001b[0m0.3155   \u001b[0m | \u001b[0m0.004193 \u001b[0m | \u001b[0m0.3741   \u001b[0m |\n",
            "1/1 [==============================] - 0s 37ms/step - loss: 0.2278 - accuracy: 0.9000\n",
            "Test loss: 0.22776412963867188\n",
            "Test accuracy: 0.8999999761581421\n",
            "\n",
            "\n",
            "| \u001b[0m5        \u001b[0m | \u001b[0m0.9      \u001b[0m | \u001b[0m0.1818   \u001b[0m | \u001b[0m0.008781 \u001b[0m | \u001b[0m0.111    \u001b[0m |\n",
            "1/1 [==============================] - 0s 38ms/step - loss: 0.2997 - accuracy: 0.9000\n",
            "Test loss: 0.29967695474624634\n",
            "Test accuracy: 0.8999999761581421\n",
            "\n",
            "\n",
            "| \u001b[0m6        \u001b[0m | \u001b[0m0.9      \u001b[0m | \u001b[0m0.3682   \u001b[0m | \u001b[0m0.004174 \u001b[0m | \u001b[0m0.3235   \u001b[0m |\n",
            "1/1 [==============================] - 0s 37ms/step - loss: 0.2784 - accuracy: 0.9000\n",
            "Test loss: 0.27836698293685913\n",
            "Test accuracy: 0.8999999761581421\n",
            "\n",
            "\n",
            "| \u001b[0m7        \u001b[0m | \u001b[0m0.9      \u001b[0m | \u001b[0m0.1562   \u001b[0m | \u001b[0m0.001982 \u001b[0m | \u001b[0m0.4203   \u001b[0m |\n",
            "1/1 [==============================] - 0s 41ms/step - loss: 0.1687 - accuracy: 0.9000\n",
            "Test loss: 0.16872768104076385\n",
            "Test accuracy: 0.8999999761581421\n",
            "\n",
            "\n",
            "| \u001b[0m8        \u001b[0m | \u001b[0m0.9      \u001b[0m | \u001b[0m0.4873   \u001b[0m | \u001b[0m0.003135 \u001b[0m | \u001b[0m0.3769   \u001b[0m |\n",
            "1/1 [==============================] - 0s 43ms/step - loss: 0.2583 - accuracy: 0.9000\n",
            "Test loss: 0.2583358883857727\n",
            "Test accuracy: 0.8999999761581421\n",
            "\n",
            "\n",
            "| \u001b[0m9        \u001b[0m | \u001b[0m0.9      \u001b[0m | \u001b[0m0.4506   \u001b[0m | \u001b[0m0.008946 \u001b[0m | \u001b[0m0.134    \u001b[0m |\n",
            "1/1 [==============================] - 0s 47ms/step - loss: 0.2209 - accuracy: 0.9000\n",
            "Test loss: 0.22094330191612244\n",
            "Test accuracy: 0.8999999761581421\n",
            "\n",
            "\n",
            "| \u001b[0m10       \u001b[0m | \u001b[0m0.9      \u001b[0m | \u001b[0m0.1156   \u001b[0m | \u001b[0m0.001699 \u001b[0m | \u001b[0m0.4513   \u001b[0m |\n",
            "1/1 [==============================] - 0s 63ms/step - loss: 0.3361 - accuracy: 0.8000\n",
            "Test loss: 0.33607086539268494\n",
            "Test accuracy: 0.800000011920929\n",
            "\n",
            "\n",
            "| \u001b[0m11       \u001b[0m | \u001b[0m0.8      \u001b[0m | \u001b[0m0.1393   \u001b[0m | \u001b[0m0.004212 \u001b[0m | \u001b[0m0.4832   \u001b[0m |\n",
            "1/1 [==============================] - 0s 64ms/step - loss: 0.2131 - accuracy: 0.9000\n",
            "Test loss: 0.2131141871213913\n",
            "Test accuracy: 0.8999999761581421\n",
            "\n",
            "\n",
            "| \u001b[0m12       \u001b[0m | \u001b[0m0.9      \u001b[0m | \u001b[0m0.3133   \u001b[0m | \u001b[0m0.006919 \u001b[0m | \u001b[0m0.2262   \u001b[0m |\n",
            "1/1 [==============================] - 0s 65ms/step - loss: 0.1688 - accuracy: 1.0000\n",
            "Test loss: 0.1687926948070526\n",
            "Test accuracy: 1.0\n",
            "\n",
            "\n",
            "| \u001b[0m13       \u001b[0m | \u001b[0m1.0      \u001b[0m | \u001b[0m0.3746   \u001b[0m | \u001b[0m0.008346 \u001b[0m | \u001b[0m0.1073   \u001b[0m |\n",
            "1/1 [==============================] - 0s 39ms/step - loss: 0.2381 - accuracy: 0.9000\n",
            "Test loss: 0.23811554908752441\n",
            "Test accuracy: 0.8999999761581421\n",
            "\n",
            "\n",
            "| \u001b[0m14       \u001b[0m | \u001b[0m0.9      \u001b[0m | \u001b[0m0.4001   \u001b[0m | \u001b[0m0.009889 \u001b[0m | \u001b[0m0.3993   \u001b[0m |\n",
            "1/1 [==============================] - 0s 37ms/step - loss: 0.1808 - accuracy: 1.0000\n",
            "Test loss: 0.1808001846075058\n",
            "Test accuracy: 1.0\n",
            "\n",
            "\n",
            "| \u001b[0m15       \u001b[0m | \u001b[0m1.0      \u001b[0m | \u001b[0m0.2122   \u001b[0m | \u001b[0m0.007893 \u001b[0m | \u001b[0m0.1413   \u001b[0m |\n",
            "1/1 [==============================] - 0s 61ms/step - loss: 0.2006 - accuracy: 0.9000\n",
            "Test loss: 0.20060506463050842\n",
            "Test accuracy: 0.8999999761581421\n",
            "\n",
            "\n",
            "| \u001b[0m16       \u001b[0m | \u001b[0m0.9      \u001b[0m | \u001b[0m0.2792   \u001b[0m | \u001b[0m0.009086 \u001b[0m | \u001b[0m0.2174   \u001b[0m |\n",
            "1/1 [==============================] - 0s 37ms/step - loss: 0.2863 - accuracy: 0.9000\n",
            "Test loss: 0.28629088401794434\n",
            "Test accuracy: 0.8999999761581421\n",
            "\n",
            "\n",
            "| \u001b[0m17       \u001b[0m | \u001b[0m0.9      \u001b[0m | \u001b[0m0.2151   \u001b[0m | \u001b[0m0.001301 \u001b[0m | \u001b[0m0.1077   \u001b[0m |\n",
            "1/1 [==============================] - 0s 42ms/step - loss: 0.1852 - accuracy: 1.0000\n",
            "Test loss: 0.1852363795042038\n",
            "Test accuracy: 1.0\n",
            "\n",
            "\n",
            "| \u001b[0m18       \u001b[0m | \u001b[0m1.0      \u001b[0m | \u001b[0m0.3715   \u001b[0m | \u001b[0m0.002117 \u001b[0m | \u001b[0m0.2062   \u001b[0m |\n",
            "1/1 [==============================] - 0s 37ms/step - loss: 0.2351 - accuracy: 0.9000\n",
            "Test loss: 0.2351342886686325\n",
            "Test accuracy: 0.8999999761581421\n",
            "\n",
            "\n",
            "| \u001b[0m19       \u001b[0m | \u001b[0m0.9      \u001b[0m | \u001b[0m0.2966   \u001b[0m | \u001b[0m0.0005346\u001b[0m | \u001b[0m0.3296   \u001b[0m |\n",
            "1/1 [==============================] - 0s 38ms/step - loss: 0.3615 - accuracy: 0.8000\n",
            "Test loss: 0.3614926338195801\n",
            "Test accuracy: 0.800000011920929\n",
            "\n",
            "\n",
            "| \u001b[0m20       \u001b[0m | \u001b[0m0.8      \u001b[0m | \u001b[0m0.1587   \u001b[0m | \u001b[0m0.005893 \u001b[0m | \u001b[0m0.3799   \u001b[0m |\n",
            "1/1 [==============================] - 0s 42ms/step - loss: 0.1960 - accuracy: 0.9000\n",
            "Test loss: 0.19598709046840668\n",
            "Test accuracy: 0.8999999761581421\n",
            "\n",
            "\n",
            "| \u001b[0m21       \u001b[0m | \u001b[0m0.9      \u001b[0m | \u001b[0m0.1409   \u001b[0m | \u001b[0m0.004141 \u001b[0m | \u001b[0m0.3778   \u001b[0m |\n",
            "1/1 [==============================] - 0s 44ms/step - loss: 0.1551 - accuracy: 1.0000\n",
            "Test loss: 0.1551344096660614\n",
            "Test accuracy: 1.0\n",
            "\n",
            "\n",
            "| \u001b[0m22       \u001b[0m | \u001b[0m1.0      \u001b[0m | \u001b[0m0.2657   \u001b[0m | \u001b[0m0.0005005\u001b[0m | \u001b[0m0.3144   \u001b[0m |\n",
            "1/1 [==============================] - 0s 64ms/step - loss: 0.2540 - accuracy: 0.8000\n",
            "Test loss: 0.2540365755558014\n",
            "Test accuracy: 0.800000011920929\n",
            "\n",
            "\n",
            "| \u001b[0m23       \u001b[0m | \u001b[0m0.8      \u001b[0m | \u001b[0m0.3655   \u001b[0m | \u001b[0m0.005149 \u001b[0m | \u001b[0m0.4778   \u001b[0m |\n",
            "1/1 [==============================] - 0s 40ms/step - loss: 0.2475 - accuracy: 0.8000\n",
            "Test loss: 0.24754151701927185\n",
            "Test accuracy: 0.800000011920929\n",
            "\n",
            "\n",
            "| \u001b[0m24       \u001b[0m | \u001b[0m0.8      \u001b[0m | \u001b[0m0.3346   \u001b[0m | \u001b[0m0.009034 \u001b[0m | \u001b[0m0.155    \u001b[0m |\n",
            "1/1 [==============================] - 0s 65ms/step - loss: 0.3573 - accuracy: 0.8000\n",
            "Test loss: 0.35731565952301025\n",
            "Test accuracy: 0.800000011920929\n",
            "\n",
            "\n",
            "| \u001b[0m25       \u001b[0m | \u001b[0m0.8      \u001b[0m | \u001b[0m0.1557   \u001b[0m | \u001b[0m0.008074 \u001b[0m | \u001b[0m0.2591   \u001b[0m |\n",
            "=============================================================\n",
            "Iteration 0: \n",
            "\t{'target': 0.8999999761581421, 'params': {'dropoutRate': 0.2668088018810296, 'lr': 0.0072035246099281395, 'norm_rate': 0.10004574992693796}}\n",
            "Iteration 1: \n",
            "\t{'target': 1.0, 'params': {'dropoutRate': 0.22093302905273593, 'lr': 0.0014684121522803135, 'norm_rate': 0.13693543790751914}}\n",
            "Iteration 2: \n",
            "\t{'target': 1.0, 'params': {'dropoutRate': 0.17450408455106836, 'lr': 0.003456261709703435, 'norm_rate': 0.258706989692268}}\n",
            "Iteration 3: \n",
            "\t{'target': 1.0, 'params': {'dropoutRate': 0.3155266936013428, 'lr': 0.004192525949518545, 'norm_rate': 0.3740878001587038}}\n",
            "Iteration 4: \n",
            "\t{'target': 0.8999999761581421, 'params': {'dropoutRate': 0.18178089989260698, 'lr': 0.008781296246473063, 'norm_rate': 0.11095503727917047}}\n",
            "Iteration 5: \n",
            "\t{'target': 0.8999999761581421, 'params': {'dropoutRate': 0.36818700407136096, 'lr': 0.004173630718868903, 'norm_rate': 0.32347593137830066}}\n",
            "Iteration 6: \n",
            "\t{'target': 0.8999999761581421, 'params': {'dropoutRate': 0.15615477543809353, 'lr': 0.0019818167893597034, 'norm_rate': 0.4202978274702147}}\n",
            "Iteration 7: \n",
            "\t{'target': 0.8999999761581421, 'params': {'dropoutRate': 0.48730463028775906, 'lr': 0.0031349283574142696, 'norm_rate': 0.3769290462677256}}\n",
            "Iteration 8: \n",
            "\t{'target': 0.8999999761581421, 'params': {'dropoutRate': 0.45055566091841537, 'lr': 0.00894617202837497, 'norm_rate': 0.1340176845479112}}\n",
            "Iteration 9: \n",
            "\t{'target': 0.8999999761581421, 'params': {'dropoutRate': 0.11562191329315295, 'lr': 0.0016991343652261244, 'norm_rate': 0.4512570013717653}}\n",
            "Iteration 10: \n",
            "\t{'target': 0.800000011920929, 'params': {'dropoutRate': 0.13933873353322004, 'lr': 0.0042116551424255175, 'norm_rate': 0.48315581206020075}}\n",
            "Iteration 11: \n",
            "\t{'target': 0.8999999761581421, 'params': {'dropoutRate': 0.31326611398920684, 'lr': 0.0069190792623907834, 'norm_rate': 0.2262062524024252}}\n",
            "Iteration 12: \n",
            "\t{'target': 1.0, 'params': {'dropoutRate': 0.37460037107263344, 'lr': 0.008346422093301832, 'norm_rate': 0.10731531093767673}}\n",
            "Iteration 13: \n",
            "\t{'target': 0.8999999761581421, 'params': {'dropoutRate': 0.40005772597798706, 'lr': 0.009888622027976041, 'norm_rate': 0.3992662617519358}}\n",
            "Iteration 14: \n",
            "\t{'target': 1.0, 'params': {'dropoutRate': 0.2121775968257621, 'lr': 0.007893004005186433, 'norm_rate': 0.14129040263105683}}\n",
            "Iteration 15: \n",
            "\t{'target': 0.8999999761581421, 'params': {'dropoutRate': 0.2791574104703621, 'lr': 0.009086046435427863, 'norm_rate': 0.2174456593494718}}\n",
            "Iteration 16: \n",
            "\t{'target': 0.8999999761581421, 'params': {'dropoutRate': 0.2151101354345395, 'lr': 0.0013011556926106585, 'norm_rate': 0.10774678314811884}}\n",
            "Iteration 17: \n",
            "\t{'target': 1.0, 'params': {'dropoutRate': 0.37153421317595636, 'lr': 0.0021170695318845907, 'norm_rate': 0.2062186637488905}}\n",
            "Iteration 18: \n",
            "\t{'target': 0.8999999761581421, 'params': {'dropoutRate': 0.2966292637121353, 'lr': 0.0005345720886256868, 'norm_rate': 0.32964704219680524}}\n",
            "Iteration 19: \n",
            "\t{'target': 0.800000011920929, 'params': {'dropoutRate': 0.15869142996232408, 'lr': 0.00589346606349594, 'norm_rate': 0.37990334400837245}}\n",
            "Iteration 20: \n",
            "\t{'target': 0.8999999761581421, 'params': {'dropoutRate': 0.14093377153113035, 'lr': 0.004141145822207864, 'norm_rate': 0.3777600630910981}}\n",
            "Iteration 21: \n",
            "\t{'target': 1.0, 'params': {'dropoutRate': 0.2656717078107611, 'lr': 0.0005004846360019255, 'norm_rate': 0.31435856236620463}}\n",
            "Iteration 22: \n",
            "\t{'target': 0.800000011920929, 'params': {'dropoutRate': 0.3655178580879156, 'lr': 0.005149376231471028, 'norm_rate': 0.4778379023963254}}\n",
            "Iteration 23: \n",
            "\t{'target': 0.800000011920929, 'params': {'dropoutRate': 0.3346220162007972, 'lr': 0.009034115750963547, 'norm_rate': 0.15498988165849503}}\n",
            "Iteration 24: \n",
            "\t{'target': 0.800000011920929, 'params': {'dropoutRate': 0.15571053890030342, 'lr': 0.00807410549580653, 'norm_rate': 0.25907073479421344}}\n",
            "{'target': 1.0, 'params': {'dropoutRate': 0.22093302905273593, 'lr': 0.0014684121522803135, 'norm_rate': 0.13693543790751914}}\n"
          ]
        }
      ],
      "source": [
        "!pip install bayesian-optimization==1.4.1\n",
        "from functools import partial\n",
        "from bayes_opt import BayesianOptimization\n",
        "\n",
        "def fit_with(norm_rate, dropoutRate, lr):\n",
        "\n",
        "    # Create the model using a specified hyperparameters.\n",
        "    model = EEGNett(nb_classes = 2, Chans = 30, Samples = 205,\n",
        "                    dropoutRate = dropoutRate, kernLength = 32, F1 = 8,\n",
        "                    D = 2, F2 = 16, norm_rate = norm_rate, dropoutType = 'Dropout')\n",
        "\n",
        "    # Train the model for a specified number of epochs.\n",
        "    optimizer= Adam(learning_rate = lr)\n",
        "    model.compile(optimizer=optimizer,\n",
        "                  loss    = 'sparse_categorical_crossentropy',\n",
        "                  metrics ='accuracy')\n",
        "    callback = tf.keras.callbacks.EarlyStopping (monitor='val_loss', mode='min', verbose = 0, patience=3)\n",
        "    mc = ModelCheckpoint('best_model.h5', monitor='val_loss', mode='min', verbose=0, save_best_only=True)\n",
        "\n",
        "    # Train the model with the train dataset.\n",
        "    model.fit(x_train, y_train, validation_data = (x_val,y_val),callbacks = [callback, mc], epochs = 100, verbose = 0)\n",
        "\n",
        "    # Evaluate the model with the eval dataset.\n",
        "    score = model.evaluate(x_val,y_val, verbose=1)\n",
        "\n",
        "    print('Test loss:', score[0])\n",
        "    print('Test accuracy:', score[1])\n",
        "    print('\\n')\n",
        "\n",
        "    # Return the accuracy.\n",
        "\n",
        "    return score[1]\n",
        "\n",
        "fit_with_partial = partial(fit_with)\n",
        "\n",
        "bounds = {'dropoutRate': (0.1, 0.5),\n",
        "            'norm_rate' : (0.1, 0.5),\n",
        "            'lr'           : (1e-6, 0.01)}\n",
        "\n",
        "hytune = BayesianOptimization(\n",
        "    f            = fit_with_partial,\n",
        "    pbounds      = bounds,\n",
        "    random_state = 1\n",
        ")\n",
        "\n",
        "\n",
        "hytune.maximize(init_points = 25, n_iter = 0,)\n",
        "\n",
        "\n",
        "for i, res in enumerate(hytune.res):\n",
        "    print(\"Iteration {}: \\n\\t{}\".format(i, res))\n",
        "\n",
        "print(hytune.max)"
      ]
    },
    {
      "cell_type": "markdown",
      "source": [
        "7. Setting the tuned hyperparameters for the model before compiling and training it."
      ],
      "metadata": {
        "id": "5flQ9k-vvaw_"
      }
    },
    {
      "cell_type": "code",
      "execution_count": 18,
      "metadata": {
        "colab": {
          "base_uri": "https://localhost:8080/"
        },
        "id": "x9HSioIxqfG7",
        "outputId": "dd7f46b3-72d7-4a35-8084-a5333dbf1796"
      },
      "outputs": [
        {
          "output_type": "stream",
          "name": "stdout",
          "text": [
            "Model: \"model_26\"\n",
            "_________________________________________________________________\n",
            " Layer (type)                Output Shape              Param #   \n",
            "=================================================================\n",
            " input_27 (InputLayer)       [(None, 30, 205, 1)]      0         \n",
            "                                                                 \n",
            " conv2d_26 (Conv2D)          (None, 30, 205, 8)        256       \n",
            "                                                                 \n",
            " batch_normalization_78 (Bat  (None, 30, 205, 8)       32        \n",
            " chNormalization)                                                \n",
            "                                                                 \n",
            " depthwise_conv2d_26 (Depthw  (None, 1, 205, 16)       480       \n",
            " iseConv2D)                                                      \n",
            "                                                                 \n",
            " batch_normalization_79 (Bat  (None, 1, 205, 16)       64        \n",
            " chNormalization)                                                \n",
            "                                                                 \n",
            " activation_52 (Activation)  (None, 1, 205, 16)        0         \n",
            "                                                                 \n",
            " average_pooling2d_52 (Avera  (None, 1, 41, 16)        0         \n",
            " gePooling2D)                                                    \n",
            "                                                                 \n",
            " dropout_52 (Dropout)        (None, 1, 41, 16)         0         \n",
            "                                                                 \n",
            " separable_conv2d_26 (Separa  (None, 1, 41, 16)        512       \n",
            " bleConv2D)                                                      \n",
            "                                                                 \n",
            " batch_normalization_80 (Bat  (None, 1, 41, 16)        64        \n",
            " chNormalization)                                                \n",
            "                                                                 \n",
            " activation_53 (Activation)  (None, 1, 41, 16)         0         \n",
            "                                                                 \n",
            " average_pooling2d_53 (Avera  (None, 1, 8, 16)         0         \n",
            " gePooling2D)                                                    \n",
            "                                                                 \n",
            " dropout_53 (Dropout)        (None, 1, 8, 16)          0         \n",
            "                                                                 \n",
            " flatten (Flatten)           (None, 128)               0         \n",
            "                                                                 \n",
            " dense (Dense)               (None, 2)                 258       \n",
            "                                                                 \n",
            " softmax (Activation)        (None, 2)                 0         \n",
            "                                                                 \n",
            "=================================================================\n",
            "Total params: 1,666\n",
            "Trainable params: 1,586\n",
            "Non-trainable params: 80\n",
            "_________________________________________________________________\n",
            "Epoch 1/100\n",
            "2/2 [==============================] - ETA: 0s - loss: 0.7536 - accuracy: 0.5370\n",
            "Epoch 1: val_loss improved from inf to 0.69197, saving model to best_model.h5\n",
            "2/2 [==============================] - 2s 403ms/step - loss: 0.7536 - accuracy: 0.5370 - val_loss: 0.6920 - val_accuracy: 0.7000\n",
            "Epoch 2/100\n",
            "2/2 [==============================] - ETA: 0s - loss: 0.6638 - accuracy: 0.7222\n",
            "Epoch 2: val_loss improved from 0.69197 to 0.69062, saving model to best_model.h5\n",
            "2/2 [==============================] - 0s 198ms/step - loss: 0.6638 - accuracy: 0.7222 - val_loss: 0.6906 - val_accuracy: 0.8000\n",
            "Epoch 3/100\n",
            "2/2 [==============================] - ETA: 0s - loss: 0.6358 - accuracy: 0.6852\n",
            "Epoch 3: val_loss improved from 0.69062 to 0.68841, saving model to best_model.h5\n",
            "2/2 [==============================] - 0s 199ms/step - loss: 0.6358 - accuracy: 0.6852 - val_loss: 0.6884 - val_accuracy: 0.7000\n",
            "Epoch 4/100\n",
            "2/2 [==============================] - ETA: 0s - loss: 0.6125 - accuracy: 0.6667\n",
            "Epoch 4: val_loss improved from 0.68841 to 0.68507, saving model to best_model.h5\n",
            "2/2 [==============================] - 0s 201ms/step - loss: 0.6125 - accuracy: 0.6667 - val_loss: 0.6851 - val_accuracy: 0.7000\n",
            "Epoch 5/100\n",
            "2/2 [==============================] - ETA: 0s - loss: 0.5931 - accuracy: 0.7222\n",
            "Epoch 5: val_loss improved from 0.68507 to 0.68033, saving model to best_model.h5\n",
            "2/2 [==============================] - 0s 214ms/step - loss: 0.5931 - accuracy: 0.7222 - val_loss: 0.6803 - val_accuracy: 0.7000\n",
            "Epoch 6/100\n",
            "2/2 [==============================] - ETA: 0s - loss: 0.5558 - accuracy: 0.7222\n",
            "Epoch 6: val_loss improved from 0.68033 to 0.67496, saving model to best_model.h5\n",
            "2/2 [==============================] - 0s 207ms/step - loss: 0.5558 - accuracy: 0.7222 - val_loss: 0.6750 - val_accuracy: 0.7000\n",
            "Epoch 7/100\n",
            "2/2 [==============================] - ETA: 0s - loss: 0.5316 - accuracy: 0.7778\n",
            "Epoch 7: val_loss improved from 0.67496 to 0.66855, saving model to best_model.h5\n",
            "2/2 [==============================] - 0s 195ms/step - loss: 0.5316 - accuracy: 0.7778 - val_loss: 0.6686 - val_accuracy: 0.7000\n",
            "Epoch 8/100\n",
            "2/2 [==============================] - ETA: 0s - loss: 0.4854 - accuracy: 0.8333\n",
            "Epoch 8: val_loss improved from 0.66855 to 0.66101, saving model to best_model.h5\n",
            "2/2 [==============================] - 0s 207ms/step - loss: 0.4854 - accuracy: 0.8333 - val_loss: 0.6610 - val_accuracy: 0.8000\n",
            "Epoch 9/100\n",
            "2/2 [==============================] - ETA: 0s - loss: 0.4567 - accuracy: 0.8889\n",
            "Epoch 9: val_loss improved from 0.66101 to 0.65169, saving model to best_model.h5\n",
            "2/2 [==============================] - 0s 201ms/step - loss: 0.4567 - accuracy: 0.8889 - val_loss: 0.6517 - val_accuracy: 0.8000\n",
            "Epoch 10/100\n",
            "2/2 [==============================] - ETA: 0s - loss: 0.4505 - accuracy: 0.8519\n",
            "Epoch 10: val_loss improved from 0.65169 to 0.64139, saving model to best_model.h5\n",
            "2/2 [==============================] - 0s 198ms/step - loss: 0.4505 - accuracy: 0.8519 - val_loss: 0.6414 - val_accuracy: 0.9000\n",
            "Epoch 11/100\n",
            "2/2 [==============================] - ETA: 0s - loss: 0.4350 - accuracy: 0.8519\n",
            "Epoch 11: val_loss improved from 0.64139 to 0.63029, saving model to best_model.h5\n",
            "2/2 [==============================] - 0s 192ms/step - loss: 0.4350 - accuracy: 0.8519 - val_loss: 0.6303 - val_accuracy: 0.9000\n",
            "Epoch 12/100\n",
            "2/2 [==============================] - ETA: 0s - loss: 0.3871 - accuracy: 0.8889\n",
            "Epoch 12: val_loss improved from 0.63029 to 0.61738, saving model to best_model.h5\n",
            "2/2 [==============================] - 0s 208ms/step - loss: 0.3871 - accuracy: 0.8889 - val_loss: 0.6174 - val_accuracy: 0.9000\n",
            "Epoch 13/100\n",
            "2/2 [==============================] - ETA: 0s - loss: 0.3735 - accuracy: 0.9259\n",
            "Epoch 13: val_loss improved from 0.61738 to 0.60327, saving model to best_model.h5\n",
            "2/2 [==============================] - 0s 210ms/step - loss: 0.3735 - accuracy: 0.9259 - val_loss: 0.6033 - val_accuracy: 0.9000\n",
            "Epoch 14/100\n",
            "2/2 [==============================] - ETA: 0s - loss: 0.3506 - accuracy: 0.9259\n",
            "Epoch 14: val_loss improved from 0.60327 to 0.58888, saving model to best_model.h5\n",
            "2/2 [==============================] - 0s 193ms/step - loss: 0.3506 - accuracy: 0.9259 - val_loss: 0.5889 - val_accuracy: 0.9000\n",
            "Epoch 15/100\n",
            "2/2 [==============================] - ETA: 0s - loss: 0.3335 - accuracy: 0.9074\n",
            "Epoch 15: val_loss improved from 0.58888 to 0.57388, saving model to best_model.h5\n",
            "2/2 [==============================] - 0s 220ms/step - loss: 0.3335 - accuracy: 0.9074 - val_loss: 0.5739 - val_accuracy: 0.9000\n",
            "Epoch 16/100\n",
            "2/2 [==============================] - ETA: 0s - loss: 0.3109 - accuracy: 0.9259\n",
            "Epoch 16: val_loss improved from 0.57388 to 0.55964, saving model to best_model.h5\n",
            "2/2 [==============================] - 0s 210ms/step - loss: 0.3109 - accuracy: 0.9259 - val_loss: 0.5596 - val_accuracy: 0.9000\n",
            "Epoch 17/100\n",
            "2/2 [==============================] - ETA: 0s - loss: 0.3157 - accuracy: 0.9074\n",
            "Epoch 17: val_loss improved from 0.55964 to 0.54617, saving model to best_model.h5\n",
            "2/2 [==============================] - 0s 195ms/step - loss: 0.3157 - accuracy: 0.9074 - val_loss: 0.5462 - val_accuracy: 0.9000\n",
            "Epoch 18/100\n",
            "2/2 [==============================] - ETA: 0s - loss: 0.2808 - accuracy: 0.9444\n",
            "Epoch 18: val_loss improved from 0.54617 to 0.53248, saving model to best_model.h5\n",
            "2/2 [==============================] - 0s 211ms/step - loss: 0.2808 - accuracy: 0.9444 - val_loss: 0.5325 - val_accuracy: 0.9000\n",
            "Epoch 19/100\n",
            "2/2 [==============================] - ETA: 0s - loss: 0.2770 - accuracy: 0.9630\n",
            "Epoch 19: val_loss improved from 0.53248 to 0.51876, saving model to best_model.h5\n",
            "2/2 [==============================] - 0s 207ms/step - loss: 0.2770 - accuracy: 0.9630 - val_loss: 0.5188 - val_accuracy: 0.9000\n",
            "Epoch 20/100\n",
            "2/2 [==============================] - ETA: 0s - loss: 0.2558 - accuracy: 0.9815\n",
            "Epoch 20: val_loss improved from 0.51876 to 0.50590, saving model to best_model.h5\n",
            "2/2 [==============================] - 0s 203ms/step - loss: 0.2558 - accuracy: 0.9815 - val_loss: 0.5059 - val_accuracy: 0.9000\n",
            "Epoch 21/100\n",
            "2/2 [==============================] - ETA: 0s - loss: 0.2874 - accuracy: 0.9630\n",
            "Epoch 21: val_loss improved from 0.50590 to 0.49357, saving model to best_model.h5\n",
            "2/2 [==============================] - 0s 194ms/step - loss: 0.2874 - accuracy: 0.9630 - val_loss: 0.4936 - val_accuracy: 0.9000\n",
            "Epoch 22/100\n",
            "2/2 [==============================] - ETA: 0s - loss: 0.2407 - accuracy: 0.9630\n",
            "Epoch 22: val_loss improved from 0.49357 to 0.48235, saving model to best_model.h5\n",
            "2/2 [==============================] - 0s 206ms/step - loss: 0.2407 - accuracy: 0.9630 - val_loss: 0.4823 - val_accuracy: 0.9000\n",
            "Epoch 23/100\n",
            "2/2 [==============================] - ETA: 0s - loss: 0.2554 - accuracy: 0.9444\n",
            "Epoch 23: val_loss improved from 0.48235 to 0.47076, saving model to best_model.h5\n",
            "2/2 [==============================] - 0s 221ms/step - loss: 0.2554 - accuracy: 0.9444 - val_loss: 0.4708 - val_accuracy: 1.0000\n",
            "Epoch 24/100\n",
            "2/2 [==============================] - ETA: 0s - loss: 0.2291 - accuracy: 0.9630\n",
            "Epoch 24: val_loss improved from 0.47076 to 0.45941, saving model to best_model.h5\n",
            "2/2 [==============================] - 1s 338ms/step - loss: 0.2291 - accuracy: 0.9630 - val_loss: 0.4594 - val_accuracy: 1.0000\n",
            "Epoch 25/100\n",
            "2/2 [==============================] - ETA: 0s - loss: 0.2277 - accuracy: 0.9630\n",
            "Epoch 25: val_loss improved from 0.45941 to 0.44939, saving model to best_model.h5\n",
            "2/2 [==============================] - 1s 342ms/step - loss: 0.2277 - accuracy: 0.9630 - val_loss: 0.4494 - val_accuracy: 1.0000\n",
            "Epoch 26/100\n",
            "2/2 [==============================] - ETA: 0s - loss: 0.2132 - accuracy: 0.9630\n",
            "Epoch 26: val_loss improved from 0.44939 to 0.43999, saving model to best_model.h5\n",
            "2/2 [==============================] - 1s 330ms/step - loss: 0.2132 - accuracy: 0.9630 - val_loss: 0.4400 - val_accuracy: 1.0000\n",
            "Epoch 27/100\n",
            "2/2 [==============================] - ETA: 0s - loss: 0.2126 - accuracy: 0.9815\n",
            "Epoch 27: val_loss improved from 0.43999 to 0.43161, saving model to best_model.h5\n",
            "2/2 [==============================] - 1s 354ms/step - loss: 0.2126 - accuracy: 0.9815 - val_loss: 0.4316 - val_accuracy: 1.0000\n",
            "Epoch 28/100\n",
            "2/2 [==============================] - ETA: 0s - loss: 0.2041 - accuracy: 0.9815\n",
            "Epoch 28: val_loss improved from 0.43161 to 0.42422, saving model to best_model.h5\n",
            "2/2 [==============================] - 1s 314ms/step - loss: 0.2041 - accuracy: 0.9815 - val_loss: 0.4242 - val_accuracy: 1.0000\n",
            "Epoch 29/100\n",
            "2/2 [==============================] - ETA: 0s - loss: 0.1997 - accuracy: 0.9815\n",
            "Epoch 29: val_loss improved from 0.42422 to 0.41676, saving model to best_model.h5\n",
            "2/2 [==============================] - 1s 315ms/step - loss: 0.1997 - accuracy: 0.9815 - val_loss: 0.4168 - val_accuracy: 1.0000\n",
            "Epoch 30/100\n",
            "2/2 [==============================] - ETA: 0s - loss: 0.1973 - accuracy: 0.9815\n",
            "Epoch 30: val_loss improved from 0.41676 to 0.41212, saving model to best_model.h5\n",
            "2/2 [==============================] - 1s 267ms/step - loss: 0.1973 - accuracy: 0.9815 - val_loss: 0.4121 - val_accuracy: 1.0000\n",
            "Epoch 31/100\n",
            "2/2 [==============================] - ETA: 0s - loss: 0.1884 - accuracy: 0.9815\n",
            "Epoch 31: val_loss improved from 0.41212 to 0.40661, saving model to best_model.h5\n",
            "2/2 [==============================] - 0s 196ms/step - loss: 0.1884 - accuracy: 0.9815 - val_loss: 0.4066 - val_accuracy: 1.0000\n",
            "Epoch 32/100\n",
            "2/2 [==============================] - ETA: 0s - loss: 0.1834 - accuracy: 0.9815\n",
            "Epoch 32: val_loss improved from 0.40661 to 0.40317, saving model to best_model.h5\n",
            "2/2 [==============================] - 0s 193ms/step - loss: 0.1834 - accuracy: 0.9815 - val_loss: 0.4032 - val_accuracy: 1.0000\n",
            "Epoch 33/100\n",
            "2/2 [==============================] - ETA: 0s - loss: 0.1769 - accuracy: 0.9630\n",
            "Epoch 33: val_loss improved from 0.40317 to 0.40081, saving model to best_model.h5\n",
            "2/2 [==============================] - 1s 620ms/step - loss: 0.1769 - accuracy: 0.9630 - val_loss: 0.4008 - val_accuracy: 1.0000\n",
            "Epoch 34/100\n",
            "2/2 [==============================] - ETA: 0s - loss: 0.1832 - accuracy: 0.9815\n",
            "Epoch 34: val_loss improved from 0.40081 to 0.39910, saving model to best_model.h5\n",
            "2/2 [==============================] - 0s 189ms/step - loss: 0.1832 - accuracy: 0.9815 - val_loss: 0.3991 - val_accuracy: 1.0000\n",
            "Epoch 35/100\n",
            "2/2 [==============================] - ETA: 0s - loss: 0.1866 - accuracy: 0.9815\n",
            "Epoch 35: val_loss improved from 0.39910 to 0.39615, saving model to best_model.h5\n",
            "2/2 [==============================] - 1s 594ms/step - loss: 0.1866 - accuracy: 0.9815 - val_loss: 0.3962 - val_accuracy: 1.0000\n",
            "Epoch 36/100\n",
            "2/2 [==============================] - ETA: 0s - loss: 0.1727 - accuracy: 0.9630\n",
            "Epoch 36: val_loss improved from 0.39615 to 0.39202, saving model to best_model.h5\n",
            "2/2 [==============================] - 0s 206ms/step - loss: 0.1727 - accuracy: 0.9630 - val_loss: 0.3920 - val_accuracy: 1.0000\n",
            "Epoch 37/100\n",
            "2/2 [==============================] - ETA: 0s - loss: 0.1582 - accuracy: 0.9815\n",
            "Epoch 37: val_loss improved from 0.39202 to 0.39072, saving model to best_model.h5\n",
            "2/2 [==============================] - 1s 583ms/step - loss: 0.1582 - accuracy: 0.9815 - val_loss: 0.3907 - val_accuracy: 1.0000\n",
            "Epoch 38/100\n",
            "2/2 [==============================] - ETA: 0s - loss: 0.1671 - accuracy: 0.9815\n",
            "Epoch 38: val_loss improved from 0.39072 to 0.38950, saving model to best_model.h5\n",
            "2/2 [==============================] - 0s 199ms/step - loss: 0.1671 - accuracy: 0.9815 - val_loss: 0.3895 - val_accuracy: 1.0000\n",
            "Epoch 39/100\n",
            "2/2 [==============================] - ETA: 0s - loss: 0.1725 - accuracy: 0.9630\n",
            "Epoch 39: val_loss improved from 0.38950 to 0.38734, saving model to best_model.h5\n",
            "2/2 [==============================] - 0s 201ms/step - loss: 0.1725 - accuracy: 0.9630 - val_loss: 0.3873 - val_accuracy: 1.0000\n",
            "Epoch 40/100\n",
            "2/2 [==============================] - ETA: 0s - loss: 0.1585 - accuracy: 0.9815\n",
            "Epoch 40: val_loss improved from 0.38734 to 0.38069, saving model to best_model.h5\n",
            "2/2 [==============================] - 0s 198ms/step - loss: 0.1585 - accuracy: 0.9815 - val_loss: 0.3807 - val_accuracy: 1.0000\n",
            "Epoch 41/100\n",
            "2/2 [==============================] - ETA: 0s - loss: 0.1704 - accuracy: 0.9815\n",
            "Epoch 41: val_loss improved from 0.38069 to 0.37283, saving model to best_model.h5\n",
            "2/2 [==============================] - 0s 201ms/step - loss: 0.1704 - accuracy: 0.9815 - val_loss: 0.3728 - val_accuracy: 1.0000\n",
            "Epoch 42/100\n",
            "2/2 [==============================] - ETA: 0s - loss: 0.1554 - accuracy: 0.9815\n",
            "Epoch 42: val_loss improved from 0.37283 to 0.36343, saving model to best_model.h5\n",
            "2/2 [==============================] - 0s 193ms/step - loss: 0.1554 - accuracy: 0.9815 - val_loss: 0.3634 - val_accuracy: 1.0000\n",
            "Epoch 43/100\n",
            "2/2 [==============================] - ETA: 0s - loss: 0.1504 - accuracy: 1.0000\n",
            "Epoch 43: val_loss improved from 0.36343 to 0.35438, saving model to best_model.h5\n",
            "2/2 [==============================] - 0s 189ms/step - loss: 0.1504 - accuracy: 1.0000 - val_loss: 0.3544 - val_accuracy: 1.0000\n",
            "Epoch 44/100\n",
            "2/2 [==============================] - ETA: 0s - loss: 0.1507 - accuracy: 1.0000\n",
            "Epoch 44: val_loss improved from 0.35438 to 0.34644, saving model to best_model.h5\n",
            "2/2 [==============================] - 0s 197ms/step - loss: 0.1507 - accuracy: 1.0000 - val_loss: 0.3464 - val_accuracy: 1.0000\n",
            "Epoch 45/100\n",
            "2/2 [==============================] - ETA: 0s - loss: 0.1466 - accuracy: 0.9815\n",
            "Epoch 45: val_loss improved from 0.34644 to 0.34052, saving model to best_model.h5\n",
            "2/2 [==============================] - 0s 193ms/step - loss: 0.1466 - accuracy: 0.9815 - val_loss: 0.3405 - val_accuracy: 1.0000\n",
            "Epoch 46/100\n",
            "2/2 [==============================] - ETA: 0s - loss: 0.1535 - accuracy: 0.9815\n",
            "Epoch 46: val_loss improved from 0.34052 to 0.33858, saving model to best_model.h5\n",
            "2/2 [==============================] - 0s 208ms/step - loss: 0.1535 - accuracy: 0.9815 - val_loss: 0.3386 - val_accuracy: 1.0000\n",
            "Epoch 47/100\n",
            "2/2 [==============================] - ETA: 0s - loss: 0.1472 - accuracy: 1.0000\n",
            "Epoch 47: val_loss improved from 0.33858 to 0.33758, saving model to best_model.h5\n",
            "2/2 [==============================] - 0s 216ms/step - loss: 0.1472 - accuracy: 1.0000 - val_loss: 0.3376 - val_accuracy: 1.0000\n",
            "Epoch 48/100\n",
            "2/2 [==============================] - ETA: 0s - loss: 0.1570 - accuracy: 0.9815\n",
            "Epoch 48: val_loss improved from 0.33758 to 0.33327, saving model to best_model.h5\n",
            "2/2 [==============================] - 0s 202ms/step - loss: 0.1570 - accuracy: 0.9815 - val_loss: 0.3333 - val_accuracy: 1.0000\n",
            "Epoch 49/100\n",
            "2/2 [==============================] - ETA: 0s - loss: 0.1314 - accuracy: 1.0000\n",
            "Epoch 49: val_loss improved from 0.33327 to 0.32845, saving model to best_model.h5\n",
            "2/2 [==============================] - 0s 209ms/step - loss: 0.1314 - accuracy: 1.0000 - val_loss: 0.3284 - val_accuracy: 1.0000\n",
            "Epoch 50/100\n",
            "2/2 [==============================] - ETA: 0s - loss: 0.1388 - accuracy: 0.9815\n",
            "Epoch 50: val_loss improved from 0.32845 to 0.32608, saving model to best_model.h5\n",
            "2/2 [==============================] - 0s 191ms/step - loss: 0.1388 - accuracy: 0.9815 - val_loss: 0.3261 - val_accuracy: 1.0000\n",
            "Epoch 51/100\n",
            "2/2 [==============================] - ETA: 0s - loss: 0.1337 - accuracy: 1.0000\n",
            "Epoch 51: val_loss improved from 0.32608 to 0.32506, saving model to best_model.h5\n",
            "2/2 [==============================] - 0s 192ms/step - loss: 0.1337 - accuracy: 1.0000 - val_loss: 0.3251 - val_accuracy: 1.0000\n",
            "Epoch 52/100\n",
            "2/2 [==============================] - ETA: 0s - loss: 0.1308 - accuracy: 1.0000\n",
            "Epoch 52: val_loss did not improve from 0.32506\n",
            "2/2 [==============================] - 0s 162ms/step - loss: 0.1308 - accuracy: 1.0000 - val_loss: 0.3269 - val_accuracy: 1.0000\n",
            "Epoch 53/100\n",
            "2/2 [==============================] - ETA: 0s - loss: 0.1277 - accuracy: 1.0000\n",
            "Epoch 53: val_loss did not improve from 0.32506\n",
            "2/2 [==============================] - 0s 158ms/step - loss: 0.1277 - accuracy: 1.0000 - val_loss: 0.3263 - val_accuracy: 1.0000\n",
            "Epoch 54/100\n",
            "2/2 [==============================] - ETA: 0s - loss: 0.1244 - accuracy: 1.0000\n",
            "Epoch 54: val_loss improved from 0.32506 to 0.32262, saving model to best_model.h5\n",
            "2/2 [==============================] - 0s 257ms/step - loss: 0.1244 - accuracy: 1.0000 - val_loss: 0.3226 - val_accuracy: 1.0000\n",
            "Epoch 55/100\n",
            "2/2 [==============================] - ETA: 0s - loss: 0.1252 - accuracy: 1.0000\n",
            "Epoch 55: val_loss improved from 0.32262 to 0.31761, saving model to best_model.h5\n",
            "2/2 [==============================] - 1s 294ms/step - loss: 0.1252 - accuracy: 1.0000 - val_loss: 0.3176 - val_accuracy: 1.0000\n",
            "Epoch 56/100\n",
            "2/2 [==============================] - ETA: 0s - loss: 0.1263 - accuracy: 1.0000\n",
            "Epoch 56: val_loss improved from 0.31761 to 0.31733, saving model to best_model.h5\n",
            "2/2 [==============================] - 1s 344ms/step - loss: 0.1263 - accuracy: 1.0000 - val_loss: 0.3173 - val_accuracy: 1.0000\n",
            "Epoch 57/100\n",
            "2/2 [==============================] - ETA: 0s - loss: 0.1446 - accuracy: 1.0000\n",
            "Epoch 57: val_loss improved from 0.31733 to 0.31665, saving model to best_model.h5\n",
            "2/2 [==============================] - 1s 361ms/step - loss: 0.1446 - accuracy: 1.0000 - val_loss: 0.3166 - val_accuracy: 1.0000\n",
            "Epoch 58/100\n",
            "2/2 [==============================] - ETA: 0s - loss: 0.1223 - accuracy: 1.0000\n",
            "Epoch 58: val_loss improved from 0.31665 to 0.31428, saving model to best_model.h5\n",
            "2/2 [==============================] - 1s 332ms/step - loss: 0.1223 - accuracy: 1.0000 - val_loss: 0.3143 - val_accuracy: 1.0000\n",
            "Epoch 59/100\n",
            "2/2 [==============================] - ETA: 0s - loss: 0.1161 - accuracy: 1.0000\n",
            "Epoch 59: val_loss improved from 0.31428 to 0.31237, saving model to best_model.h5\n",
            "2/2 [==============================] - 1s 332ms/step - loss: 0.1161 - accuracy: 1.0000 - val_loss: 0.3124 - val_accuracy: 1.0000\n",
            "Epoch 60/100\n",
            "2/2 [==============================] - ETA: 0s - loss: 0.1185 - accuracy: 1.0000\n",
            "Epoch 60: val_loss did not improve from 0.31237\n",
            "2/2 [==============================] - 1s 248ms/step - loss: 0.1185 - accuracy: 1.0000 - val_loss: 0.3131 - val_accuracy: 1.0000\n",
            "Epoch 61/100\n",
            "2/2 [==============================] - ETA: 0s - loss: 0.1102 - accuracy: 1.0000\n",
            "Epoch 61: val_loss did not improve from 0.31237\n",
            "2/2 [==============================] - 0s 157ms/step - loss: 0.1102 - accuracy: 1.0000 - val_loss: 0.3150 - val_accuracy: 1.0000\n",
            "Epoch 62/100\n",
            "2/2 [==============================] - ETA: 0s - loss: 0.1035 - accuracy: 1.0000\n",
            "Epoch 62: val_loss did not improve from 0.31237\n",
            "2/2 [==============================] - 0s 159ms/step - loss: 0.1035 - accuracy: 1.0000 - val_loss: 0.3165 - val_accuracy: 1.0000\n",
            "Epoch 62: early stopping\n"
          ]
        }
      ],
      "source": [
        "newparam = hytune.max['params']\n",
        "lr = newparam['lr']\n",
        "dropoutRate = newparam['dropoutRate']\n",
        "norm_rate = newparam['norm_rate']\n",
        "newparam\n",
        "\n",
        "model_tuned = EEGNett(nb_classes = 2, Chans = 30, Samples = 205,\n",
        "                       dropoutRate = newparam['dropoutRate'], kernLength = 32, F1 = 8,\n",
        "                      D = 2, F2 = 16, norm_rate = newparam['norm_rate'], dropoutType = 'Dropout')\n",
        "\n",
        "model_tuned.compile(optimizer = Adam (learning_rate = newparam['lr']),\n",
        "                  loss = 'sparse_categorical_crossentropy',\n",
        "                  metrics = 'accuracy')\n",
        "\n",
        "model_tuned.summary()\n",
        "\n",
        "callback = tf.keras.callbacks.EarlyStopping (monitor='val_loss', mode='min', verbose = 1, patience=3)\n",
        "mc = ModelCheckpoint('best_model.h5', monitor='val_loss', mode='min', verbose=1, save_best_only=True)\n",
        "\n",
        "fitted    = model_tuned.fit(x_train, y_train, validation_data = (x_val,y_val),callbacks = [callback, mc], epochs = 100, shuffle = True, verbose = 1)\n",
        "saved_model = load_model('best_model.h5')"
      ]
    },
    {
      "cell_type": "markdown",
      "source": [
        "8. Evaluate the model training process."
      ],
      "metadata": {
        "id": "wfXpyqZBvqli"
      }
    },
    {
      "cell_type": "code",
      "execution_count": 19,
      "metadata": {
        "colab": {
          "base_uri": "https://localhost:8080/",
          "height": 541
        },
        "id": "W_KaJbmI9Cbv",
        "outputId": "5df94177-e4e7-420e-d091-c7e5a88c46f8"
      },
      "outputs": [
        {
          "output_type": "stream",
          "name": "stdout",
          "text": [
            "1/1 [==============================] - 0s 208ms/step - loss: 0.3124 - accuracy: 1.0000\n",
            "Validation score:  0.31236737966537476\n",
            "Validation accuracy:  1.0\n"
          ]
        },
        {
          "output_type": "execute_result",
          "data": {
            "text/plain": [
              "Text(0, 0.5, 'Accuracy')"
            ]
          },
          "metadata": {},
          "execution_count": 19
        },
        {
          "output_type": "display_data",
          "data": {
            "text/plain": [
              "<Figure size 640x480 with 1 Axes>"
            ],
            "image/png": "[encoded data removed]"
          },
          "metadata": {}
        }
      ],
      "source": [
        "score = saved_model.evaluate(x_val, y_val)\n",
        "print(\"Validation score: \", score[0])\n",
        "print(\"Validation accuracy: \", score[1])\n",
        "\n",
        "plt.plot(fitted.history['accuracy'])\n",
        "plt.plot(fitted.history['val_accuracy'])\n",
        "plt.legend([\"accuracy\",\"val_accuracy\"])\n",
        "plt.title('Accuracy Vs Val_Accuracy')\n",
        "plt.xlabel('Epoch')\n",
        "plt.ylabel('Accuracy')\n"
      ]
    },
    {
      "cell_type": "code",
      "execution_count": 20,
      "metadata": {
        "colab": {
          "base_uri": "https://localhost:8080/",
          "height": 489
        },
        "id": "dDJkL1PULXva",
        "outputId": "3494bd8f-670d-4eeb-ee7e-ae60031bab96"
      },
      "outputs": [
        {
          "output_type": "execute_result",
          "data": {
            "text/plain": [
              "Text(0, 0.5, 'loss')"
            ]
          },
          "metadata": {},
          "execution_count": 20
        },
        {
          "output_type": "display_data",
          "data": {
            "text/plain": [
              "<Figure size 640x480 with 1 Axes>"
            ],
            "image/png": "[encoded data removed]"
          },
          "metadata": {}
        }
      ],
      "source": [
        "plt.plot(fitted.history['loss'])\n",
        "plt.plot(fitted.history['val_loss'])\n",
        "plt.legend([\"loss\",\"val_loss\"])\n",
        "plt.title('loss Vs val_loss')\n",
        "plt.xlabel('Epoch')\n",
        "plt.ylabel('loss')"
      ]
    },
    {
      "cell_type": "markdown",
      "source": [
        "9. Plotting Confusion matrix."
      ],
      "metadata": {
        "id": "CMVlLyOKwDeG"
      }
    },
    {
      "cell_type": "code",
      "execution_count": 21,
      "metadata": {
        "colab": {
          "base_uri": "https://localhost:8080/",
          "height": 523
        },
        "id": "nCYQ45fDotCV",
        "outputId": "be16028f-d086-4f78-8127-36b1ab3da16c"
      },
      "outputs": [
        {
          "output_type": "stream",
          "name": "stdout",
          "text": [
            "Confusion matrix, without normalization\n"
          ]
        },
        {
          "output_type": "display_data",
          "data": {
            "text/plain": [
              "<Figure size 640x480 with 2 Axes>"
            ],
            "image/png": "[encoded data removed]"
          },
          "metadata": {}
        }
      ],
      "source": [
        "%matplotlib inline\n",
        "from sklearn.metrics import confusion_matrix\n",
        "import itertools\n",
        "import matplotlib.pyplot as plt\n",
        "\n",
        "predictions = saved_model.predict(x_val, batch_size=10, verbose=0)\n",
        "rounded_predictions = np.argmax(predictions, axis=-1)\n",
        "\n",
        "def plot_confusion_matrix(cm, classes,\n",
        "                        normalize=False,\n",
        "                        title='Confusion matrix',\n",
        "                        cmap=plt.cm.Blues):\n",
        "    \"\"\"\n",
        "    This function prints and plots the confusion matrix.\n",
        "    Normalization can be applied by setting `normalize=True`.\n",
        "    \"\"\"\n",
        "    plt.imshow(cm, interpolation='nearest', cmap=cmap)\n",
        "    plt.title(title)\n",
        "    plt.colorbar()\n",
        "    tick_marks = np.arange(len(classes))\n",
        "    plt.xticks(tick_marks, classes, rotation=45)\n",
        "    plt.yticks(tick_marks, classes)\n",
        "\n",
        "    if normalize:\n",
        "        cm = cm.astype('float') / cm.sum(axis=1)[:, np.newaxis]\n",
        "        print(\"Normalized confusion matrix\")\n",
        "    else:\n",
        "        print('Confusion matrix, without normalization')\n",
        "\n",
        "    thresh = cm.max() / 2.\n",
        "    for i, j in itertools.product(range(cm.shape[0]), range(cm.shape[1])):\n",
        "        plt.text(j, i, cm[i, j],\n",
        "            horizontalalignment=\"center\",\n",
        "            color=\"white\" if cm[i, j] > thresh else \"black\")\n",
        "\n",
        "    plt.tight_layout()\n",
        "    plt.ylabel('True label')\n",
        "    plt.xlabel('Predicted label')\n",
        "\n",
        "cm = confusion_matrix(y_true=y_val, y_pred=rounded_predictions)\n",
        "cm_plot_labels = ['deviant','standard']\n",
        "plot_confusion_matrix(cm=cm, classes=cm_plot_labels, title='Confusion Matrix')"
      ]
    },
    {
      "cell_type": "markdown",
      "source": [
        "10. Evaluate the model performance."
      ],
      "metadata": {
        "id": "jbjoA65rwMv6"
      }
    },
    {
      "cell_type": "code",
      "execution_count": 22,
      "metadata": {
        "colab": {
          "base_uri": "https://localhost:8080/"
        },
        "id": "Kb6bJa9b4ydO",
        "outputId": "4f423d6c-4e14-40dc-b9b6-21e9659168ba"
      },
      "outputs": [
        {
          "output_type": "stream",
          "name": "stdout",
          "text": [
            "Model Validation MMN\n",
            "********************\n",
            "Accuracy: 1.0\n",
            "Precision:  1.0\n",
            "Recall:  1.0\n",
            "F1 =  1.0\n",
            "Kappa Coefficient:  1.0\n"
          ]
        }
      ],
      "source": [
        "import numpy\n",
        "import sklearn.metrics\n",
        "\n",
        "print(\"Model Validation MMN\")\n",
        "print(\"********************\")\n",
        "acc = (cm[0][0] + cm[-1][-1]) / numpy.sum(cm)\n",
        "print(\"Accuracy:\", acc)\n",
        "\n",
        "precision = sklearn.metrics.precision_score(y_true=y_val, y_pred=rounded_predictions)\n",
        "print(\"Precision: \", precision)\n",
        "\n",
        "recall = sklearn.metrics.recall_score(y_true=y_val, y_pred=rounded_predictions)\n",
        "print(\"Recall: \", recall)\n",
        "\n",
        "f1 = 2*((precision * recall)/(precision + recall))\n",
        "print(\"F1 = \", f1)\n",
        "\n",
        "kappa = sklearn.metrics.cohen_kappa_score(y1=y_val, y2=rounded_predictions)\n",
        "print (\"Kappa Coefficient: \", kappa)"
      ]
    },
    {
      "cell_type": "code",
      "source": [
        "from sklearn.metrics import roc_curve\n",
        "from sklearn.metrics import roc_auc_score\n",
        "\n",
        "\n",
        "pred_prob1 = saved_model.predict(x_val)\n",
        "\n",
        "# roc curve for models\n",
        "fpr1, tpr1, thresh1 = roc_curve(y_val, pred_prob1[:,1], pos_label=1)\n",
        "\n",
        "# roc curve for tpr = fpr\n",
        "random_probs = [0 for i in range(len(y_val))]\n",
        "p_fpr, p_tpr, _ = roc_curve(y_val, random_probs, pos_label=1)\n",
        "\n",
        "# auc scores\n",
        "auc_score1 = roc_auc_score(y_val, pred_prob1[:,1])\n",
        "\n",
        "print('AUC score: ', auc_score1)\n",
        "\n",
        "# plot roc curves\n",
        "plt.plot(fpr1, tpr1, linestyle='--',color='orange', label='MMN')\n",
        "plt.plot(p_fpr, p_tpr, linestyle='--', color='blue')\n",
        "# title\n",
        "plt.title('ROC curve')\n",
        "# x label\n",
        "plt.xlabel('False Positive Rate')\n",
        "# y label\n",
        "plt.ylabel('True Positive rate')\n",
        "\n",
        "plt.legend(loc='best')\n",
        "plt.savefig('ROC',dpi=300)\n",
        "plt.show();"
      ],
      "metadata": {
        "colab": {
          "base_uri": "https://localhost:8080/",
          "height": 507
        },
        "id": "lA4UVLD7jIeN",
        "outputId": "80c97da3-8526-4499-fdee-7a4b933225f5"
      },
      "execution_count": 23,
      "outputs": [
        {
          "output_type": "stream",
          "name": "stdout",
          "text": [
            "1/1 [==============================] - 0s 120ms/step\n",
            "AUC score:  1.0\n"
          ]
        },
        {
          "output_type": "display_data",
          "data": {
            "text/plain": [
              "<Figure size 640x480 with 1 Axes>"
            ],
            "image/png": "[encoded data removed]"
          },
          "metadata": {}
        }
      ]
    },
    {
      "cell_type": "markdown",
      "source": [
        "11. Final validation and evaluation of the model."
      ],
      "metadata": {
        "id": "5fADscpgxAjk"
      }
    },
    {
      "cell_type": "code",
      "source": [
        "path5 = \"/tmp/dataset-main/mmn_valid_x/deviant\"\n",
        "deviant_valid = glob.glob(path5 + '**/*.csv',recursive=True)\n",
        "\n",
        "path6 = \"/tmp/dataset-main/mmn_valid_x/standard\"\n",
        "standard_valid = glob.glob(path6 + '**/*.csv',recursive=True)\n",
        "\n",
        "list_deviant_valid = [pd.read_csv (d3, index_col=None, header=0) for d3 in deviant_valid]\n",
        "df_deviant_valid = pd.concat(list_deviant_valid, axis=0, ignore_index=True)\n",
        "\n",
        "list_standard_valid = [pd.read_csv (s3, index_col=None, header=0) for s3 in standard_valid]\n",
        "df_standard_valid = pd.concat(list_standard_valid, axis=0, ignore_index=True)\n",
        "\n",
        "valid = [df_deviant_valid, df_standard_valid]\n",
        "validf = pd.concat(valid)\n",
        "\n",
        "validf.shape"
      ],
      "metadata": {
        "colab": {
          "base_uri": "https://localhost:8080/"
        },
        "id": "d_NEnk4FKQ3q",
        "outputId": "6c06279f-be86-42fe-e96e-10bbe0cadbd1"
      },
      "execution_count": 24,
      "outputs": [
        {
          "output_type": "execute_result",
          "data": {
            "text/plain": [
              "(820, 30)"
            ]
          },
          "metadata": {},
          "execution_count": 24
        }
      ]
    },
    {
      "cell_type": "code",
      "source": [
        "dvalid = os.listdir(\"/tmp/dataset-main/mmn_valid_x/deviant\")\n",
        "svalid = os.listdir(\"/tmp/dataset-main/mmn_valid_x/standard\")\n",
        "yvalid = dvalid + svalid\n",
        "labels3 = []\n",
        "for filename in yvalid:\n",
        "  label3 = filename.split('.')[0]\n",
        "  if label3 == \"Deviants\":\n",
        "    labels3.append(1)\n",
        "  else:\n",
        "    labels3.append(0)\n",
        "\n",
        "yvalid = pd.DataFrame({'filename': yvalid,\n",
        "                   'label3': labels3})\n",
        "yvalid.to_csv('y_valid.csv')\n",
        "y_valid = pd.read_csv('y_valid.csv')['label3'].values\n",
        "\n",
        "x_valid = validf\n",
        "x_valid = x_valid.values\n",
        "\n",
        "x_valid   = x_valid.reshape(4, 30, 205, 1)\n",
        "\n",
        "\n",
        "print(x_valid.shape)\n",
        "print(y_valid.shape)\n"
      ],
      "metadata": {
        "colab": {
          "base_uri": "https://localhost:8080/"
        },
        "id": "Y7mIj1UuJfeT",
        "outputId": "1fcc78ef-40e3-4f78-e6a7-d8b5e50dbbac"
      },
      "execution_count": 25,
      "outputs": [
        {
          "output_type": "stream",
          "name": "stdout",
          "text": [
            "(4, 30, 205, 1)\n",
            "(4,)\n"
          ]
        }
      ]
    },
    {
      "cell_type": "code",
      "source": [
        "predictions_valid = saved_model(x_valid, training=False)\n",
        "rounded_predictions_valid = np.argmax(predictions_valid, axis=-1)\n",
        "\n",
        "cm_valid= confusion_matrix(y_true=y_valid, y_pred=rounded_predictions_valid)\n",
        "cm_valid_plot_labels = ['deviant','standard']\n",
        "plot_confusion_matrix(cm=cm_valid, classes=cm_plot_labels, title='Confusion Matrix Validation')"
      ],
      "metadata": {
        "colab": {
          "base_uri": "https://localhost:8080/",
          "height": 523
        },
        "id": "nKgizCBZNt5Y",
        "outputId": "c8feaa71-12f3-4b51-9795-b2b39c0a8a3e"
      },
      "execution_count": 26,
      "outputs": [
        {
          "output_type": "stream",
          "name": "stdout",
          "text": [
            "Confusion matrix, without normalization\n"
          ]
        },
        {
          "output_type": "display_data",
          "data": {
            "text/plain": [
              "<Figure size 640x480 with 2 Axes>"
            ],
            "image/png": "[encoded data removed]"
          },
          "metadata": {}
        }
      ]
    },
    {
      "cell_type": "code",
      "source": [
        "print(\"Final Validation MMN\")\n",
        "print(\"********************\")\n",
        "acc_valid = (cm_valid[0][0] + cm_valid[-1][-1]) / numpy.sum(cm_valid)\n",
        "print(\"Accuracy:\", acc_valid)\n",
        "\n",
        "precision_valid = sklearn.metrics.precision_score(y_true=y_valid, y_pred=rounded_predictions_valid)\n",
        "print(\"Precision: \", precision_valid)\n",
        "\n",
        "recall_valid = sklearn.metrics.recall_score(y_true=y_valid, y_pred=rounded_predictions_valid)\n",
        "print(\"Recall: \", recall_valid)\n",
        "\n",
        "f1_valid = 2*((precision_valid * recall_valid)/(precision_valid + recall_valid))\n",
        "print(\"F1 = \", f1_valid)\n",
        "\n",
        "kappa_valid = sklearn.metrics.cohen_kappa_score(y1=y_valid, y2=rounded_predictions_valid)\n",
        "print (\"Kappa Coefficient: \", kappa_valid)"
      ],
      "metadata": {
        "colab": {
          "base_uri": "https://localhost:8080/"
        },
        "id": "-NBeJkMjOrPK",
        "outputId": "97766415-2acf-4026-d273-6834b9b0509d"
      },
      "execution_count": 27,
      "outputs": [
        {
          "output_type": "stream",
          "name": "stdout",
          "text": [
            "Final Validation MMN\n",
            "********************\n",
            "Accuracy: 1.0\n",
            "Precision:  1.0\n",
            "Recall:  1.0\n",
            "F1 =  1.0\n",
            "Kappa Coefficient:  1.0\n"
          ]
        }
      ]
    },
    {
      "cell_type": "code",
      "source": [
        "\n",
        "pred_prob2 = saved_model.predict(x_valid)\n",
        "\n",
        "# roc curve for models\n",
        "fpr2, tpr2, thresh2 = roc_curve(y_valid, pred_prob2[:,1], pos_label=1)\n",
        "\n",
        "# roc curve for tpr = fpr\n",
        "random_probs = [0 for i in range(len(y_valid))]\n",
        "p_fpr, p_tpr, _ = roc_curve(y_valid, random_probs, pos_label=1)\n",
        "\n",
        "# auc scores\n",
        "auc_score2 = roc_auc_score(y_valid, pred_prob2[:,1])\n",
        "\n",
        "print('AUC score: ', auc_score2)\n",
        "\n",
        "# plot roc curves\n",
        "plt.plot(fpr2, tpr2, linestyle='--',color='orange', label='MMN')\n",
        "plt.plot(p_fpr, p_tpr, linestyle='--', color='blue')\n",
        "# title\n",
        "plt.title('ROC curve')\n",
        "# x label\n",
        "plt.xlabel('False Positive Rate')\n",
        "# y label\n",
        "plt.ylabel('True Positive rate')\n",
        "\n",
        "plt.legend(loc='best')\n",
        "plt.savefig('ROC',dpi=300)\n",
        "plt.show();"
      ],
      "metadata": {
        "colab": {
          "base_uri": "https://localhost:8080/",
          "height": 507
        },
        "id": "QzL9_u0YFrB3",
        "outputId": "6cb51195-9972-4377-88af-f0413eb96cac"
      },
      "execution_count": 28,
      "outputs": [
        {
          "output_type": "stream",
          "name": "stdout",
          "text": [
            "1/1 [==============================] - 0s 37ms/step\n",
            "AUC score:  1.0\n"
          ]
        },
        {
          "output_type": "display_data",
          "data": {
            "text/plain": [
              "<Figure size 640x480 with 1 Axes>"
            ],
            "image/png": "[encoded data removed]"
          },
          "metadata": {}
        }
      ]
    }
  ],
  "metadata": {
    "colab": {
      "provenance": [],
      "authorship_tag": "ABX9TyMC+AUZjhAKCvuwhpm5i+8C",
      "include_colab_link": true
    },
    "kernelspec": {
      "display_name": "Python 3",
      "name": "python3"
    },
    "language_info": {
      "name": "python"
    }
  },
  "nbformat": 4,
  "nbformat_minor": 0
}