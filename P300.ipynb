{
  "cells": [
    {
      "cell_type": "markdown",
      "metadata": {
        "id": "view-in-github",
        "colab_type": "text"
      },
      "source": [
        "<a href=\"https://colab.research.google.com/github/Shenzzzz1980/dataset/blob/main/P300.ipynb\" target=\"_parent\"><img src=\"https://colab.research.google.com/assets/colab-badge.svg\" alt=\"Open In Colab\"/></a>"
      ]
    },
    {
      "cell_type": "markdown",
      "source": [
        "1. Import uploaded dataset from github into Colab."
      ],
      "metadata": {
        "id": "dvYevfztU6jP"
      }
    },
    {
      "cell_type": "code",
      "execution_count": 1,
      "metadata": {
        "colab": {
          "base_uri": "https://localhost:8080/"
        },
        "id": "poqdEGnVPtwo",
        "outputId": "24cced0c-a18b-41fa-9b30-1aac10eb7aaf"
      },
      "outputs": [
        {
          "output_type": "stream",
          "name": "stdout",
          "text": [
            "Looking in indexes: https://pypi.org/simple, https://us-python.pkg.dev/colab-wheels/public/simple/\n",
            "Collecting mne\n",
            "  Downloading mne-1.4.2-py3-none-any.whl (7.7 MB)\n",
            "\u001b[2K     \u001b[90m━━━━━━━━━━━━━━━━━━━━━━━━━━━━━━━━━━━━━━━━\u001b[0m \u001b[32m7.7/7.7 MB\u001b[0m \u001b[31m85.7 MB/s\u001b[0m eta \u001b[36m0:00:00\u001b[0m\n",
            "\u001b[?25hRequirement already satisfied: numpy>=1.15.4 in /usr/local/lib/python3.10/dist-packages (from mne) (1.22.4)\n",
            "Requirement already satisfied: scipy>=1.6.3 in /usr/local/lib/python3.10/dist-packages (from mne) (1.10.1)\n",
            "Requirement already satisfied: matplotlib>=3.4.0 in /usr/local/lib/python3.10/dist-packages (from mne) (3.7.1)\n",
            "Requirement already satisfied: tqdm in /usr/local/lib/python3.10/dist-packages (from mne) (4.65.0)\n",
            "Requirement already satisfied: pooch>=1.5 in /usr/local/lib/python3.10/dist-packages (from mne) (1.6.0)\n",
            "Requirement already satisfied: decorator in /usr/local/lib/python3.10/dist-packages (from mne) (4.4.2)\n",
            "Requirement already satisfied: packaging in /usr/local/lib/python3.10/dist-packages (from mne) (23.1)\n",
            "Requirement already satisfied: jinja2 in /usr/local/lib/python3.10/dist-packages (from mne) (3.1.2)\n",
            "Requirement already satisfied: contourpy>=1.0.1 in /usr/local/lib/python3.10/dist-packages (from matplotlib>=3.4.0->mne) (1.0.7)\n",
            "Requirement already satisfied: cycler>=0.10 in /usr/local/lib/python3.10/dist-packages (from matplotlib>=3.4.0->mne) (0.11.0)\n",
            "Requirement already satisfied: fonttools>=4.22.0 in /usr/local/lib/python3.10/dist-packages (from matplotlib>=3.4.0->mne) (4.39.3)\n",
            "Requirement already satisfied: kiwisolver>=1.0.1 in /usr/local/lib/python3.10/dist-packages (from matplotlib>=3.4.0->mne) (1.4.4)\n",
            "Requirement already satisfied: pillow>=6.2.0 in /usr/local/lib/python3.10/dist-packages (from matplotlib>=3.4.0->mne) (8.4.0)\n",
            "Requirement already satisfied: pyparsing>=2.3.1 in /usr/local/lib/python3.10/dist-packages (from matplotlib>=3.4.0->mne) (3.0.9)\n",
            "Requirement already satisfied: python-dateutil>=2.7 in /usr/local/lib/python3.10/dist-packages (from matplotlib>=3.4.0->mne) (2.8.2)\n",
            "Requirement already satisfied: appdirs>=1.3.0 in /usr/local/lib/python3.10/dist-packages (from pooch>=1.5->mne) (1.4.4)\n",
            "Requirement already satisfied: requests>=2.19.0 in /usr/local/lib/python3.10/dist-packages (from pooch>=1.5->mne) (2.27.1)\n",
            "Requirement already satisfied: MarkupSafe>=2.0 in /usr/local/lib/python3.10/dist-packages (from jinja2->mne) (2.1.2)\n",
            "Requirement already satisfied: six>=1.5 in /usr/local/lib/python3.10/dist-packages (from python-dateutil>=2.7->matplotlib>=3.4.0->mne) (1.16.0)\n",
            "Requirement already satisfied: urllib3<1.27,>=1.21.1 in /usr/local/lib/python3.10/dist-packages (from requests>=2.19.0->pooch>=1.5->mne) (1.26.15)\n",
            "Requirement already satisfied: certifi>=2017.4.17 in /usr/local/lib/python3.10/dist-packages (from requests>=2.19.0->pooch>=1.5->mne) (2022.12.7)\n",
            "Requirement already satisfied: charset-normalizer~=2.0.0 in /usr/local/lib/python3.10/dist-packages (from requests>=2.19.0->pooch>=1.5->mne) (2.0.12)\n",
            "Requirement already satisfied: idna<4,>=2.5 in /usr/local/lib/python3.10/dist-packages (from requests>=2.19.0->pooch>=1.5->mne) (3.4)\n",
            "Installing collected packages: mne\n",
            "Successfully installed mne-1.4.2\n",
            "Looking in indexes: https://pypi.org/simple, https://us-python.pkg.dev/colab-wheels/public/simple/\n",
            "Requirement already satisfied: h5py in /usr/local/lib/python3.10/dist-packages (3.8.0)\n",
            "Requirement already satisfied: numpy>=1.14.5 in /usr/local/lib/python3.10/dist-packages (from h5py) (1.22.4)\n",
            "Looking in indexes: https://pypi.org/simple, https://us-python.pkg.dev/colab-wheels/public/simple/\n",
            "Collecting bayesian-optimization==1.4.1\n",
            "  Downloading bayesian_optimization-1.4.1-py3-none-any.whl (18 kB)\n",
            "Requirement already satisfied: numpy>=1.9.0 in /usr/local/lib/python3.10/dist-packages (from bayesian-optimization==1.4.1) (1.22.4)\n",
            "Requirement already satisfied: scipy>=1.0.0 in /usr/local/lib/python3.10/dist-packages (from bayesian-optimization==1.4.1) (1.10.1)\n",
            "Requirement already satisfied: scikit-learn>=0.18.0 in /usr/local/lib/python3.10/dist-packages (from bayesian-optimization==1.4.1) (1.2.2)\n",
            "Collecting colorama (from bayesian-optimization==1.4.1)\n",
            "  Downloading colorama-0.4.6-py2.py3-none-any.whl (25 kB)\n",
            "Requirement already satisfied: joblib>=1.1.1 in /usr/local/lib/python3.10/dist-packages (from scikit-learn>=0.18.0->bayesian-optimization==1.4.1) (1.2.0)\n",
            "Requirement already satisfied: threadpoolctl>=2.0.0 in /usr/local/lib/python3.10/dist-packages (from scikit-learn>=0.18.0->bayesian-optimization==1.4.1) (3.1.0)\n",
            "\u001b[33mWARNING: The candidate selected for download or install is a yanked version: 'bayesian-optimization' candidate (version 1.4.1 at https://files.pythonhosted.org/packages/86/71/57ce5c1859e997b6a66fd368fcd940452032c7fb2208371117a693e5f70a/bayesian_optimization-1.4.1-py3-none-any.whl (from https://pypi.org/simple/bayesian-optimization/))\n",
            "Reason for being yanked: https://github.com/fmfn/BayesianOptimization/pull/388\u001b[0m\u001b[33m\n",
            "\u001b[0mInstalling collected packages: colorama, bayesian-optimization\n",
            "Successfully installed bayesian-optimization-1.4.1 colorama-0.4.6\n",
            "--2023-06-21 15:30:45--  https://github.com/Shenzzzz1980/dataset/archive/refs/heads/main.zip\n",
            "Resolving github.com (github.com)... 140.82.112.3\n",
            "Connecting to github.com (github.com)|140.82.112.3|:443... connected.\n",
            "HTTP request sent, awaiting response... 302 Found\n",
            "Location: https://codeload.github.com/Shenzzzz1980/dataset/zip/refs/heads/main [following]\n",
            "--2023-06-21 15:30:46--  https://codeload.github.com/Shenzzzz1980/dataset/zip/refs/heads/main\n",
            "Resolving codeload.github.com (codeload.github.com)... 140.82.112.10\n",
            "Connecting to codeload.github.com (codeload.github.com)|140.82.112.10|:443... connected.\n",
            "HTTP request sent, awaiting response... 200 OK\n",
            "Length: unspecified [application/zip]\n",
            "Saving to: ‘/tmp/datasets.zip’\n",
            "\n",
            "/tmp/datasets.zip       [   <=>              ]   2.41M  5.20MB/s    in 0.5s    \n",
            "\n",
            "2023-06-21 15:30:46 (5.20 MB/s) - ‘/tmp/datasets.zip’ saved [2524025]\n",
            "\n"
          ]
        }
      ],
      "source": [
        "!pip install mne\n",
        "!pip install h5py\n",
        "!pip install bayesian-optimization==1.4.1\n",
        "import zipfile\n",
        "import os\n",
        "import numpy as np\n",
        "import matplotlib.pyplot as plt\n",
        "import pandas as pd\n",
        "\n",
        "\n",
        "!wget --no-check-certificate \\\n",
        "    \"https://github.com/Shenzzzz1980/dataset/archive/refs/heads/main.zip\" \\\n",
        "    -O \"/tmp/datasets.zip\"\n",
        "\n",
        "\n",
        "zip_ref = zipfile.ZipFile('/tmp/datasets.zip', 'r') #Opens the zip file in read mode\n",
        "zip_ref.extractall('/tmp') #Extracts the files into the /tmp folder\n",
        "zip_ref.close()\n"
      ]
    },
    {
      "cell_type": "markdown",
      "source": [
        "2. Create training data and testing data."
      ],
      "metadata": {
        "id": "bOZd-WeeVDm6"
      }
    },
    {
      "cell_type": "code",
      "execution_count": 2,
      "metadata": {
        "colab": {
          "base_uri": "https://localhost:8080/"
        },
        "id": "9rG7Ef0hlwdv",
        "outputId": "c3fcd049-325f-4d0b-d9ce-8efa2a25afff"
      },
      "outputs": [
        {
          "output_type": "execute_result",
          "data": {
            "text/plain": [
              "(11070, 30)"
            ]
          },
          "metadata": {},
          "execution_count": 2
        }
      ],
      "source": [
        "import mne\n",
        "import csv\n",
        "import pandas as pd\n",
        "import glob\n",
        "\n",
        "path1 = \"/tmp/dataset-main/p300_train_x/deviant\"\n",
        "deviant = glob.glob(path1 + '**/*.csv',recursive=True)\n",
        "\n",
        "path2 = \"/tmp/dataset-main/p300_train_x/standard\"\n",
        "standard = glob.glob(path2 + '**/*.csv',recursive=True)\n",
        "\n",
        "\n",
        "list_deviant = [pd.read_csv (d1, index_col=None, header=0) for d1 in deviant]\n",
        "df_deviant = pd.concat(list_deviant, axis=0, ignore_index=True)\n",
        "\n",
        "list_standard = [pd.read_csv (s1, index_col=None, header=0) for s1 in standard]\n",
        "df_standard = pd.concat(list_standard, axis=0, ignore_index=True)\n",
        "\n",
        "train = [df_deviant, df_standard]\n",
        "trainf = pd.concat(train)\n",
        "\n",
        "path3 = \"/tmp/dataset-main/p300_test_x/deviant\"\n",
        "deviant_test = glob.glob(path3 + '**/*.csv',recursive=True)\n",
        "\n",
        "path4 = \"/tmp/dataset-main/p300_test_x/standard\"\n",
        "standard_test = glob.glob(path4 + '**/*.csv',recursive=True)\n",
        "\n",
        "list_deviant_test = [pd.read_csv (d2, index_col=None, header=0) for d2 in deviant_test]\n",
        "df_deviant_test = pd.concat(list_deviant_test, axis=0, ignore_index=True)\n",
        "\n",
        "list_standard_test = [pd.read_csv (s2, index_col=None, header=0) for s2 in standard_test]\n",
        "df_standard_test = pd.concat(list_standard_test, axis=0, ignore_index=True)\n",
        "\n",
        "test = [df_deviant_test, df_standard_test]\n",
        "testf = pd.concat(test)\n",
        "\n",
        "trainf.shape\n"
      ]
    },
    {
      "cell_type": "markdown",
      "source": [
        "3. Create the labels for both training and testing data."
      ],
      "metadata": {
        "id": "Dy2Jvva2VJYD"
      }
    },
    {
      "cell_type": "code",
      "execution_count": 3,
      "metadata": {
        "id": "VwEGjRinuP0Q"
      },
      "outputs": [],
      "source": [
        "import tensorflow as tf\n",
        "import cv2\n",
        "\n",
        "d = os.listdir(\"/tmp/dataset-main/p300_train_x/deviant\")\n",
        "s = os.listdir(\"/tmp/dataset-main/p300_train_x/standard\")\n",
        "filenames = d + s\n",
        "labels1 = []\n",
        "for filename in filenames:\n",
        "  label1 = filename.split('.')[0]\n",
        "  if label1 == \"Rare, Correct\":\n",
        "    labels1.append(1)\n",
        "  else:\n",
        "    labels1.append(0)\n",
        "\n",
        "ytrain = pd.DataFrame({'filename': filenames,\n",
        "                   'label1': labels1})\n",
        "ytrain.to_csv('y_train.csv')\n",
        "y_train = pd.read_csv('y_train.csv')['label1'].values\n",
        "\n",
        "dtest = os.listdir(\"/tmp/dataset-main/p300_test_x/deviant\")\n",
        "stest = os.listdir(\"/tmp/dataset-main/p300_test_x/standard\")\n",
        "ytest = dtest + stest\n",
        "labels2 = []\n",
        "for filename in ytest:\n",
        "  label2 = filename.split('.')[0]\n",
        "  if label2 == \"Rare, Correct\":\n",
        "    labels2.append(1)\n",
        "  else:\n",
        "    labels2.append(0)\n",
        "\n",
        "ytest = pd.DataFrame({'filename': ytest,\n",
        "                   'label2': labels2})\n",
        "ytest.to_csv('y_test.csv')\n",
        "y_val = pd.read_csv('y_test.csv')['label2'].values\n"
      ]
    },
    {
      "cell_type": "markdown",
      "source": [
        "4. Reshaping the training and testing data to sastified the input dimension of the deep learning model."
      ],
      "metadata": {
        "id": "i2HPM707VNoa"
      }
    },
    {
      "cell_type": "code",
      "execution_count": 4,
      "metadata": {
        "colab": {
          "base_uri": "https://localhost:8080/"
        },
        "id": "ZeejM5G0V4kS",
        "outputId": "ba8dc6ff-35ff-44bf-946c-1ac5b955934b"
      },
      "outputs": [
        {
          "output_type": "stream",
          "name": "stdout",
          "text": [
            "(54, 30, 205, 1)\n",
            "(10, 30, 205, 1)\n",
            "(54,)\n",
            "(10,)\n"
          ]
        }
      ],
      "source": [
        "from tensorflow.keras import utils as np_utils\n",
        "from tensorflow.keras.preprocessing.image import ImageDataGenerator\n",
        "from tensorflow.keras.callbacks import EarlyStopping\n",
        "\n",
        "x_train = trainf\n",
        "x_test = testf\n",
        "\n",
        "\n",
        "x_train = x_train.values\n",
        "x_test = x_test.values\n",
        "\n",
        "x_train   = x_train.reshape(54, 30, 205, 1)\n",
        "x_val     = x_test.reshape(10, 30, 205, 1)\n",
        "\n",
        "print(x_train.shape)\n",
        "print(x_val.shape)\n",
        "print(y_train.shape)\n",
        "print(y_val.shape)\n",
        "\n"
      ]
    },
    {
      "cell_type": "markdown",
      "source": [
        "5. Building CNN model based on EEGNet."
      ],
      "metadata": {
        "id": "5oii5St3Vh9H"
      }
    },
    {
      "cell_type": "code",
      "execution_count": 19,
      "metadata": {
        "id": "cgHcvscy3ET4"
      },
      "outputs": [],
      "source": [
        "from tensorflow.keras.models import Model\n",
        "from tensorflow.keras.layers import Dense, Activation, Permute, Dropout\n",
        "from tensorflow.keras.layers import Conv2D, MaxPooling2D, AveragePooling2D\n",
        "from tensorflow.keras.layers import SeparableConv2D, DepthwiseConv2D\n",
        "from tensorflow.keras.layers import BatchNormalization\n",
        "from tensorflow.keras.layers import SpatialDropout2D\n",
        "from tensorflow.keras.regularizers import l1_l2\n",
        "from tensorflow.keras.layers import Input, Flatten\n",
        "from tensorflow.keras.constraints import max_norm\n",
        "from tensorflow.keras import backend as K\n",
        "from tensorflow.keras import utils as np_utils\n",
        "from tensorflow.keras.callbacks import ModelCheckpoint\n",
        "from tensorflow.keras.callbacks import EarlyStopping\n",
        "from tensorflow.keras.models import Sequential\n",
        "from tensorflow.keras.optimizers import Adam, SGD, RMSprop, Adadelta, Adagrad, Adamax, Nadam, Ftrl\n",
        "from keras.models import load_model\n",
        "from math import floor\n",
        "\n",
        "\n",
        "\n",
        "\n",
        "def EEGNett(nb_classes = 2, Chans = 30, Samples = 205,\n",
        "            dropoutRate = 0.25, kernLength = 32, F1 = 8,\n",
        "            D = 2, F2 = 16, norm_rate = 0.25, dropoutType = 'Dropout'):\n",
        "\n",
        "    input1   = Input(shape = (Chans, Samples, 1))\n",
        "\n",
        "    block1       = Conv2D(F1, (1, kernLength), padding = 'same',\n",
        "                                      input_shape = (Chans, Samples, 1),\n",
        "                                      use_bias = False)(input1)\n",
        "    block1       = BatchNormalization()(block1)\n",
        "    block1       = DepthwiseConv2D((Chans, 1), use_bias = False,\n",
        "                                  depth_multiplier = D,\n",
        "                                  depthwise_constraint = max_norm(1.))(block1)\n",
        "    block1       = BatchNormalization()(block1)\n",
        "    block1       = Activation('elu')(block1)\n",
        "    block1       = AveragePooling2D((1, 5))(block1)\n",
        "    block1       = Dropout(dropoutRate)(block1)\n",
        "\n",
        "    block2       = SeparableConv2D(F2, (1, 16),\n",
        "                              use_bias = False, padding = 'same')(block1)\n",
        "    block2       = BatchNormalization()(block2)\n",
        "    block2       = Activation('elu')(block2)\n",
        "    block2       = AveragePooling2D((1, 5))(block2)\n",
        "    block2       = Dropout(dropoutRate)(block2)\n",
        "\n",
        "    flatten      = Flatten(name = 'flatten')(block2)\n",
        "\n",
        "    dense        = Dense(nb_classes, name = 'dense',\n",
        "                    kernel_constraint = max_norm(norm_rate))(flatten)\n",
        "    softmax     = Activation('softmax', name = 'softmax')(dense)\n",
        "\n",
        "    return Model(inputs=input1, outputs=softmax)\n"
      ]
    },
    {
      "cell_type": "markdown",
      "source": [
        "6. Hyperparameter tuning via bayesian optimization method."
      ],
      "metadata": {
        "id": "C8LD4lpfVj2b"
      }
    },
    {
      "cell_type": "code",
      "execution_count": 20,
      "metadata": {
        "id": "PjJwFnxUiz6C",
        "colab": {
          "base_uri": "https://localhost:8080/"
        },
        "outputId": "c517cec8-a072-43a7-89bf-fd688513daac"
      },
      "outputs": [
        {
          "output_type": "stream",
          "name": "stdout",
          "text": [
            "Looking in indexes: https://pypi.org/simple, https://us-python.pkg.dev/colab-wheels/public/simple/\n",
            "Requirement already satisfied: bayesian-optimization==1.4.1 in /usr/local/lib/python3.10/dist-packages (1.4.1)\n",
            "Requirement already satisfied: numpy>=1.9.0 in /usr/local/lib/python3.10/dist-packages (from bayesian-optimization==1.4.1) (1.22.4)\n",
            "Requirement already satisfied: scipy>=1.0.0 in /usr/local/lib/python3.10/dist-packages (from bayesian-optimization==1.4.1) (1.10.1)\n",
            "Requirement already satisfied: scikit-learn>=0.18.0 in /usr/local/lib/python3.10/dist-packages (from bayesian-optimization==1.4.1) (1.2.2)\n",
            "Requirement already satisfied: colorama in /usr/local/lib/python3.10/dist-packages (from bayesian-optimization==1.4.1) (0.4.6)\n",
            "Requirement already satisfied: joblib>=1.1.1 in /usr/local/lib/python3.10/dist-packages (from scikit-learn>=0.18.0->bayesian-optimization==1.4.1) (1.2.0)\n",
            "Requirement already satisfied: threadpoolctl>=2.0.0 in /usr/local/lib/python3.10/dist-packages (from scikit-learn>=0.18.0->bayesian-optimization==1.4.1) (3.1.0)\n",
            "|   iter    |  target   | dropou... |    lr     | norm_rate |\n",
            "-------------------------------------------------------------\n",
            "1/1 [==============================] - 0s 41ms/step - loss: 0.6087 - accuracy: 0.5000\n",
            "Test loss: 0.6086751818656921\n",
            "Test accuracy: 0.5\n",
            "\n",
            "\n",
            "| \u001b[0m1        \u001b[0m | \u001b[0m0.5      \u001b[0m | \u001b[0m0.2668   \u001b[0m | \u001b[0m0.007204 \u001b[0m | \u001b[0m0.1      \u001b[0m |\n",
            "1/1 [==============================] - 0s 83ms/step - loss: 0.5550 - accuracy: 0.6000\n",
            "Test loss: 0.5550039410591125\n",
            "Test accuracy: 0.6000000238418579\n",
            "\n",
            "\n",
            "| \u001b[95m2        \u001b[0m | \u001b[95m0.6      \u001b[0m | \u001b[95m0.2209   \u001b[0m | \u001b[95m0.001468 \u001b[0m | \u001b[95m0.1369   \u001b[0m |\n",
            "1/1 [==============================] - 0s 36ms/step - loss: 0.5994 - accuracy: 0.5000\n",
            "Test loss: 0.5994200706481934\n",
            "Test accuracy: 0.5\n",
            "\n",
            "\n",
            "| \u001b[0m3        \u001b[0m | \u001b[0m0.5      \u001b[0m | \u001b[0m0.1745   \u001b[0m | \u001b[0m0.003456 \u001b[0m | \u001b[0m0.2587   \u001b[0m |\n",
            "1/1 [==============================] - 0s 60ms/step - loss: 0.5458 - accuracy: 0.7000\n",
            "Test loss: 0.5458077192306519\n",
            "Test accuracy: 0.699999988079071\n",
            "\n",
            "\n",
            "| \u001b[95m4        \u001b[0m | \u001b[95m0.7      \u001b[0m | \u001b[95m0.3155   \u001b[0m | \u001b[95m0.004193 \u001b[0m | \u001b[95m0.3741   \u001b[0m |\n",
            "1/1 [==============================] - 0s 38ms/step - loss: 0.5316 - accuracy: 0.7000\n",
            "Test loss: 0.5316143035888672\n",
            "Test accuracy: 0.699999988079071\n",
            "\n",
            "\n",
            "| \u001b[0m5        \u001b[0m | \u001b[0m0.7      \u001b[0m | \u001b[0m0.1818   \u001b[0m | \u001b[0m0.008781 \u001b[0m | \u001b[0m0.111    \u001b[0m |\n",
            "1/1 [==============================] - 0s 52ms/step - loss: 0.5187 - accuracy: 0.6000\n",
            "Test loss: 0.5186935067176819\n",
            "Test accuracy: 0.6000000238418579\n",
            "\n",
            "\n",
            "| \u001b[0m6        \u001b[0m | \u001b[0m0.6      \u001b[0m | \u001b[0m0.3682   \u001b[0m | \u001b[0m0.004174 \u001b[0m | \u001b[0m0.3235   \u001b[0m |\n",
            "1/1 [==============================] - 0s 37ms/step - loss: 0.5680 - accuracy: 0.7000\n",
            "Test loss: 0.5679723024368286\n",
            "Test accuracy: 0.699999988079071\n",
            "\n",
            "\n",
            "| \u001b[0m7        \u001b[0m | \u001b[0m0.7      \u001b[0m | \u001b[0m0.1562   \u001b[0m | \u001b[0m0.001982 \u001b[0m | \u001b[0m0.4203   \u001b[0m |\n",
            "1/1 [==============================] - 0s 55ms/step - loss: 0.5547 - accuracy: 0.6000\n",
            "Test loss: 0.5546555519104004\n",
            "Test accuracy: 0.6000000238418579\n",
            "\n",
            "\n",
            "| \u001b[0m8        \u001b[0m | \u001b[0m0.6      \u001b[0m | \u001b[0m0.4873   \u001b[0m | \u001b[0m0.003135 \u001b[0m | \u001b[0m0.3769   \u001b[0m |\n",
            "1/1 [==============================] - 0s 39ms/step - loss: 0.6218 - accuracy: 0.7000\n",
            "Test loss: 0.6218436360359192\n",
            "Test accuracy: 0.699999988079071\n",
            "\n",
            "\n",
            "| \u001b[0m9        \u001b[0m | \u001b[0m0.7      \u001b[0m | \u001b[0m0.4506   \u001b[0m | \u001b[0m0.008946 \u001b[0m | \u001b[0m0.134    \u001b[0m |\n",
            "1/1 [==============================] - 0s 36ms/step - loss: 0.5347 - accuracy: 0.6000\n",
            "Test loss: 0.5346951484680176\n",
            "Test accuracy: 0.6000000238418579\n",
            "\n",
            "\n",
            "| \u001b[0m10       \u001b[0m | \u001b[0m0.6      \u001b[0m | \u001b[0m0.1156   \u001b[0m | \u001b[0m0.001699 \u001b[0m | \u001b[0m0.4513   \u001b[0m |\n",
            "1/1 [==============================] - 0s 44ms/step - loss: 0.5295 - accuracy: 0.7000\n",
            "Test loss: 0.5294893980026245\n",
            "Test accuracy: 0.699999988079071\n",
            "\n",
            "\n",
            "| \u001b[0m11       \u001b[0m | \u001b[0m0.7      \u001b[0m | \u001b[0m0.1393   \u001b[0m | \u001b[0m0.004212 \u001b[0m | \u001b[0m0.4832   \u001b[0m |\n",
            "1/1 [==============================] - 0s 36ms/step - loss: 0.6294 - accuracy: 0.6000\n",
            "Test loss: 0.629393458366394\n",
            "Test accuracy: 0.6000000238418579\n",
            "\n",
            "\n",
            "| \u001b[0m12       \u001b[0m | \u001b[0m0.6      \u001b[0m | \u001b[0m0.3133   \u001b[0m | \u001b[0m0.006919 \u001b[0m | \u001b[0m0.2262   \u001b[0m |\n",
            "1/1 [==============================] - 0s 45ms/step - loss: 0.5434 - accuracy: 0.7000\n",
            "Test loss: 0.5434143543243408\n",
            "Test accuracy: 0.699999988079071\n",
            "\n",
            "\n",
            "| \u001b[0m13       \u001b[0m | \u001b[0m0.7      \u001b[0m | \u001b[0m0.3746   \u001b[0m | \u001b[0m0.008346 \u001b[0m | \u001b[0m0.1073   \u001b[0m |\n",
            "1/1 [==============================] - 0s 37ms/step - loss: 0.5610 - accuracy: 0.6000\n",
            "Test loss: 0.5609643459320068\n",
            "Test accuracy: 0.6000000238418579\n",
            "\n",
            "\n",
            "| \u001b[0m14       \u001b[0m | \u001b[0m0.6      \u001b[0m | \u001b[0m0.4001   \u001b[0m | \u001b[0m0.009889 \u001b[0m | \u001b[0m0.3993   \u001b[0m |\n",
            "1/1 [==============================] - 0s 38ms/step - loss: 0.5462 - accuracy: 0.6000\n",
            "Test loss: 0.5461522936820984\n",
            "Test accuracy: 0.6000000238418579\n",
            "\n",
            "\n",
            "| \u001b[0m15       \u001b[0m | \u001b[0m0.6      \u001b[0m | \u001b[0m0.2122   \u001b[0m | \u001b[0m0.007893 \u001b[0m | \u001b[0m0.1413   \u001b[0m |\n",
            "1/1 [==============================] - 0s 34ms/step - loss: 0.6016 - accuracy: 0.6000\n",
            "Test loss: 0.601573646068573\n",
            "Test accuracy: 0.6000000238418579\n",
            "\n",
            "\n",
            "| \u001b[0m16       \u001b[0m | \u001b[0m0.6      \u001b[0m | \u001b[0m0.2792   \u001b[0m | \u001b[0m0.009086 \u001b[0m | \u001b[0m0.2174   \u001b[0m |\n",
            "1/1 [==============================] - 0s 45ms/step - loss: 0.5753 - accuracy: 0.6000\n",
            "Test loss: 0.5752622485160828\n",
            "Test accuracy: 0.6000000238418579\n",
            "\n",
            "\n",
            "| \u001b[0m17       \u001b[0m | \u001b[0m0.6      \u001b[0m | \u001b[0m0.2151   \u001b[0m | \u001b[0m0.001301 \u001b[0m | \u001b[0m0.1077   \u001b[0m |\n",
            "1/1 [==============================] - 0s 37ms/step - loss: 0.5494 - accuracy: 0.5000\n",
            "Test loss: 0.5493877530097961\n",
            "Test accuracy: 0.5\n",
            "\n",
            "\n",
            "| \u001b[0m18       \u001b[0m | \u001b[0m0.5      \u001b[0m | \u001b[0m0.3715   \u001b[0m | \u001b[0m0.002117 \u001b[0m | \u001b[0m0.2062   \u001b[0m |\n",
            "1/1 [==============================] - 0s 35ms/step - loss: 0.4985 - accuracy: 0.9000\n",
            "Test loss: 0.49854665994644165\n",
            "Test accuracy: 0.8999999761581421\n",
            "\n",
            "\n",
            "| \u001b[95m19       \u001b[0m | \u001b[95m0.9      \u001b[0m | \u001b[95m0.2966   \u001b[0m | \u001b[95m0.0005346\u001b[0m | \u001b[95m0.3296   \u001b[0m |\n",
            "1/1 [==============================] - 0s 67ms/step - loss: 0.6212 - accuracy: 0.5000\n",
            "Test loss: 0.621196985244751\n",
            "Test accuracy: 0.5\n",
            "\n",
            "\n",
            "| \u001b[0m20       \u001b[0m | \u001b[0m0.5      \u001b[0m | \u001b[0m0.1587   \u001b[0m | \u001b[0m0.005893 \u001b[0m | \u001b[0m0.3799   \u001b[0m |\n",
            "1/1 [==============================] - 0s 38ms/step - loss: 0.5328 - accuracy: 0.7000\n",
            "Test loss: 0.5327715873718262\n",
            "Test accuracy: 0.699999988079071\n",
            "\n",
            "\n",
            "| \u001b[0m21       \u001b[0m | \u001b[0m0.7      \u001b[0m | \u001b[0m0.1409   \u001b[0m | \u001b[0m0.004141 \u001b[0m | \u001b[0m0.3778   \u001b[0m |\n",
            "1/1 [==============================] - 0s 39ms/step - loss: 0.2937 - accuracy: 0.9000\n",
            "Test loss: 0.293703556060791\n",
            "Test accuracy: 0.8999999761581421\n",
            "\n",
            "\n",
            "| \u001b[0m22       \u001b[0m | \u001b[0m0.9      \u001b[0m | \u001b[0m0.2657   \u001b[0m | \u001b[0m0.0005005\u001b[0m | \u001b[0m0.3144   \u001b[0m |\n",
            "1/1 [==============================] - 0s 37ms/step - loss: 0.5814 - accuracy: 0.6000\n",
            "Test loss: 0.5813987255096436\n",
            "Test accuracy: 0.6000000238418579\n",
            "\n",
            "\n",
            "| \u001b[0m23       \u001b[0m | \u001b[0m0.6      \u001b[0m | \u001b[0m0.3655   \u001b[0m | \u001b[0m0.005149 \u001b[0m | \u001b[0m0.4778   \u001b[0m |\n",
            "1/1 [==============================] - 0s 40ms/step - loss: 0.5728 - accuracy: 0.5000\n",
            "Test loss: 0.5727859735488892\n",
            "Test accuracy: 0.5\n",
            "\n",
            "\n",
            "| \u001b[0m24       \u001b[0m | \u001b[0m0.5      \u001b[0m | \u001b[0m0.3346   \u001b[0m | \u001b[0m0.009034 \u001b[0m | \u001b[0m0.155    \u001b[0m |\n",
            "1/1 [==============================] - 0s 43ms/step - loss: 0.6163 - accuracy: 0.6000\n",
            "Test loss: 0.6163324117660522\n",
            "Test accuracy: 0.6000000238418579\n",
            "\n",
            "\n",
            "| \u001b[0m25       \u001b[0m | \u001b[0m0.6      \u001b[0m | \u001b[0m0.1557   \u001b[0m | \u001b[0m0.008074 \u001b[0m | \u001b[0m0.2591   \u001b[0m |\n",
            "=============================================================\n",
            "Iteration 0: \n",
            "\t{'target': 0.5, 'params': {'dropoutRate': 0.2668088018810296, 'lr': 0.0072035246099281395, 'norm_rate': 0.10004574992693796}}\n",
            "Iteration 1: \n",
            "\t{'target': 0.6000000238418579, 'params': {'dropoutRate': 0.22093302905273593, 'lr': 0.0014684121522803135, 'norm_rate': 0.13693543790751914}}\n",
            "Iteration 2: \n",
            "\t{'target': 0.5, 'params': {'dropoutRate': 0.17450408455106836, 'lr': 0.003456261709703435, 'norm_rate': 0.258706989692268}}\n",
            "Iteration 3: \n",
            "\t{'target': 0.699999988079071, 'params': {'dropoutRate': 0.3155266936013428, 'lr': 0.004192525949518545, 'norm_rate': 0.3740878001587038}}\n",
            "Iteration 4: \n",
            "\t{'target': 0.699999988079071, 'params': {'dropoutRate': 0.18178089989260698, 'lr': 0.008781296246473063, 'norm_rate': 0.11095503727917047}}\n",
            "Iteration 5: \n",
            "\t{'target': 0.6000000238418579, 'params': {'dropoutRate': 0.36818700407136096, 'lr': 0.004173630718868903, 'norm_rate': 0.32347593137830066}}\n",
            "Iteration 6: \n",
            "\t{'target': 0.699999988079071, 'params': {'dropoutRate': 0.15615477543809353, 'lr': 0.0019818167893597034, 'norm_rate': 0.4202978274702147}}\n",
            "Iteration 7: \n",
            "\t{'target': 0.6000000238418579, 'params': {'dropoutRate': 0.48730463028775906, 'lr': 0.0031349283574142696, 'norm_rate': 0.3769290462677256}}\n",
            "Iteration 8: \n",
            "\t{'target': 0.699999988079071, 'params': {'dropoutRate': 0.45055566091841537, 'lr': 0.00894617202837497, 'norm_rate': 0.1340176845479112}}\n",
            "Iteration 9: \n",
            "\t{'target': 0.6000000238418579, 'params': {'dropoutRate': 0.11562191329315295, 'lr': 0.0016991343652261244, 'norm_rate': 0.4512570013717653}}\n",
            "Iteration 10: \n",
            "\t{'target': 0.699999988079071, 'params': {'dropoutRate': 0.13933873353322004, 'lr': 0.0042116551424255175, 'norm_rate': 0.48315581206020075}}\n",
            "Iteration 11: \n",
            "\t{'target': 0.6000000238418579, 'params': {'dropoutRate': 0.31326611398920684, 'lr': 0.0069190792623907834, 'norm_rate': 0.2262062524024252}}\n",
            "Iteration 12: \n",
            "\t{'target': 0.699999988079071, 'params': {'dropoutRate': 0.37460037107263344, 'lr': 0.008346422093301832, 'norm_rate': 0.10731531093767673}}\n",
            "Iteration 13: \n",
            "\t{'target': 0.6000000238418579, 'params': {'dropoutRate': 0.40005772597798706, 'lr': 0.009888622027976041, 'norm_rate': 0.3992662617519358}}\n",
            "Iteration 14: \n",
            "\t{'target': 0.6000000238418579, 'params': {'dropoutRate': 0.2121775968257621, 'lr': 0.007893004005186433, 'norm_rate': 0.14129040263105683}}\n",
            "Iteration 15: \n",
            "\t{'target': 0.6000000238418579, 'params': {'dropoutRate': 0.2791574104703621, 'lr': 0.009086046435427863, 'norm_rate': 0.2174456593494718}}\n",
            "Iteration 16: \n",
            "\t{'target': 0.6000000238418579, 'params': {'dropoutRate': 0.2151101354345395, 'lr': 0.0013011556926106585, 'norm_rate': 0.10774678314811884}}\n",
            "Iteration 17: \n",
            "\t{'target': 0.5, 'params': {'dropoutRate': 0.37153421317595636, 'lr': 0.0021170695318845907, 'norm_rate': 0.2062186637488905}}\n",
            "Iteration 18: \n",
            "\t{'target': 0.8999999761581421, 'params': {'dropoutRate': 0.2966292637121353, 'lr': 0.0005345720886256868, 'norm_rate': 0.32964704219680524}}\n",
            "Iteration 19: \n",
            "\t{'target': 0.5, 'params': {'dropoutRate': 0.15869142996232408, 'lr': 0.00589346606349594, 'norm_rate': 0.37990334400837245}}\n",
            "Iteration 20: \n",
            "\t{'target': 0.699999988079071, 'params': {'dropoutRate': 0.14093377153113035, 'lr': 0.004141145822207864, 'norm_rate': 0.3777600630910981}}\n",
            "Iteration 21: \n",
            "\t{'target': 0.8999999761581421, 'params': {'dropoutRate': 0.2656717078107611, 'lr': 0.0005004846360019255, 'norm_rate': 0.31435856236620463}}\n",
            "Iteration 22: \n",
            "\t{'target': 0.6000000238418579, 'params': {'dropoutRate': 0.3655178580879156, 'lr': 0.005149376231471028, 'norm_rate': 0.4778379023963254}}\n",
            "Iteration 23: \n",
            "\t{'target': 0.5, 'params': {'dropoutRate': 0.3346220162007972, 'lr': 0.009034115750963547, 'norm_rate': 0.15498988165849503}}\n",
            "Iteration 24: \n",
            "\t{'target': 0.6000000238418579, 'params': {'dropoutRate': 0.15571053890030342, 'lr': 0.00807410549580653, 'norm_rate': 0.25907073479421344}}\n",
            "\n",
            "\n",
            "{'target': 0.8999999761581421, 'params': {'dropoutRate': 0.2966292637121353, 'lr': 0.0005345720886256868, 'norm_rate': 0.32964704219680524}}\n"
          ]
        }
      ],
      "source": [
        "!pip install bayesian-optimization==1.4.1\n",
        "from functools import partial\n",
        "from bayes_opt import BayesianOptimization\n",
        "\n",
        "def fit_with(norm_rate, dropoutRate, lr):\n",
        "\n",
        "    # Create the model using a specified hyperparameters.\n",
        "    model = EEGNett(nb_classes = 2, Chans = 30, Samples = 205,\n",
        "                    dropoutRate = dropoutRate, kernLength = 32, F1 = 8,\n",
        "                    D = 2, F2 = 16, norm_rate = norm_rate, dropoutType = 'Dropout')\n",
        "\n",
        "    # Train the model for a specified number of epochs.\n",
        "    optimizer= Adam(learning_rate = lr)\n",
        "    model.compile(optimizer=optimizer,\n",
        "                  loss    = 'sparse_categorical_crossentropy',\n",
        "                  metrics ='accuracy')\n",
        "    callback = tf.keras.callbacks.EarlyStopping (monitor='val_loss', mode='min', verbose = 0, patience=3)\n",
        "    mc = ModelCheckpoint('best_model.h5', monitor='val_loss', mode='min', verbose=0, save_best_only=True)\n",
        "\n",
        "    # Train the model with the train dataset.\n",
        "    model.fit(x_train, y_train, validation_data = (x_val,y_val),callbacks = [callback, mc], epochs = 100, verbose = 0)\n",
        "\n",
        "    # Evaluate the model with the eval dataset.\n",
        "    score = model.evaluate(x_val,y_val, verbose=1)\n",
        "\n",
        "    print('Test loss:', score[0])\n",
        "    print('Test accuracy:', score[1])\n",
        "    print('\\n')\n",
        "\n",
        "    # Return the accuracy.\n",
        "\n",
        "    return score[1]\n",
        "\n",
        "fit_with_partial = partial(fit_with)\n",
        "\n",
        "bounds = {'dropoutRate': (0.1, 0.5),\n",
        "            'norm_rate': (0.1, 0.5),\n",
        "            'lr'       : (1e-6, 0.01)}\n",
        "\n",
        "hytune = BayesianOptimization(\n",
        "    f            = fit_with_partial,\n",
        "    pbounds      = bounds,\n",
        "    random_state = 1\n",
        ")\n",
        "\n",
        "\n",
        "hytune.maximize(init_points = 25, n_iter = 0,)\n",
        "\n",
        "\n",
        "for i, res in enumerate(hytune.res):\n",
        "    print(\"Iteration {}: \\n\\t{}\".format(i, res))\n",
        "\n",
        "print('\\n')\n",
        "print(hytune.max)"
      ]
    },
    {
      "cell_type": "markdown",
      "source": [
        "7. Setting the tuned hyperparameters for the model before compiling and training it."
      ],
      "metadata": {
        "id": "HhTBjuaNVsFo"
      }
    },
    {
      "cell_type": "code",
      "execution_count": 21,
      "metadata": {
        "colab": {
          "base_uri": "https://localhost:8080/"
        },
        "id": "WZoh7Afrkhu-",
        "outputId": "18a16ca0-8bfa-4b24-c744-8c5f15228fab"
      },
      "outputs": [
        {
          "output_type": "stream",
          "name": "stdout",
          "text": [
            "Model: \"model_51\"\n",
            "_________________________________________________________________\n",
            " Layer (type)                Output Shape              Param #   \n",
            "=================================================================\n",
            " input_52 (InputLayer)       [(None, 30, 205, 1)]      0         \n",
            "                                                                 \n",
            " conv2d_51 (Conv2D)          (None, 30, 205, 8)        256       \n",
            "                                                                 \n",
            " batch_normalization_153 (Ba  (None, 30, 205, 8)       32        \n",
            " tchNormalization)                                               \n",
            "                                                                 \n",
            " depthwise_conv2d_51 (Depthw  (None, 1, 205, 16)       480       \n",
            " iseConv2D)                                                      \n",
            "                                                                 \n",
            " batch_normalization_154 (Ba  (None, 1, 205, 16)       64        \n",
            " tchNormalization)                                               \n",
            "                                                                 \n",
            " activation_102 (Activation)  (None, 1, 205, 16)       0         \n",
            "                                                                 \n",
            " average_pooling2d_102 (Aver  (None, 1, 41, 16)        0         \n",
            " agePooling2D)                                                   \n",
            "                                                                 \n",
            " dropout_102 (Dropout)       (None, 1, 41, 16)         0         \n",
            "                                                                 \n",
            " separable_conv2d_51 (Separa  (None, 1, 41, 16)        512       \n",
            " bleConv2D)                                                      \n",
            "                                                                 \n",
            " batch_normalization_155 (Ba  (None, 1, 41, 16)        64        \n",
            " tchNormalization)                                               \n",
            "                                                                 \n",
            " activation_103 (Activation)  (None, 1, 41, 16)        0         \n",
            "                                                                 \n",
            " average_pooling2d_103 (Aver  (None, 1, 8, 16)         0         \n",
            " agePooling2D)                                                   \n",
            "                                                                 \n",
            " dropout_103 (Dropout)       (None, 1, 8, 16)          0         \n",
            "                                                                 \n",
            " flatten (Flatten)           (None, 128)               0         \n",
            "                                                                 \n",
            " dense (Dense)               (None, 2)                 258       \n",
            "                                                                 \n",
            " softmax (Activation)        (None, 2)                 0         \n",
            "                                                                 \n",
            "=================================================================\n",
            "Total params: 1,666\n",
            "Trainable params: 1,586\n",
            "Non-trainable params: 80\n",
            "_________________________________________________________________\n",
            "Epoch 1/100\n",
            "2/2 [==============================] - ETA: 0s - loss: 1.0544 - accuracy: 0.4630\n",
            "Epoch 1: val_loss improved from inf to 0.70469, saving model to best_model.h5\n",
            "2/2 [==============================] - 3s 755ms/step - loss: 1.0544 - accuracy: 0.4630 - val_loss: 0.7047 - val_accuracy: 0.4000\n",
            "Epoch 2/100\n",
            "2/2 [==============================] - ETA: 0s - loss: 0.7743 - accuracy: 0.3519\n",
            "Epoch 2: val_loss improved from 0.70469 to 0.69598, saving model to best_model.h5\n",
            "2/2 [==============================] - 1s 364ms/step - loss: 0.7743 - accuracy: 0.3519 - val_loss: 0.6960 - val_accuracy: 0.5000\n",
            "Epoch 3/100\n",
            "2/2 [==============================] - ETA: 0s - loss: 0.7319 - accuracy: 0.4259\n",
            "Epoch 3: val_loss improved from 0.69598 to 0.68798, saving model to best_model.h5\n",
            "2/2 [==============================] - 1s 325ms/step - loss: 0.7319 - accuracy: 0.4259 - val_loss: 0.6880 - val_accuracy: 0.7000\n",
            "Epoch 4/100\n",
            "2/2 [==============================] - ETA: 0s - loss: 0.6921 - accuracy: 0.4630\n",
            "Epoch 4: val_loss improved from 0.68798 to 0.68033, saving model to best_model.h5\n",
            "2/2 [==============================] - 1s 356ms/step - loss: 0.6921 - accuracy: 0.4630 - val_loss: 0.6803 - val_accuracy: 0.7000\n",
            "Epoch 5/100\n",
            "2/2 [==============================] - ETA: 0s - loss: 0.6858 - accuracy: 0.5556\n",
            "Epoch 5: val_loss improved from 0.68033 to 0.67306, saving model to best_model.h5\n",
            "2/2 [==============================] - 0s 191ms/step - loss: 0.6858 - accuracy: 0.5556 - val_loss: 0.6731 - val_accuracy: 0.7000\n",
            "Epoch 6/100\n",
            "2/2 [==============================] - ETA: 0s - loss: 0.6470 - accuracy: 0.6481\n",
            "Epoch 6: val_loss improved from 0.67306 to 0.66604, saving model to best_model.h5\n",
            "2/2 [==============================] - 1s 358ms/step - loss: 0.6470 - accuracy: 0.6481 - val_loss: 0.6660 - val_accuracy: 0.7000\n",
            "Epoch 7/100\n",
            "2/2 [==============================] - ETA: 0s - loss: 0.6139 - accuracy: 0.7778\n",
            "Epoch 7: val_loss improved from 0.66604 to 0.65876, saving model to best_model.h5\n",
            "2/2 [==============================] - 1s 337ms/step - loss: 0.6139 - accuracy: 0.7778 - val_loss: 0.6588 - val_accuracy: 0.7000\n",
            "Epoch 8/100\n",
            "2/2 [==============================] - ETA: 0s - loss: 0.6201 - accuracy: 0.7407\n",
            "Epoch 8: val_loss improved from 0.65876 to 0.65136, saving model to best_model.h5\n",
            "2/2 [==============================] - 1s 369ms/step - loss: 0.6201 - accuracy: 0.7407 - val_loss: 0.6514 - val_accuracy: 0.8000\n",
            "Epoch 9/100\n",
            "2/2 [==============================] - ETA: 0s - loss: 0.5963 - accuracy: 0.7407\n",
            "Epoch 9: val_loss improved from 0.65136 to 0.64380, saving model to best_model.h5\n",
            "2/2 [==============================] - 1s 372ms/step - loss: 0.5963 - accuracy: 0.7407 - val_loss: 0.6438 - val_accuracy: 0.8000\n",
            "Epoch 10/100\n",
            "2/2 [==============================] - ETA: 0s - loss: 0.6050 - accuracy: 0.7037\n",
            "Epoch 10: val_loss improved from 0.64380 to 0.63616, saving model to best_model.h5\n",
            "2/2 [==============================] - 1s 315ms/step - loss: 0.6050 - accuracy: 0.7037 - val_loss: 0.6362 - val_accuracy: 0.8000\n",
            "Epoch 11/100\n",
            "2/2 [==============================] - ETA: 0s - loss: 0.5739 - accuracy: 0.6667\n",
            "Epoch 11: val_loss improved from 0.63616 to 0.62852, saving model to best_model.h5\n",
            "2/2 [==============================] - 1s 433ms/step - loss: 0.5739 - accuracy: 0.6667 - val_loss: 0.6285 - val_accuracy: 0.8000\n",
            "Epoch 12/100\n",
            "2/2 [==============================] - ETA: 0s - loss: 0.5453 - accuracy: 0.7593\n",
            "Epoch 12: val_loss improved from 0.62852 to 0.62099, saving model to best_model.h5\n",
            "2/2 [==============================] - 1s 399ms/step - loss: 0.5453 - accuracy: 0.7593 - val_loss: 0.6210 - val_accuracy: 0.8000\n",
            "Epoch 13/100\n",
            "2/2 [==============================] - ETA: 0s - loss: 0.5465 - accuracy: 0.7222\n",
            "Epoch 13: val_loss improved from 0.62099 to 0.61294, saving model to best_model.h5\n",
            "2/2 [==============================] - 1s 328ms/step - loss: 0.5465 - accuracy: 0.7222 - val_loss: 0.6129 - val_accuracy: 0.9000\n",
            "Epoch 14/100\n",
            "2/2 [==============================] - ETA: 0s - loss: 0.5579 - accuracy: 0.7037\n",
            "Epoch 14: val_loss improved from 0.61294 to 0.60480, saving model to best_model.h5\n",
            "2/2 [==============================] - 1s 483ms/step - loss: 0.5579 - accuracy: 0.7037 - val_loss: 0.6048 - val_accuracy: 0.9000\n",
            "Epoch 15/100\n",
            "2/2 [==============================] - ETA: 0s - loss: 0.5325 - accuracy: 0.6852\n",
            "Epoch 15: val_loss improved from 0.60480 to 0.59685, saving model to best_model.h5\n",
            "2/2 [==============================] - 1s 338ms/step - loss: 0.5325 - accuracy: 0.6852 - val_loss: 0.5968 - val_accuracy: 0.9000\n",
            "Epoch 16/100\n",
            "2/2 [==============================] - ETA: 0s - loss: 0.5394 - accuracy: 0.6852\n",
            "Epoch 16: val_loss improved from 0.59685 to 0.58877, saving model to best_model.h5\n",
            "2/2 [==============================] - 1s 526ms/step - loss: 0.5394 - accuracy: 0.6852 - val_loss: 0.5888 - val_accuracy: 0.9000\n",
            "Epoch 17/100\n",
            "2/2 [==============================] - ETA: 0s - loss: 0.5160 - accuracy: 0.7222\n",
            "Epoch 17: val_loss improved from 0.58877 to 0.58106, saving model to best_model.h5\n",
            "2/2 [==============================] - 1s 359ms/step - loss: 0.5160 - accuracy: 0.7222 - val_loss: 0.5811 - val_accuracy: 0.9000\n",
            "Epoch 18/100\n",
            "2/2 [==============================] - ETA: 0s - loss: 0.4792 - accuracy: 0.7222\n",
            "Epoch 18: val_loss improved from 0.58106 to 0.57344, saving model to best_model.h5\n",
            "2/2 [==============================] - 1s 382ms/step - loss: 0.4792 - accuracy: 0.7222 - val_loss: 0.5734 - val_accuracy: 0.9000\n",
            "Epoch 19/100\n",
            "2/2 [==============================] - ETA: 0s - loss: 0.4843 - accuracy: 0.7222\n",
            "Epoch 19: val_loss improved from 0.57344 to 0.56565, saving model to best_model.h5\n",
            "2/2 [==============================] - 1s 430ms/step - loss: 0.4843 - accuracy: 0.7222 - val_loss: 0.5657 - val_accuracy: 0.9000\n",
            "Epoch 20/100\n",
            "2/2 [==============================] - ETA: 0s - loss: 0.5173 - accuracy: 0.7222\n",
            "Epoch 20: val_loss improved from 0.56565 to 0.55801, saving model to best_model.h5\n",
            "2/2 [==============================] - 1s 619ms/step - loss: 0.5173 - accuracy: 0.7222 - val_loss: 0.5580 - val_accuracy: 0.9000\n",
            "Epoch 21/100\n",
            "2/2 [==============================] - ETA: 0s - loss: 0.4771 - accuracy: 0.7407\n",
            "Epoch 21: val_loss improved from 0.55801 to 0.55106, saving model to best_model.h5\n",
            "2/2 [==============================] - 1s 571ms/step - loss: 0.4771 - accuracy: 0.7407 - val_loss: 0.5511 - val_accuracy: 0.9000\n",
            "Epoch 22/100\n",
            "2/2 [==============================] - ETA: 0s - loss: 0.5116 - accuracy: 0.7593\n",
            "Epoch 22: val_loss improved from 0.55106 to 0.54440, saving model to best_model.h5\n",
            "2/2 [==============================] - 1s 673ms/step - loss: 0.5116 - accuracy: 0.7593 - val_loss: 0.5444 - val_accuracy: 0.9000\n",
            "Epoch 23/100\n",
            "2/2 [==============================] - ETA: 0s - loss: 0.4860 - accuracy: 0.7222\n",
            "Epoch 23: val_loss improved from 0.54440 to 0.53804, saving model to best_model.h5\n",
            "2/2 [==============================] - 1s 547ms/step - loss: 0.4860 - accuracy: 0.7222 - val_loss: 0.5380 - val_accuracy: 0.9000\n",
            "Epoch 24/100\n",
            "2/2 [==============================] - ETA: 0s - loss: 0.5087 - accuracy: 0.6852\n",
            "Epoch 24: val_loss improved from 0.53804 to 0.53220, saving model to best_model.h5\n",
            "2/2 [==============================] - 1s 468ms/step - loss: 0.5087 - accuracy: 0.6852 - val_loss: 0.5322 - val_accuracy: 0.9000\n",
            "Epoch 25/100\n",
            "2/2 [==============================] - ETA: 0s - loss: 0.4691 - accuracy: 0.7222\n",
            "Epoch 25: val_loss improved from 0.53220 to 0.52700, saving model to best_model.h5\n",
            "2/2 [==============================] - 1s 576ms/step - loss: 0.4691 - accuracy: 0.7222 - val_loss: 0.5270 - val_accuracy: 0.9000\n",
            "Epoch 26/100\n",
            "2/2 [==============================] - ETA: 0s - loss: 0.4860 - accuracy: 0.7037\n",
            "Epoch 26: val_loss improved from 0.52700 to 0.52174, saving model to best_model.h5\n",
            "2/2 [==============================] - 1s 415ms/step - loss: 0.4860 - accuracy: 0.7037 - val_loss: 0.5217 - val_accuracy: 0.9000\n",
            "Epoch 27/100\n",
            "2/2 [==============================] - ETA: 0s - loss: 0.5014 - accuracy: 0.7407\n",
            "Epoch 27: val_loss improved from 0.52174 to 0.51671, saving model to best_model.h5\n",
            "2/2 [==============================] - 1s 416ms/step - loss: 0.5014 - accuracy: 0.7407 - val_loss: 0.5167 - val_accuracy: 0.9000\n",
            "Epoch 28/100\n",
            "2/2 [==============================] - ETA: 0s - loss: 0.4503 - accuracy: 0.7778\n",
            "Epoch 28: val_loss improved from 0.51671 to 0.51229, saving model to best_model.h5\n",
            "2/2 [==============================] - 1s 389ms/step - loss: 0.4503 - accuracy: 0.7778 - val_loss: 0.5123 - val_accuracy: 0.9000\n",
            "Epoch 29/100\n",
            "2/2 [==============================] - ETA: 0s - loss: 0.4561 - accuracy: 0.7593\n",
            "Epoch 29: val_loss improved from 0.51229 to 0.50823, saving model to best_model.h5\n",
            "2/2 [==============================] - 1s 401ms/step - loss: 0.4561 - accuracy: 0.7593 - val_loss: 0.5082 - val_accuracy: 0.9000\n",
            "Epoch 30/100\n",
            "2/2 [==============================] - ETA: 0s - loss: 0.4372 - accuracy: 0.7407\n",
            "Epoch 30: val_loss improved from 0.50823 to 0.50385, saving model to best_model.h5\n",
            "2/2 [==============================] - 1s 321ms/step - loss: 0.4372 - accuracy: 0.7407 - val_loss: 0.5038 - val_accuracy: 0.9000\n",
            "Epoch 31/100\n",
            "2/2 [==============================] - ETA: 0s - loss: 0.4881 - accuracy: 0.7037\n",
            "Epoch 31: val_loss improved from 0.50385 to 0.50018, saving model to best_model.h5\n",
            "2/2 [==============================] - 1s 362ms/step - loss: 0.4881 - accuracy: 0.7037 - val_loss: 0.5002 - val_accuracy: 0.9000\n",
            "Epoch 32/100\n",
            "2/2 [==============================] - ETA: 0s - loss: 0.4584 - accuracy: 0.7222\n",
            "Epoch 32: val_loss improved from 0.50018 to 0.49710, saving model to best_model.h5\n",
            "2/2 [==============================] - 1s 383ms/step - loss: 0.4584 - accuracy: 0.7222 - val_loss: 0.4971 - val_accuracy: 0.9000\n",
            "Epoch 33/100\n",
            "2/2 [==============================] - ETA: 0s - loss: 0.4418 - accuracy: 0.7222\n",
            "Epoch 33: val_loss improved from 0.49710 to 0.49429, saving model to best_model.h5\n",
            "2/2 [==============================] - 1s 388ms/step - loss: 0.4418 - accuracy: 0.7222 - val_loss: 0.4943 - val_accuracy: 0.9000\n",
            "Epoch 34/100\n",
            "2/2 [==============================] - ETA: 0s - loss: 0.4334 - accuracy: 0.7593\n",
            "Epoch 34: val_loss improved from 0.49429 to 0.49130, saving model to best_model.h5\n",
            "2/2 [==============================] - 1s 553ms/step - loss: 0.4334 - accuracy: 0.7593 - val_loss: 0.4913 - val_accuracy: 0.9000\n",
            "Epoch 35/100\n",
            "2/2 [==============================] - ETA: 0s - loss: 0.4190 - accuracy: 0.7407\n",
            "Epoch 35: val_loss improved from 0.49130 to 0.48873, saving model to best_model.h5\n",
            "2/2 [==============================] - 1s 503ms/step - loss: 0.4190 - accuracy: 0.7407 - val_loss: 0.4887 - val_accuracy: 0.9000\n",
            "Epoch 36/100\n",
            "2/2 [==============================] - ETA: 0s - loss: 0.4233 - accuracy: 0.7407\n",
            "Epoch 36: val_loss improved from 0.48873 to 0.48593, saving model to best_model.h5\n",
            "2/2 [==============================] - 1s 438ms/step - loss: 0.4233 - accuracy: 0.7407 - val_loss: 0.4859 - val_accuracy: 0.9000\n",
            "Epoch 37/100\n",
            "2/2 [==============================] - ETA: 0s - loss: 0.4336 - accuracy: 0.7407\n",
            "Epoch 37: val_loss improved from 0.48593 to 0.48340, saving model to best_model.h5\n",
            "2/2 [==============================] - 1s 701ms/step - loss: 0.4336 - accuracy: 0.7407 - val_loss: 0.4834 - val_accuracy: 0.9000\n",
            "Epoch 38/100\n",
            "2/2 [==============================] - ETA: 0s - loss: 0.4044 - accuracy: 0.7778\n",
            "Epoch 38: val_loss improved from 0.48340 to 0.48131, saving model to best_model.h5\n",
            "2/2 [==============================] - 1s 574ms/step - loss: 0.4044 - accuracy: 0.7778 - val_loss: 0.4813 - val_accuracy: 0.9000\n",
            "Epoch 39/100\n",
            "2/2 [==============================] - ETA: 0s - loss: 0.4330 - accuracy: 0.7778\n",
            "Epoch 39: val_loss improved from 0.48131 to 0.48001, saving model to best_model.h5\n",
            "2/2 [==============================] - 1s 672ms/step - loss: 0.4330 - accuracy: 0.7778 - val_loss: 0.4800 - val_accuracy: 0.9000\n",
            "Epoch 40/100\n",
            "2/2 [==============================] - ETA: 0s - loss: 0.3912 - accuracy: 0.7778\n",
            "Epoch 40: val_loss improved from 0.48001 to 0.47755, saving model to best_model.h5\n",
            "2/2 [==============================] - 1s 722ms/step - loss: 0.3912 - accuracy: 0.7778 - val_loss: 0.4775 - val_accuracy: 0.9000\n",
            "Epoch 41/100\n",
            "2/2 [==============================] - ETA: 0s - loss: 0.4213 - accuracy: 0.8333\n",
            "Epoch 41: val_loss improved from 0.47755 to 0.47491, saving model to best_model.h5\n",
            "2/2 [==============================] - 1s 459ms/step - loss: 0.4213 - accuracy: 0.8333 - val_loss: 0.4749 - val_accuracy: 0.9000\n",
            "Epoch 42/100\n",
            "2/2 [==============================] - ETA: 0s - loss: 0.3741 - accuracy: 0.8148\n",
            "Epoch 42: val_loss improved from 0.47491 to 0.47219, saving model to best_model.h5\n",
            "2/2 [==============================] - 1s 396ms/step - loss: 0.3741 - accuracy: 0.8148 - val_loss: 0.4722 - val_accuracy: 1.0000\n",
            "Epoch 43/100\n",
            "2/2 [==============================] - ETA: 0s - loss: 0.3567 - accuracy: 0.8704\n",
            "Epoch 43: val_loss improved from 0.47219 to 0.46831, saving model to best_model.h5\n",
            "2/2 [==============================] - 1s 453ms/step - loss: 0.3567 - accuracy: 0.8704 - val_loss: 0.4683 - val_accuracy: 1.0000\n",
            "Epoch 44/100\n",
            "2/2 [==============================] - ETA: 0s - loss: 0.3872 - accuracy: 0.8333\n",
            "Epoch 44: val_loss improved from 0.46831 to 0.46542, saving model to best_model.h5\n",
            "2/2 [==============================] - 1s 484ms/step - loss: 0.3872 - accuracy: 0.8333 - val_loss: 0.4654 - val_accuracy: 1.0000\n",
            "Epoch 45/100\n",
            "2/2 [==============================] - ETA: 0s - loss: 0.3646 - accuracy: 0.8704\n",
            "Epoch 45: val_loss improved from 0.46542 to 0.46068, saving model to best_model.h5\n",
            "2/2 [==============================] - 0s 190ms/step - loss: 0.3646 - accuracy: 0.8704 - val_loss: 0.4607 - val_accuracy: 1.0000\n",
            "Epoch 46/100\n",
            "2/2 [==============================] - ETA: 0s - loss: 0.3866 - accuracy: 0.7963\n",
            "Epoch 46: val_loss improved from 0.46068 to 0.45574, saving model to best_model.h5\n",
            "2/2 [==============================] - 0s 190ms/step - loss: 0.3866 - accuracy: 0.7963 - val_loss: 0.4557 - val_accuracy: 1.0000\n",
            "Epoch 47/100\n",
            "2/2 [==============================] - ETA: 0s - loss: 0.3679 - accuracy: 0.8333\n",
            "Epoch 47: val_loss improved from 0.45574 to 0.44922, saving model to best_model.h5\n",
            "2/2 [==============================] - 0s 200ms/step - loss: 0.3679 - accuracy: 0.8333 - val_loss: 0.4492 - val_accuracy: 1.0000\n",
            "Epoch 48/100\n",
            "2/2 [==============================] - ETA: 0s - loss: 0.3592 - accuracy: 0.8519\n",
            "Epoch 48: val_loss improved from 0.44922 to 0.44405, saving model to best_model.h5\n",
            "2/2 [==============================] - 0s 208ms/step - loss: 0.3592 - accuracy: 0.8519 - val_loss: 0.4440 - val_accuracy: 1.0000\n",
            "Epoch 49/100\n",
            "2/2 [==============================] - ETA: 0s - loss: 0.3722 - accuracy: 0.7963\n",
            "Epoch 49: val_loss improved from 0.44405 to 0.43825, saving model to best_model.h5\n",
            "2/2 [==============================] - 0s 194ms/step - loss: 0.3722 - accuracy: 0.7963 - val_loss: 0.4383 - val_accuracy: 1.0000\n",
            "Epoch 50/100\n",
            "2/2 [==============================] - ETA: 0s - loss: 0.3460 - accuracy: 0.8333\n",
            "Epoch 50: val_loss improved from 0.43825 to 0.43201, saving model to best_model.h5\n",
            "2/2 [==============================] - 0s 192ms/step - loss: 0.3460 - accuracy: 0.8333 - val_loss: 0.4320 - val_accuracy: 1.0000\n",
            "Epoch 51/100\n",
            "2/2 [==============================] - ETA: 0s - loss: 0.3444 - accuracy: 0.8148\n",
            "Epoch 51: val_loss improved from 0.43201 to 0.42561, saving model to best_model.h5\n",
            "2/2 [==============================] - 0s 192ms/step - loss: 0.3444 - accuracy: 0.8148 - val_loss: 0.4256 - val_accuracy: 1.0000\n",
            "Epoch 52/100\n",
            "2/2 [==============================] - ETA: 0s - loss: 0.3585 - accuracy: 0.8148\n",
            "Epoch 52: val_loss improved from 0.42561 to 0.41952, saving model to best_model.h5\n",
            "2/2 [==============================] - 0s 200ms/step - loss: 0.3585 - accuracy: 0.8148 - val_loss: 0.4195 - val_accuracy: 1.0000\n",
            "Epoch 53/100\n",
            "2/2 [==============================] - ETA: 0s - loss: 0.3572 - accuracy: 0.8148\n",
            "Epoch 53: val_loss improved from 0.41952 to 0.41537, saving model to best_model.h5\n",
            "2/2 [==============================] - 0s 182ms/step - loss: 0.3572 - accuracy: 0.8148 - val_loss: 0.4154 - val_accuracy: 1.0000\n",
            "Epoch 54/100\n",
            "2/2 [==============================] - ETA: 0s - loss: 0.3408 - accuracy: 0.8333\n",
            "Epoch 54: val_loss improved from 0.41537 to 0.41231, saving model to best_model.h5\n",
            "2/2 [==============================] - 0s 205ms/step - loss: 0.3408 - accuracy: 0.8333 - val_loss: 0.4123 - val_accuracy: 1.0000\n",
            "Epoch 55/100\n",
            "2/2 [==============================] - ETA: 0s - loss: 0.3843 - accuracy: 0.8519\n",
            "Epoch 55: val_loss improved from 0.41231 to 0.41012, saving model to best_model.h5\n",
            "2/2 [==============================] - 0s 207ms/step - loss: 0.3843 - accuracy: 0.8519 - val_loss: 0.4101 - val_accuracy: 1.0000\n",
            "Epoch 56/100\n",
            "2/2 [==============================] - ETA: 0s - loss: 0.3501 - accuracy: 0.8148\n",
            "Epoch 56: val_loss improved from 0.41012 to 0.40746, saving model to best_model.h5\n",
            "2/2 [==============================] - 0s 199ms/step - loss: 0.3501 - accuracy: 0.8148 - val_loss: 0.4075 - val_accuracy: 0.9000\n",
            "Epoch 57/100\n",
            "2/2 [==============================] - ETA: 0s - loss: 0.3221 - accuracy: 0.8519\n",
            "Epoch 57: val_loss improved from 0.40746 to 0.40541, saving model to best_model.h5\n",
            "2/2 [==============================] - 0s 191ms/step - loss: 0.3221 - accuracy: 0.8519 - val_loss: 0.4054 - val_accuracy: 0.9000\n",
            "Epoch 58/100\n",
            "2/2 [==============================] - ETA: 0s - loss: 0.3440 - accuracy: 0.8519\n",
            "Epoch 58: val_loss improved from 0.40541 to 0.40161, saving model to best_model.h5\n",
            "2/2 [==============================] - 0s 195ms/step - loss: 0.3440 - accuracy: 0.8519 - val_loss: 0.4016 - val_accuracy: 0.9000\n",
            "Epoch 59/100\n",
            "2/2 [==============================] - ETA: 0s - loss: 0.3318 - accuracy: 0.8704\n",
            "Epoch 59: val_loss improved from 0.40161 to 0.39959, saving model to best_model.h5\n",
            "2/2 [==============================] - 0s 187ms/step - loss: 0.3318 - accuracy: 0.8704 - val_loss: 0.3996 - val_accuracy: 0.9000\n",
            "Epoch 60/100\n",
            "2/2 [==============================] - ETA: 0s - loss: 0.3229 - accuracy: 0.8889\n",
            "Epoch 60: val_loss improved from 0.39959 to 0.39781, saving model to best_model.h5\n",
            "2/2 [==============================] - 0s 182ms/step - loss: 0.3229 - accuracy: 0.8889 - val_loss: 0.3978 - val_accuracy: 0.9000\n",
            "Epoch 61/100\n",
            "2/2 [==============================] - ETA: 0s - loss: 0.3192 - accuracy: 0.8519\n",
            "Epoch 61: val_loss improved from 0.39781 to 0.39606, saving model to best_model.h5\n",
            "2/2 [==============================] - 0s 194ms/step - loss: 0.3192 - accuracy: 0.8519 - val_loss: 0.3961 - val_accuracy: 0.9000\n",
            "Epoch 62/100\n",
            "2/2 [==============================] - ETA: 0s - loss: 0.2879 - accuracy: 0.8704\n",
            "Epoch 62: val_loss improved from 0.39606 to 0.39176, saving model to best_model.h5\n",
            "2/2 [==============================] - 0s 184ms/step - loss: 0.2879 - accuracy: 0.8704 - val_loss: 0.3918 - val_accuracy: 0.9000\n",
            "Epoch 63/100\n",
            "2/2 [==============================] - ETA: 0s - loss: 0.3022 - accuracy: 0.8519\n",
            "Epoch 63: val_loss improved from 0.39176 to 0.38610, saving model to best_model.h5\n",
            "2/2 [==============================] - 0s 204ms/step - loss: 0.3022 - accuracy: 0.8519 - val_loss: 0.3861 - val_accuracy: 0.9000\n",
            "Epoch 64/100\n",
            "2/2 [==============================] - ETA: 0s - loss: 0.3426 - accuracy: 0.8148\n",
            "Epoch 64: val_loss improved from 0.38610 to 0.38282, saving model to best_model.h5\n",
            "2/2 [==============================] - 0s 206ms/step - loss: 0.3426 - accuracy: 0.8148 - val_loss: 0.3828 - val_accuracy: 0.9000\n",
            "Epoch 65/100\n",
            "2/2 [==============================] - ETA: 0s - loss: 0.2574 - accuracy: 0.8704\n",
            "Epoch 65: val_loss improved from 0.38282 to 0.37820, saving model to best_model.h5\n",
            "2/2 [==============================] - 0s 223ms/step - loss: 0.2574 - accuracy: 0.8704 - val_loss: 0.3782 - val_accuracy: 0.9000\n",
            "Epoch 66/100\n",
            "2/2 [==============================] - ETA: 0s - loss: 0.2941 - accuracy: 0.8889\n",
            "Epoch 66: val_loss improved from 0.37820 to 0.37543, saving model to best_model.h5\n",
            "2/2 [==============================] - 1s 309ms/step - loss: 0.2941 - accuracy: 0.8889 - val_loss: 0.3754 - val_accuracy: 0.9000\n",
            "Epoch 67/100\n",
            "2/2 [==============================] - ETA: 0s - loss: 0.3238 - accuracy: 0.7963\n",
            "Epoch 67: val_loss improved from 0.37543 to 0.37297, saving model to best_model.h5\n",
            "2/2 [==============================] - 1s 297ms/step - loss: 0.3238 - accuracy: 0.7963 - val_loss: 0.3730 - val_accuracy: 0.9000\n",
            "Epoch 68/100\n",
            "2/2 [==============================] - ETA: 0s - loss: 0.2838 - accuracy: 0.9259\n",
            "Epoch 68: val_loss improved from 0.37297 to 0.37135, saving model to best_model.h5\n",
            "2/2 [==============================] - 1s 329ms/step - loss: 0.2838 - accuracy: 0.9259 - val_loss: 0.3714 - val_accuracy: 0.9000\n",
            "Epoch 69/100\n",
            "2/2 [==============================] - ETA: 0s - loss: 0.2805 - accuracy: 0.8889\n",
            "Epoch 69: val_loss improved from 0.37135 to 0.36908, saving model to best_model.h5\n",
            "2/2 [==============================] - 1s 303ms/step - loss: 0.2805 - accuracy: 0.8889 - val_loss: 0.3691 - val_accuracy: 0.9000\n",
            "Epoch 70/100\n",
            "2/2 [==============================] - ETA: 0s - loss: 0.2737 - accuracy: 0.8704\n",
            "Epoch 70: val_loss improved from 0.36908 to 0.36897, saving model to best_model.h5\n",
            "2/2 [==============================] - 1s 360ms/step - loss: 0.2737 - accuracy: 0.8704 - val_loss: 0.3690 - val_accuracy: 0.9000\n",
            "Epoch 71/100\n",
            "2/2 [==============================] - ETA: 0s - loss: 0.2942 - accuracy: 0.8704\n",
            "Epoch 71: val_loss improved from 0.36897 to 0.36755, saving model to best_model.h5\n",
            "2/2 [==============================] - 1s 311ms/step - loss: 0.2942 - accuracy: 0.8704 - val_loss: 0.3676 - val_accuracy: 0.9000\n",
            "Epoch 72/100\n",
            "2/2 [==============================] - ETA: 0s - loss: 0.3241 - accuracy: 0.8519\n",
            "Epoch 72: val_loss improved from 0.36755 to 0.36602, saving model to best_model.h5\n",
            "2/2 [==============================] - 0s 194ms/step - loss: 0.3241 - accuracy: 0.8519 - val_loss: 0.3660 - val_accuracy: 0.9000\n",
            "Epoch 73/100\n",
            "2/2 [==============================] - ETA: 0s - loss: 0.3207 - accuracy: 0.8704\n",
            "Epoch 73: val_loss improved from 0.36602 to 0.36215, saving model to best_model.h5\n",
            "2/2 [==============================] - 0s 189ms/step - loss: 0.3207 - accuracy: 0.8704 - val_loss: 0.3622 - val_accuracy: 0.9000\n",
            "Epoch 74/100\n",
            "2/2 [==============================] - ETA: 0s - loss: 0.2709 - accuracy: 0.9074\n",
            "Epoch 74: val_loss improved from 0.36215 to 0.35711, saving model to best_model.h5\n",
            "2/2 [==============================] - 0s 194ms/step - loss: 0.2709 - accuracy: 0.9074 - val_loss: 0.3571 - val_accuracy: 0.9000\n",
            "Epoch 75/100\n",
            "2/2 [==============================] - ETA: 0s - loss: 0.2699 - accuracy: 0.8889\n",
            "Epoch 75: val_loss improved from 0.35711 to 0.34858, saving model to best_model.h5\n",
            "2/2 [==============================] - 0s 188ms/step - loss: 0.2699 - accuracy: 0.8889 - val_loss: 0.3486 - val_accuracy: 0.9000\n",
            "Epoch 76/100\n",
            "2/2 [==============================] - ETA: 0s - loss: 0.2673 - accuracy: 0.8889\n",
            "Epoch 76: val_loss improved from 0.34858 to 0.34332, saving model to best_model.h5\n",
            "2/2 [==============================] - 0s 178ms/step - loss: 0.2673 - accuracy: 0.8889 - val_loss: 0.3433 - val_accuracy: 0.9000\n",
            "Epoch 77/100\n",
            "2/2 [==============================] - ETA: 0s - loss: 0.3025 - accuracy: 0.8519\n",
            "Epoch 77: val_loss improved from 0.34332 to 0.33906, saving model to best_model.h5\n",
            "2/2 [==============================] - 0s 194ms/step - loss: 0.3025 - accuracy: 0.8519 - val_loss: 0.3391 - val_accuracy: 0.9000\n",
            "Epoch 78/100\n",
            "2/2 [==============================] - ETA: 0s - loss: 0.3084 - accuracy: 0.8519\n",
            "Epoch 78: val_loss improved from 0.33906 to 0.33730, saving model to best_model.h5\n",
            "2/2 [==============================] - 0s 186ms/step - loss: 0.3084 - accuracy: 0.8519 - val_loss: 0.3373 - val_accuracy: 0.9000\n",
            "Epoch 79/100\n",
            "2/2 [==============================] - ETA: 0s - loss: 0.2642 - accuracy: 0.8704\n",
            "Epoch 79: val_loss did not improve from 0.33730\n",
            "2/2 [==============================] - 0s 167ms/step - loss: 0.2642 - accuracy: 0.8704 - val_loss: 0.3375 - val_accuracy: 0.9000\n",
            "Epoch 80/100\n",
            "2/2 [==============================] - ETA: 0s - loss: 0.3158 - accuracy: 0.8889\n",
            "Epoch 80: val_loss improved from 0.33730 to 0.33562, saving model to best_model.h5\n",
            "2/2 [==============================] - 0s 210ms/step - loss: 0.3158 - accuracy: 0.8889 - val_loss: 0.3356 - val_accuracy: 0.9000\n",
            "Epoch 81/100\n",
            "2/2 [==============================] - ETA: 0s - loss: 0.2892 - accuracy: 0.9074\n",
            "Epoch 81: val_loss did not improve from 0.33562\n",
            "2/2 [==============================] - 0s 158ms/step - loss: 0.2892 - accuracy: 0.9074 - val_loss: 0.3359 - val_accuracy: 0.9000\n",
            "Epoch 82/100\n",
            "2/2 [==============================] - ETA: 0s - loss: 0.2362 - accuracy: 0.9074\n",
            "Epoch 82: val_loss improved from 0.33562 to 0.33408, saving model to best_model.h5\n",
            "2/2 [==============================] - 0s 189ms/step - loss: 0.2362 - accuracy: 0.9074 - val_loss: 0.3341 - val_accuracy: 0.9000\n",
            "Epoch 83/100\n",
            "2/2 [==============================] - ETA: 0s - loss: 0.2632 - accuracy: 0.8889\n",
            "Epoch 83: val_loss improved from 0.33408 to 0.33243, saving model to best_model.h5\n",
            "2/2 [==============================] - 0s 208ms/step - loss: 0.2632 - accuracy: 0.8889 - val_loss: 0.3324 - val_accuracy: 0.9000\n",
            "Epoch 84/100\n",
            "2/2 [==============================] - ETA: 0s - loss: 0.2680 - accuracy: 0.8889\n",
            "Epoch 84: val_loss improved from 0.33243 to 0.32719, saving model to best_model.h5\n",
            "2/2 [==============================] - 0s 185ms/step - loss: 0.2680 - accuracy: 0.8889 - val_loss: 0.3272 - val_accuracy: 0.9000\n",
            "Epoch 85/100\n",
            "2/2 [==============================] - ETA: 0s - loss: 0.2421 - accuracy: 0.9259\n",
            "Epoch 85: val_loss improved from 0.32719 to 0.32112, saving model to best_model.h5\n",
            "2/2 [==============================] - 0s 181ms/step - loss: 0.2421 - accuracy: 0.9259 - val_loss: 0.3211 - val_accuracy: 0.9000\n",
            "Epoch 86/100\n",
            "2/2 [==============================] - ETA: 0s - loss: 0.2491 - accuracy: 0.9074\n",
            "Epoch 86: val_loss improved from 0.32112 to 0.31543, saving model to best_model.h5\n",
            "2/2 [==============================] - 0s 203ms/step - loss: 0.2491 - accuracy: 0.9074 - val_loss: 0.3154 - val_accuracy: 0.9000\n",
            "Epoch 87/100\n",
            "2/2 [==============================] - ETA: 0s - loss: 0.2753 - accuracy: 0.9074\n",
            "Epoch 87: val_loss improved from 0.31543 to 0.31052, saving model to best_model.h5\n",
            "2/2 [==============================] - 0s 200ms/step - loss: 0.2753 - accuracy: 0.9074 - val_loss: 0.3105 - val_accuracy: 0.9000\n",
            "Epoch 88/100\n",
            "2/2 [==============================] - ETA: 0s - loss: 0.2609 - accuracy: 0.8889\n",
            "Epoch 88: val_loss improved from 0.31052 to 0.30920, saving model to best_model.h5\n",
            "2/2 [==============================] - 0s 190ms/step - loss: 0.2609 - accuracy: 0.8889 - val_loss: 0.3092 - val_accuracy: 0.9000\n",
            "Epoch 89/100\n",
            "2/2 [==============================] - ETA: 0s - loss: 0.2033 - accuracy: 0.9259\n",
            "Epoch 89: val_loss improved from 0.30920 to 0.30794, saving model to best_model.h5\n",
            "2/2 [==============================] - 0s 213ms/step - loss: 0.2033 - accuracy: 0.9259 - val_loss: 0.3079 - val_accuracy: 0.9000\n",
            "Epoch 90/100\n",
            "2/2 [==============================] - ETA: 0s - loss: 0.2439 - accuracy: 0.9074\n",
            "Epoch 90: val_loss did not improve from 0.30794\n",
            "2/2 [==============================] - 0s 170ms/step - loss: 0.2439 - accuracy: 0.9074 - val_loss: 0.3086 - val_accuracy: 0.9000\n",
            "Epoch 91/100\n",
            "2/2 [==============================] - ETA: 0s - loss: 0.2332 - accuracy: 0.9074\n",
            "Epoch 91: val_loss did not improve from 0.30794\n",
            "2/2 [==============================] - 0s 167ms/step - loss: 0.2332 - accuracy: 0.9074 - val_loss: 0.3124 - val_accuracy: 0.9000\n",
            "Epoch 92/100\n",
            "2/2 [==============================] - ETA: 0s - loss: 0.2015 - accuracy: 0.9259\n",
            "Epoch 92: val_loss did not improve from 0.30794\n",
            "2/2 [==============================] - 0s 164ms/step - loss: 0.2015 - accuracy: 0.9259 - val_loss: 0.3156 - val_accuracy: 0.9000\n",
            "Epoch 93/100\n",
            "2/2 [==============================] - ETA: 0s - loss: 0.2625 - accuracy: 0.9259\n",
            "Epoch 93: val_loss did not improve from 0.30794\n",
            "2/2 [==============================] - 0s 158ms/step - loss: 0.2625 - accuracy: 0.9259 - val_loss: 0.3139 - val_accuracy: 0.9000\n",
            "Epoch 94/100\n",
            "2/2 [==============================] - ETA: 0s - loss: 0.2344 - accuracy: 0.9074\n",
            "Epoch 94: val_loss did not improve from 0.30794\n",
            "2/2 [==============================] - 0s 161ms/step - loss: 0.2344 - accuracy: 0.9074 - val_loss: 0.3090 - val_accuracy: 0.9000\n",
            "Epoch 94: early stopping\n"
          ]
        }
      ],
      "source": [
        "newparam = hytune.max['params']\n",
        "lr = newparam['lr']\n",
        "dropoutRate = newparam['dropoutRate']\n",
        "norm_rate = newparam['norm_rate']\n",
        "newparam\n",
        "\n",
        "model_tuned = EEGNett(nb_classes = 2, Chans = 30, Samples = 205,\n",
        "                       dropoutRate = newparam['dropoutRate'], kernLength = 32, F1 = 8,\n",
        "                      D = 2, F2 = 16, norm_rate = newparam['norm_rate'], dropoutType = 'Dropout')\n",
        "\n",
        "model_tuned.compile(optimizer = Adam (learning_rate = newparam['lr']),\n",
        "                  loss = 'sparse_categorical_crossentropy',\n",
        "                  metrics = 'accuracy')\n",
        "\n",
        "model_tuned.summary()\n",
        "\n",
        "callback = tf.keras.callbacks.EarlyStopping (monitor='val_loss', mode='min', verbose = 1, patience=5)\n",
        "mc = ModelCheckpoint('best_model.h5', monitor='val_loss', mode='min', verbose=1, save_best_only=True)\n",
        "\n",
        "fitted    = model_tuned.fit(x_train, y_train, validation_data = (x_val,y_val),callbacks = [callback, mc], epochs = 100, shuffle = True, verbose = 1)\n",
        "saved_model = load_model('best_model.h5')"
      ]
    },
    {
      "cell_type": "markdown",
      "source": [
        "8. Evaluate the model training process."
      ],
      "metadata": {
        "id": "YtPsLRurWSWL"
      }
    },
    {
      "cell_type": "code",
      "execution_count": 22,
      "metadata": {
        "colab": {
          "base_uri": "https://localhost:8080/",
          "height": 541
        },
        "id": "W_KaJbmI9Cbv",
        "outputId": "d0df490c-2b52-4d79-9538-7d28310bc46b"
      },
      "outputs": [
        {
          "output_type": "stream",
          "name": "stdout",
          "text": [
            "1/1 [==============================] - 0s 201ms/step - loss: 0.3079 - accuracy: 0.9000\n",
            "Validation score:  0.30794256925582886\n",
            "Validation accuracy:  0.8999999761581421\n"
          ]
        },
        {
          "output_type": "execute_result",
          "data": {
            "text/plain": [
              "Text(0, 0.5, 'Accuracy')"
            ]
          },
          "metadata": {},
          "execution_count": 22
        },
        {
          "output_type": "display_data",
          "data": {
            "text/plain": [
              "<Figure size 640x480 with 1 Axes>"
            ],
            "image/png": "[encoded data removed]"
          },
          "metadata": {}
        }
      ],
      "source": [
        "score = saved_model.evaluate(x_val, y_val)\n",
        "print(\"Validation score: \", score[0])\n",
        "print(\"Validation accuracy: \", score[1])\n",
        "\n",
        "plt.plot(fitted.history['accuracy'])\n",
        "plt.plot(fitted.history['val_accuracy'])\n",
        "plt.legend([\"accuracy\",\"val_accuracy\"])\n",
        "plt.title('Accuracy Vs Val_Accuracy')\n",
        "plt.xlabel('Epoch')\n",
        "plt.ylabel('Accuracy')\n"
      ]
    },
    {
      "cell_type": "code",
      "execution_count": 23,
      "metadata": {
        "colab": {
          "base_uri": "https://localhost:8080/",
          "height": 489
        },
        "id": "dDJkL1PULXva",
        "outputId": "e1aabba7-3ec7-406c-bba8-d2c9676e66ff"
      },
      "outputs": [
        {
          "output_type": "execute_result",
          "data": {
            "text/plain": [
              "Text(0, 0.5, 'loss')"
            ]
          },
          "metadata": {},
          "execution_count": 23
        },
        {
          "output_type": "display_data",
          "data": {
            "text/plain": [
              "<Figure size 640x480 with 1 Axes>"
            ],
            "image/png": "[encoded data removed]"
          },
          "metadata": {}
        }
      ],
      "source": [
        "plt.plot(fitted.history['loss'])\n",
        "plt.plot(fitted.history['val_loss'])\n",
        "plt.legend([\"loss\",\"val_loss\"])\n",
        "plt.title('loss Vs val_loss')\n",
        "plt.xlabel('Epoch')\n",
        "plt.ylabel('loss')"
      ]
    },
    {
      "cell_type": "markdown",
      "source": [
        "9. Plotting confusion matrix."
      ],
      "metadata": {
        "id": "re2qoCPcWXEm"
      }
    },
    {
      "cell_type": "code",
      "execution_count": 24,
      "metadata": {
        "id": "nCYQ45fDotCV",
        "colab": {
          "base_uri": "https://localhost:8080/",
          "height": 523
        },
        "outputId": "d4b22151-61ce-4213-dbe6-d55fd13c1761"
      },
      "outputs": [
        {
          "output_type": "stream",
          "name": "stdout",
          "text": [
            "Confusion matrix, without normalization\n"
          ]
        },
        {
          "output_type": "display_data",
          "data": {
            "text/plain": [
              "<Figure size 640x480 with 2 Axes>"
            ],
            "image/png": "[encoded data removed]"
          },
          "metadata": {}
        }
      ],
      "source": [
        "%matplotlib inline\n",
        "from sklearn.metrics import confusion_matrix\n",
        "import itertools\n",
        "import matplotlib.pyplot as plt\n",
        "\n",
        "predictions = saved_model.predict(x_val, batch_size=10, verbose=0)\n",
        "rounded_predictions = np.argmax(predictions, axis=-1)\n",
        "\n",
        "def plot_confusion_matrix(cm, classes,\n",
        "                        normalize=False,\n",
        "                        title='Confusion matrix',\n",
        "                        cmap=plt.cm.Reds):\n",
        "    \"\"\"\n",
        "    This function prints and plots the confusion matrix.\n",
        "    Normalization can be applied by setting `normalize=True`.\n",
        "    \"\"\"\n",
        "    plt.imshow(cm, interpolation='nearest', cmap=cmap)\n",
        "    plt.title(title)\n",
        "    plt.colorbar()\n",
        "    tick_marks = np.arange(len(classes))\n",
        "    plt.xticks(tick_marks, classes, rotation=45)\n",
        "    plt.yticks(tick_marks, classes)\n",
        "\n",
        "    if normalize:\n",
        "        cm = cm.astype('float') / cm.sum(axis=1)[:, np.newaxis]\n",
        "        print(\"Normalized confusion matrix\")\n",
        "    else:\n",
        "        print('Confusion matrix, without normalization')\n",
        "\n",
        "    thresh = cm.max() / 2.\n",
        "    for i, j in itertools.product(range(cm.shape[0]), range(cm.shape[1])):\n",
        "        plt.text(j, i, cm[i, j],\n",
        "            horizontalalignment=\"center\",\n",
        "            color=\"white\" if cm[i, j] > thresh else \"black\")\n",
        "\n",
        "    plt.tight_layout()\n",
        "    plt.ylabel('True label')\n",
        "    plt.xlabel('Predicted label')\n",
        "\n",
        "cm = confusion_matrix(y_true=y_val, y_pred=rounded_predictions)\n",
        "cm_plot_labels = ['deviant','standard']\n",
        "plot_confusion_matrix(cm=cm, classes=cm_plot_labels, title='Confusion Matrix')"
      ]
    },
    {
      "cell_type": "markdown",
      "source": [
        "10. Evaluate the model performance."
      ],
      "metadata": {
        "id": "FVFv5G7iWkp9"
      }
    },
    {
      "cell_type": "code",
      "execution_count": 25,
      "metadata": {
        "id": "Kb6bJa9b4ydO",
        "colab": {
          "base_uri": "https://localhost:8080/"
        },
        "outputId": "0f24eba5-981e-48ed-e322-1476151d07af"
      },
      "outputs": [
        {
          "output_type": "stream",
          "name": "stdout",
          "text": [
            "Model Validation P300\n",
            "*********************\n",
            "Accuracy: 0.9\n",
            "Precision:  0.8333333333333334\n",
            "Recall:  1.0\n",
            "F1 =  0.9090909090909091\n",
            "Kappa Coefficient:  0.8\n"
          ]
        }
      ],
      "source": [
        "import numpy\n",
        "import sklearn.metrics\n",
        "\n",
        "print(\"Model Validation P300\")\n",
        "print(\"*********************\")\n",
        "acc = (cm[0][0] + cm[-1][-1]) / numpy.sum(cm)\n",
        "print(\"Accuracy:\", acc)\n",
        "\n",
        "precision = sklearn.metrics.precision_score(y_true=y_val, y_pred=rounded_predictions)\n",
        "print(\"Precision: \", precision)\n",
        "\n",
        "recall = sklearn.metrics.recall_score(y_true=y_val, y_pred=rounded_predictions)\n",
        "print(\"Recall: \", recall)\n",
        "\n",
        "f1 = 2*((precision * recall)/(precision + recall))\n",
        "print(\"F1 = \", f1)\n",
        "\n",
        "kappa = sklearn.metrics.cohen_kappa_score(y1=y_val, y2=rounded_predictions)\n",
        "print (\"Kappa Coefficient: \", kappa)"
      ]
    },
    {
      "cell_type": "code",
      "source": [
        "from sklearn.metrics import roc_curve\n",
        "from sklearn.metrics import roc_auc_score\n",
        "\n",
        "\n",
        "pred_prob1 = saved_model.predict(x_val)\n",
        "\n",
        "# roc curve for models\n",
        "fpr1, tpr1, thresh1 = roc_curve(y_val, pred_prob1[:,1], pos_label=1)\n",
        "\n",
        "# roc curve for tpr = fpr\n",
        "random_probs = [0 for i in range(len(y_val))]\n",
        "p_fpr, p_tpr, _ = roc_curve(y_val, random_probs, pos_label=1)\n",
        "\n",
        "# auc scores\n",
        "auc_score1 = roc_auc_score(y_val, pred_prob1[:,1])\n",
        "\n",
        "print('AUC score: ',auc_score1)\n",
        "\n",
        "# plot roc curves\n",
        "plt.plot(fpr1, tpr1, linestyle='--',color='orange', label='P300')\n",
        "plt.plot(p_fpr, p_tpr, linestyle='--', color='blue')\n",
        "# title\n",
        "plt.title('ROC curve')\n",
        "# x label\n",
        "plt.xlabel('False Positive Rate')\n",
        "# y label\n",
        "plt.ylabel('True Positive rate')\n",
        "\n",
        "plt.legend(loc='best')\n",
        "plt.savefig('ROC',dpi=300)\n",
        "plt.show();"
      ],
      "metadata": {
        "id": "ci04X2epnKLM",
        "colab": {
          "base_uri": "https://localhost:8080/",
          "height": 507
        },
        "outputId": "5bef7db2-07dd-4df0-e591-8d1f20d07c3e"
      },
      "execution_count": 26,
      "outputs": [
        {
          "output_type": "stream",
          "name": "stdout",
          "text": [
            "1/1 [==============================] - 0s 114ms/step\n",
            "AUC score:  1.0\n"
          ]
        },
        {
          "output_type": "display_data",
          "data": {
            "text/plain": [
              "<Figure size 640x480 with 1 Axes>"
            ],
            "image/png": "[encoded data removed]"
          },
          "metadata": {}
        }
      ]
    },
    {
      "cell_type": "markdown",
      "source": [
        "11. Final validation of the model."
      ],
      "metadata": {
        "id": "DjTWnMn_WztT"
      }
    },
    {
      "cell_type": "code",
      "source": [
        "path5 = \"/tmp/dataset-main/p300_valid_x/deviant\"\n",
        "deviant_valid = glob.glob(path5 + '**/*.csv',recursive=True)\n",
        "\n",
        "path6 = \"/tmp/dataset-main/p300_valid_x/standard\"\n",
        "standard_valid = glob.glob(path6 + '**/*.csv',recursive=True)\n",
        "\n",
        "list_deviant_valid = [pd.read_csv (d3, index_col=None, header=0) for d3 in deviant_valid]\n",
        "df_deviant_valid = pd.concat(list_deviant_valid, axis=0, ignore_index=True)\n",
        "\n",
        "list_standard_valid = [pd.read_csv (s3, index_col=None, header=0) for s3 in standard_valid]\n",
        "df_standard_valid = pd.concat(list_standard_valid, axis=0, ignore_index=True)\n",
        "\n",
        "valid = [df_deviant_valid, df_standard_valid]\n",
        "validf = pd.concat(valid)\n",
        "\n",
        "validf.shape"
      ],
      "metadata": {
        "id": "d_BU-er6PkQX",
        "colab": {
          "base_uri": "https://localhost:8080/"
        },
        "outputId": "212e6509-89da-4f76-b4ff-88fc6609632a"
      },
      "execution_count": 27,
      "outputs": [
        {
          "output_type": "execute_result",
          "data": {
            "text/plain": [
              "(820, 30)"
            ]
          },
          "metadata": {},
          "execution_count": 27
        }
      ]
    },
    {
      "cell_type": "code",
      "source": [
        "dvalid = os.listdir(\"/tmp/dataset-main/p300_valid_x/deviant\")\n",
        "svalid = os.listdir(\"/tmp/dataset-main/p300_valid_x/standard\")\n",
        "yvalid = dvalid + svalid\n",
        "labels3 = []\n",
        "for filename in yvalid:\n",
        "  label3 = filename.split('.')[0]\n",
        "  if label3 == \"Rare, Correct\":\n",
        "    labels3.append(1)\n",
        "  else:\n",
        "    labels3.append(0)\n",
        "\n",
        "yvalid = pd.DataFrame({'filename': yvalid,\n",
        "                   'label3': labels3})\n",
        "yvalid.to_csv('y_valid.csv')\n",
        "y_valid = pd.read_csv('y_valid.csv')['label3'].values\n",
        "\n",
        "x_valid = validf\n",
        "x_valid = x_valid.values\n",
        "\n",
        "x_valid   = x_valid.reshape(4, 30, 205, 1)\n",
        "\n",
        "\n",
        "print(x_valid.shape)\n",
        "print(y_valid.shape)\n",
        "\n"
      ],
      "metadata": {
        "id": "qcwh2HNoPkX0",
        "colab": {
          "base_uri": "https://localhost:8080/"
        },
        "outputId": "b0048333-f8be-4d74-e372-cfae98053397"
      },
      "execution_count": 28,
      "outputs": [
        {
          "output_type": "stream",
          "name": "stdout",
          "text": [
            "(4, 30, 205, 1)\n",
            "(4,)\n"
          ]
        }
      ]
    },
    {
      "cell_type": "code",
      "source": [
        "predictions_valid = saved_model(x_valid)\n",
        "rounded_predictions_valid = np.argmax(predictions_valid, axis=-1)\n",
        "\n",
        "cm_valid= confusion_matrix(y_true=y_valid, y_pred=rounded_predictions_valid)\n",
        "cm_valid_plot_labels = ['deviant','standard']\n",
        "plot_confusion_matrix(cm=cm_valid, classes=cm_plot_labels, title='Confusion Matrix Validation')"
      ],
      "metadata": {
        "id": "3oRAdQtvPkeA",
        "colab": {
          "base_uri": "https://localhost:8080/",
          "height": 523
        },
        "outputId": "f7d4fc7a-b482-4117-aabe-6066707398f7"
      },
      "execution_count": 29,
      "outputs": [
        {
          "output_type": "stream",
          "name": "stdout",
          "text": [
            "Confusion matrix, without normalization\n"
          ]
        },
        {
          "output_type": "display_data",
          "data": {
            "text/plain": [
              "<Figure size 640x480 with 2 Axes>"
            ],
            "image/png": "[encoded data removed]"
          },
          "metadata": {}
        }
      ]
    },
    {
      "cell_type": "code",
      "source": [
        "print(\"Final Validation P300\")\n",
        "print(\"*********************\")\n",
        "acc_valid = (cm_valid[0][0] + cm_valid[-1][-1]) / numpy.sum(cm_valid)\n",
        "print(\"Accuracy:\", acc_valid)\n",
        "\n",
        "precision_valid = sklearn.metrics.precision_score(y_true=y_valid, y_pred=rounded_predictions_valid)\n",
        "print(\"Precision: \", precision_valid)\n",
        "\n",
        "recall_valid = sklearn.metrics.recall_score(y_true=y_valid, y_pred=rounded_predictions_valid)\n",
        "print(\"Recall: \", recall_valid)\n",
        "\n",
        "f1_valid = 2*((precision_valid * recall_valid)/(precision_valid + recall_valid))\n",
        "print(\"F1 = \", f1_valid)\n",
        "\n",
        "kappa_valid = sklearn.metrics.cohen_kappa_score(y1=y_valid, y2=rounded_predictions_valid)\n",
        "print (\"Kappa Coefficient: \", kappa_valid)"
      ],
      "metadata": {
        "id": "h1STjrJ6Pkjw",
        "colab": {
          "base_uri": "https://localhost:8080/"
        },
        "outputId": "c3ad4902-7d16-4ce9-d153-f8efbbb285a6"
      },
      "execution_count": 30,
      "outputs": [
        {
          "output_type": "stream",
          "name": "stdout",
          "text": [
            "Final Validation P300\n",
            "*********************\n",
            "Accuracy: 0.75\n",
            "Precision:  0.6666666666666666\n",
            "Recall:  1.0\n",
            "F1 =  0.8\n",
            "Kappa Coefficient:  0.5\n"
          ]
        }
      ]
    },
    {
      "cell_type": "code",
      "source": [
        "pred_prob2 = saved_model.predict(x_valid)\n",
        "\n",
        "# roc curve for models\n",
        "fpr2, tpr2, thresh2 = roc_curve(y_valid, pred_prob2[:,1], pos_label=1)\n",
        "\n",
        "# roc curve for tpr = fpr\n",
        "random_probs = [0 for i in range(len(y_valid))]\n",
        "p_fpr, p_tpr, _ = roc_curve(y_valid, random_probs, pos_label=1)\n",
        "\n",
        "# auc scores\n",
        "auc_score2 = roc_auc_score(y_valid, pred_prob2[:,1])\n",
        "\n",
        "print('AUC score: ',auc_score2)\n",
        "\n",
        "# plot roc curves\n",
        "plt.plot(fpr2, tpr2, linestyle='--',color='orange', label='P300')\n",
        "plt.plot(p_fpr, p_tpr, linestyle='--', color='blue')\n",
        "# title\n",
        "plt.title('ROC curve')\n",
        "# x label\n",
        "plt.xlabel('False Positive Rate')\n",
        "# y label\n",
        "plt.ylabel('True Positive rate')\n",
        "\n",
        "plt.legend(loc='best')\n",
        "plt.savefig('ROC',dpi=300)\n",
        "plt.show();"
      ],
      "metadata": {
        "colab": {
          "base_uri": "https://localhost:8080/",
          "height": 507
        },
        "id": "NsMY7nsa5wAf",
        "outputId": "23074a95-b0d1-46f3-cb57-8e7960eac1cf"
      },
      "execution_count": 31,
      "outputs": [
        {
          "output_type": "stream",
          "name": "stdout",
          "text": [
            "1/1 [==============================] - 0s 37ms/step\n",
            "AUC score:  0.75\n"
          ]
        },
        {
          "output_type": "display_data",
          "data": {
            "text/plain": [
              "<Figure size 640x480 with 1 Axes>"
            ],
            "image/png": "[encoded data removed]"
          },
          "metadata": {}
        }
      ]
    }
  ],
  "metadata": {
    "colab": {
      "provenance": [],
      "authorship_tag": "ABX9TyPWobrScF4cf/Td/G0EVpOD",
      "include_colab_link": true
    },
    "kernelspec": {
      "display_name": "Python 3",
      "name": "python3"
    },
    "language_info": {
      "name": "python"
    }
  },
  "nbformat": 4,
  "nbformat_minor": 0
}